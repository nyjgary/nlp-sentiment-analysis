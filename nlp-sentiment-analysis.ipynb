{
 "cells": [
  {
   "cell_type": "code",
   "execution_count": 331,
   "metadata": {},
   "outputs": [],
   "source": [
    "import numpy as np \n",
    "import pandas as pd \n",
    "import matplotlib.pyplot as plt\n",
    "import spacy\n",
    "import string\n",
    "import random\n",
    "import pickle as pkl\n",
    "import time \n",
    "from os import listdir \n",
    "from collections import Counter\n",
    "import torch\n",
    "from torch.utils.data import Dataset\n",
    "import torch.nn as nn\n",
    "import torch.nn.functional as F\n",
    "from tqdm import tqdm_notebook"
   ]
  },
  {
   "cell_type": "markdown",
   "metadata": {},
   "source": [
    "# Import and Process Data "
   ]
  },
  {
   "cell_type": "code",
   "execution_count": 339,
   "metadata": {},
   "outputs": [],
   "source": [
    "# helper methods to load reviews from directories \n",
    "\n",
    "def load_single_review(fdir, fname): \n",
    "    \"\"\" Takes as input file directory and file name of a single review, returns review as string \"\"\"\n",
    "    fpath = fdir + '/' + fname \n",
    "    with open(fpath, 'r') as f: \n",
    "        review = f.read()\n",
    "        return review \n",
    "    \n",
    "def load_dir_reviews(fdir): \n",
    "    \"\"\" Takes as input file directory where reviews are stored, returns them as a list of review strings \"\"\"\n",
    "    fnames = [f for f in listdir(fdir)]\n",
    "    reviews = [load_single_review(fdir, fname) for fname in fnames]\n",
    "    return reviews\n",
    "\n",
    "def combine_data(neg_reviews, pos_reviews): \n",
    "    \"\"\" Combines lists of negative and positive reviews, returns a combined dataset comprising reviews and labels \"\"\"\n",
    "    neg_with_labels = [(review, 0) for review in neg_reviews] \n",
    "    pos_with_labels = [(review, 1) for review in pos_reviews]\n",
    "    combined = neg_with_labels + pos_with_labels\n",
    "    combined = random.sample(combined, len(combined))\n",
    "    reviews = [comb[0] for comb in combined]\n",
    "    labels = [comb[1] for comb in combined]\n",
    "    return reviews, labels "
   ]
  },
  {
   "cell_type": "code",
   "execution_count": 340,
   "metadata": {},
   "outputs": [],
   "source": [
    "# load reviews into lists \n",
    "train_val_neg = load_dir_reviews('aclImdb/train/neg')\n",
    "train_val_pos = load_dir_reviews('aclImdb/train/pos')\n",
    "test_neg = load_dir_reviews('aclImdb/test/neg')\n",
    "test_pos = load_dir_reviews('aclImdb/test/pos')"
   ]
  },
  {
   "cell_type": "code",
   "execution_count": 341,
   "metadata": {},
   "outputs": [],
   "source": [
    "# randomly split train into train vs. validation sets \n",
    "train_split = int(20000 / 2) \n",
    "train_neg = train_val_neg[:train_split]\n",
    "train_pos = train_val_pos[:train_split]\n",
    "val_neg = train_val_neg[train_split:]\n",
    "val_pos = train_val_pos[train_split:]"
   ]
  },
  {
   "cell_type": "code",
   "execution_count": 342,
   "metadata": {},
   "outputs": [
    {
     "name": "stdout",
     "output_type": "stream",
     "text": [
      "Train dataset size is 20000\n",
      "Validation dataset size is 5000\n",
      "Test dataset size is 25000\n"
     ]
    }
   ],
   "source": [
    "# combine pos and neg reviews to get unified datasets \n",
    "train_data, train_labels = combine_data(train_neg, train_pos)\n",
    "val_data, val_labels = combine_data(val_neg, val_pos)\n",
    "test_data, test_labels = combine_data(test_neg, test_pos)\n",
    "print (\"Train dataset size is {}\".format(len(train_data)))\n",
    "print (\"Validation dataset size is {}\".format(len(val_data)))\n",
    "print (\"Test dataset size is {}\".format(len(test_data)))"
   ]
  },
  {
   "cell_type": "markdown",
   "metadata": {},
   "source": [
    "# Tokenization"
   ]
  },
  {
   "cell_type": "code",
   "execution_count": 344,
   "metadata": {},
   "outputs": [],
   "source": [
    "# helper functions to tokenize reviews - optimized  \n",
    "\n",
    "tokenizer = spacy.load('en_core_web_sm')\n",
    "punctuations = string.punctuation \n",
    "\n",
    "def lower_case_remove_punc(parsed):\n",
    "    \"\"\" Takes text as input and outputs a list of tokens in lowercase without punctuation \"\"\"\n",
    "    return [token.text.lower() for token in parsed if (token.text not in punctuations)]\n",
    "\n",
    "def tokenize_dataset(dataset):\n",
    "    \"\"\" Takes as input a dataset comprising a list of reviews, outputs the tokenized dataset along with \n",
    "        a list comprising all the tokens from the dataset \"\"\"\n",
    "    token_dataset = []\n",
    "    for sample in tqdm_notebook(tokenizer.pipe(dataset, \n",
    "                                               disable=['parser', 'tagger', 'ner'], batch_size=512, n_threads=1)):\n",
    "        tokens = lower_case_remove_punc(sample)\n",
    "        token_dataset.append(tokens)\n",
    "\n",
    "    return token_dataset\n",
    "\n",
    "def save_tokens_to_disk(dataset, destination_path): \n",
    "    \"\"\" Tokenize dataset as save as pickle to destination path \"\"\"\n",
    "    start_time = time.time() \n",
    "    token_dataset = tokenize_dataset(dataset)\n",
    "    with open(destination_path, \"wb\") as f: \n",
    "        pkl.dump(token_dataset, f)\n",
    "    time_elapsed = (time.time() - start_time) / 60.0 \n",
    "    print(\"Data tokenized and saved as {} in {:.1f} minutes\".format(destination_path, time_elapsed))"
   ]
  },
  {
   "cell_type": "code",
   "execution_count": 343,
   "metadata": {},
   "outputs": [],
   "source": [
    "# helper functions to tokenize reviews - slow \n",
    "\n",
    "# tokenizer = spacy.load('en_core_web_sm')\n",
    "# punctuations = string.punctuation \n",
    "\n",
    "# def tokenize(review): \n",
    "#     \"\"\" Takes review as input and outputs a list of tokens in lowercase without punctuation \"\"\" \n",
    "#     tokens = tokenizer(review)\n",
    "#     return [token.text.lower() for token in tokens if (token.text not in punctuations)]\n",
    "\n",
    "# def tokenize_dataset(dataset):\n",
    "#     \"\"\" Takes as input a dataset comprising a list of reviews, outputs the tokenized dataset along with \n",
    "#         a list comprising all the tokens from the dataset \"\"\"\n",
    "#     token_dataset = []\n",
    "#     for sample in dataset:\n",
    "#         tokens = tokenize(sample)\n",
    "#         token_dataset.append(tokens)\n",
    "#     return token_dataset \n",
    "\n",
    "# def save_tokens_to_disk(dataset, destination_path): \n",
    "#     \"\"\" Tokenize dataset as save as pickle to destination path \"\"\"\n",
    "#     start_time = time.time() \n",
    "#     token_dataset = tokenize_dataset(dataset)\n",
    "#     with open(destination_path, \"wb\") as f: \n",
    "#         pkl.dump(token_dataset, f)\n",
    "#     time_elapsed = (time.time() - start_time) / 60.0 \n",
    "#     print(\"Data tokenized and saved as {} in {:.1f} minutes\".format(destination_path, time_elapsed))"
   ]
  },
  {
   "cell_type": "code",
   "execution_count": 345,
   "metadata": {},
   "outputs": [],
   "source": [
    "# def lower_case_remove_punc(parsed):\n",
    "#     return [token.text.lower() for token in parsed if (token.text not in punctuations)]\n",
    "\n",
    "# def tokenize_dataset(dataset):\n",
    "#     token_dataset = []\n",
    "#     for sample in tqdm_notebook(tokenizer.pipe(dataset, \n",
    "#                                                disable=['parser', 'tagger', 'ner'], batch_size=512, n_threads=1)):\n",
    "#         tokens = lower_case_remove_punc(sample)\n",
    "#         token_dataset.append(tokens)\n",
    "\n",
    "#     return token_dataset\n",
    "\n",
    "# start_time = time.time() \n",
    "# token_dataset = tokenize_dataset(val_data)\n",
    "# time_elapsed = (time.time() - start_time) / 60.0 \n",
    "# print(time_elapsed)"
   ]
  },
  {
   "cell_type": "code",
   "execution_count": 346,
   "metadata": {},
   "outputs": [
    {
     "data": {
      "application/vnd.jupyter.widget-view+json": {
       "model_id": "f89fb55bfaae487eadb85167f43415cc",
       "version_major": 2,
       "version_minor": 0
      },
      "text/plain": [
       "HBox(children=(IntProgress(value=1, bar_style='info', max=1), HTML(value='')))"
      ]
     },
     "metadata": {},
     "output_type": "display_data"
    },
    {
     "name": "stdout",
     "output_type": "stream",
     "text": [
      "\n",
      "Data tokenized and saved as data/val_data_tokens.p in 0.2 minutes\n"
     ]
    },
    {
     "data": {
      "application/vnd.jupyter.widget-view+json": {
       "model_id": "5ac7c10cd034464484e676d0304fbfbc",
       "version_major": 2,
       "version_minor": 0
      },
      "text/plain": [
       "HBox(children=(IntProgress(value=1, bar_style='info', max=1), HTML(value='')))"
      ]
     },
     "metadata": {},
     "output_type": "display_data"
    },
    {
     "name": "stdout",
     "output_type": "stream",
     "text": [
      "\n",
      "Data tokenized and saved as data/train_data_tokens.p in 0.9 minutes\n"
     ]
    },
    {
     "data": {
      "application/vnd.jupyter.widget-view+json": {
       "model_id": "44d05b01ed1a42b78c6bb13029a008d1",
       "version_major": 2,
       "version_minor": 0
      },
      "text/plain": [
       "HBox(children=(IntProgress(value=1, bar_style='info', max=1), HTML(value='')))"
      ]
     },
     "metadata": {},
     "output_type": "display_data"
    },
    {
     "name": "stdout",
     "output_type": "stream",
     "text": [
      "\n",
      "Data tokenized and saved as data/test_data_tokens.p in 0.9 minutes\n"
     ]
    }
   ],
   "source": [
    "save_tokens_to_disk(val_data, \"data/val_data_tokens.p\")\n",
    "save_tokens_to_disk(train_data, \"data/train_data_tokens.p\")\n",
    "save_tokens_to_disk(test_data, \"data/test_data_tokens.p\")"
   ]
  },
  {
   "cell_type": "code",
   "execution_count": 347,
   "metadata": {},
   "outputs": [
    {
     "name": "stdout",
     "output_type": "stream",
     "text": [
      "Train dataset size is 20000\n",
      "Val dataset size is 5000\n",
      "Test dataset size is 25000\n",
      "Total number of tokens in train dataset is 4808696\n"
     ]
    }
   ],
   "source": [
    "# load saved tokens \n",
    "train_data_tokens = pkl.load(open(\"data/train_data_tokens.p\", \"rb\"))\n",
    "val_data_tokens = pkl.load(open(\"data/val_data_tokens.p\", \"rb\"))\n",
    "test_data_tokens = pkl.load(open(\"data/test_data_tokens.p\", \"rb\"))\n",
    "all_train_tokens = [item for sublist in train_data_tokens for item in sublist] \n",
    "\n",
    "# double check \n",
    "print (\"Train dataset size is {}\".format(len(train_data_tokens)))\n",
    "print (\"Val dataset size is {}\".format(len(val_data_tokens)))\n",
    "print (\"Test dataset size is {}\".format(len(test_data_tokens)))\n",
    "print (\"Total number of tokens in train dataset is {}\".format(len(all_train_tokens)))"
   ]
  },
  {
   "cell_type": "code",
   "execution_count": 348,
   "metadata": {},
   "outputs": [
    {
     "data": {
      "text/plain": [
       "(261965, 130352, 128951, 116768, 107941, 87781, 74745, 74062, 66302, 58666)"
      ]
     },
     "execution_count": 348,
     "metadata": {},
     "output_type": "execute_result"
    }
   ],
   "source": [
    "token_counter = Counter(all_train_tokens) \n",
    "vocab, count = zip(*token_counter.most_common(10))\n",
    "count"
   ]
  },
  {
   "cell_type": "code",
   "execution_count": 349,
   "metadata": {},
   "outputs": [],
   "source": [
    "# create vocabulary from 10000 most common tokens in the training set \n",
    "\n",
    "max_vocab_size = 10000 \n",
    "PAD_IDX = 0 \n",
    "UNK_IDX = 1\n",
    "\n",
    "def build_vocab(all_tokens): \n",
    "    \"\"\" Takes list of all tokens and returns:\n",
    "        - id2token: list of tokens, where id2token[i] returns token that corresponds to i-th token \n",
    "        - token2id: dictionary where keys represent tokens and corresponding values represent their indices\n",
    "    \"\"\"\n",
    "    token_counter = Counter(all_tokens)\n",
    "    vocab, count = zip(*token_counter.most_common(max_vocab_size))\n",
    "    id2token = list(vocab)\n",
    "    token2id = dict(zip(vocab, range(2, 2+len(vocab))))\n",
    "    id2token = ['<pad>', '<unk>'] + id2token \n",
    "    token2id['<pad>'] = PAD_IDX \n",
    "    token2id['<unk>'] = UNK_IDX\n",
    "    return token2id, id2token \n",
    "    \n",
    "token2id, id2token = build_vocab(all_train_tokens)"
   ]
  },
  {
   "cell_type": "code",
   "execution_count": 350,
   "metadata": {},
   "outputs": [
    {
     "name": "stdout",
     "output_type": "stream",
     "text": [
      "Token id 7162 ; token weaker\n",
      "Token weaker; token id 7162\n"
     ]
    }
   ],
   "source": [
    "# check the dictionary by loading random token from it\n",
    "\n",
    "random_token_id = random.randint(0, len(id2token)-1)\n",
    "random_token = id2token[random_token_id]\n",
    "\n",
    "print (\"Token id {} ; token {}\".format(random_token_id, id2token[random_token_id]))\n",
    "print (\"Token {}; token id {}\".format(random_token, token2id[random_token]))"
   ]
  },
  {
   "cell_type": "code",
   "execution_count": 351,
   "metadata": {},
   "outputs": [],
   "source": [
    "# convert token to id in the dataset \n",
    "\n",
    "def token2index_dataset(tokens_data): \n",
    "    indices_data = []\n",
    "    for datum in tokens_data: \n",
    "        index_list = [token2id[token] if token in token2id else UNK_IDX for token in datum]\n",
    "        indices_data.append(index_list)\n",
    "    return indices_data \n",
    "\n",
    "train_data_indices = token2index_dataset(train_data_tokens)\n",
    "val_data_indices = token2index_dataset(val_data_tokens)\n",
    "test_data_indices = token2index_dataset(test_data_tokens)"
   ]
  },
  {
   "cell_type": "code",
   "execution_count": 352,
   "metadata": {},
   "outputs": [
    {
     "name": "stdout",
     "output_type": "stream",
     "text": [
      "Train dataset size is 20000\n",
      "Val dataset size is 5000\n",
      "Test dataset size is 25000\n"
     ]
    }
   ],
   "source": [
    "# check size of data \n",
    "print (\"Train dataset size is {}\".format(len(train_data_indices)))\n",
    "print (\"Val dataset size is {}\".format(len(val_data_indices)))\n",
    "print (\"Test dataset size is {}\".format(len(test_data_indices)))"
   ]
  },
  {
   "cell_type": "code",
   "execution_count": 353,
   "metadata": {},
   "outputs": [
    {
     "name": "stdout",
     "output_type": "stream",
     "text": [
      "['if', 'you', 'were', \"n't\", 'there', 'then', 'unfortunately', 'this', 'movie', 'will', 'be', 'beyond', 'compassion', 'for', 'you', 'which', 'as', 'i', 'say', 'is', 'a', 'shame', 'because', 'although', 'some', 'of', 'the', 'acting', 'is', 'amateurish', 'it', 'is', 'meant', 'to', 'be', 'for', 'realism', 'let', \"'s\", 'face', 'it', '--', 'in', 'real', 'life', 'we', 'do', \"n't\", 'say', 'things', 'in', 'an', 'exacting', 'or', 'perfect', 'way', 'even', 'when', 'we', 'mean', 'to', 'in', 'this', 'sense', 'it', 'works', 'this', 'however', 'does', 'not', 'apply', 'to', 'our', 'known', 'actors', 'in', 'this', 'film', 'notably', 'jodie', 'foster', 'born', 'a', 'natural', 'the', 'fact', 'that', 'the', 'other', '3', 'girls', 'are', 'not', 'accomplished', 'only', 'adds', 'to', 'the', 'story', '--', 'jodie', 'plays', 'the', 'glue', 'that', 'struggles', 'to', 'keep', 'their', 'friendship', 'close', 'even', 'with', 'the', 'obvious', 'feeling', 'of', 'fatality', 'meaning', 'that', 'no', 'matter', 'how', 'close', 'friends', 'are', 'eventually', 'there', 'are', 'some', 'people', 'that', 'just', 'fade', 'away', 'no', 'matter', 'how', 'you', 'try.<br', '/><br', '/>and', 'therein', 'is', 'the', 'core', 'of', 'the', 'movie', 'it', \"'s\", 'not', 'about', 'partying', 'it', \"'s\", 'not', 'about', 'sexuality', 'but', 'about', 'these', '4', 'girls', 'and', 'their', 'final', 'time', 'as', 'still', 'young', 'girls', 'before', 'they', 'have', 'to', 'go', 'the', 'world', 'alone.<br', '/><br', '/>if', 'you', 'have', 'ever', 'had', 'a', 'friendship', 'like', 'that', 'in', 'your', 'life', 'you', 'will', 'feel', 'this', 'movie', '--', 'it', 'will', 'mean', 'a', 'lot', 'to', 'you', 'no', 'matter', 'what', 'era', 'it', 'is', 'set', 'in', 'or', 'what', 'era', 'you', 'grew', 'up', 'in', 'we', 'all', 'knew', 'these', 'girls', 'in', 'school', 'or', 'at', 'the', 'very', 'least', 'knew', 'of', 'them', 'we', 'all', 'knew', 'the', 'frustrated', 'virgin', 'half', 'wanting', 'to', 'hold', 'onto', 'childhood', 'and', 'half', 'wanting', 'desperately', 'to', 'grow', 'up', 'and', 'thinking', 'that', 'will', 'do', 'it', 'for', 'her', 'we', 'all', 'knew', 'the', 'boy', 'crazy', 'one', 'the', 'fashion', 'plate', 'whose', 'vanity', 'hides', 'her', 'fear', 'of', 'the', 'world', 'her', 'fear', 'of', 'acceptance', 'we', 'all', 'knew', 'the', 'party', 'girl', 'the', 'one', 'they', 'whispered', 'about', 'with', 'tales', 'of', 'not', 'only', 'her', 'sad', 'home', 'life', 'but', 'of', 'her', 'notorious', 'exploits', 'and', 'we', 'all', 'knew', 'the', 'mother', 'figure', 'the', 'one', 'a', 'little', 'more', 'real', 'a', 'little', 'more', 'grounded', 'a', 'little', 'more', 'sad', 'because', 'she', 'knew', 'what', 'would', 'happen', 'maybe', 'you', 'were', 'one', 'of', 'those', 'girls', 'maybe', 'like', 'me', 'you', 'had', 'been', 'each', 'one', 'at', 'one', 'time', 'or', 'another', '...', '<br', '/><br', '/>this', 'film', 'really', 'captures', 'that', 'fragile', 'time', 'in', 'life', 'when', 'want', 'needs', 'pressures', 'womanhood', 'childhood', 'the', 'world', 'and', 'loneliness', 'are', 'all', 'embodied', 'in', 'each', 'female', \"'s\", 'head', 'each', 'factor', 'on', 'the', 'precipice', 'which', 'aspect', 'do', 'you', 'hang', 'on', 'to', 'what', 'do', 'you', 'toss', 'over', 'the', 'edge', 'no', 'matter', 'how', 'you', 'may', 'want', 'to', 'hold', 'on', 'and', 'how', 'painful', 'is', 'goodbye', 'to', 'everything', 'you', \"'ve\", 'known', 'that', \"'s\", 'what', 'this', 'movie', 'is', '--', 'steps', 'into', 'womanhood', 'while', 'clinging', 'onto', 'childhood', 'and', 'how', 'damn', 'tough', 'it', 'is', 'to', 'keep', 'walking', 'if', 'you', 'were', 'there', 'you', 'know', '...', 'and', 'love', 'this', 'film', 'as', 'i', 'do', 'aching', 'and', 'tenderly', 'done', 'a', 'fine', 'piece', 'of', 'captured', 'femininity']\n",
      "[49, 23, 70, 24, 44, 99, 507, 11, 19, 83, 30, 727, 4928, 17, 23, 64, 16, 10, 135, 7, 4, 946, 85, 270, 51, 5, 2, 122, 7, 2367, 8, 7, 907, 6, 30, 17, 1947, 284, 13, 394, 8, 172, 9, 149, 119, 72, 47, 24, 135, 193, 9, 36, 1, 42, 393, 98, 61, 56, 72, 386, 6, 9, 11, 285, 8, 476, 11, 206, 75, 25, 6577, 6, 261, 546, 153, 9, 11, 21, 3906, 5769, 2383, 1425, 4, 1175, 2, 189, 12, 2, 87, 471, 567, 26, 25, 3840, 65, 1581, 6, 2, 66, 172, 5769, 296, 2, 1, 12, 3056, 6, 391, 71, 2139, 478, 61, 18, 2, 573, 538, 5, 1, 1244, 12, 59, 553, 93, 478, 369, 26, 869, 44, 26, 51, 84, 12, 43, 5414, 244, 59, 553, 93, 23, 1, 14, 807, 1, 7, 2, 2016, 5, 2, 19, 8, 13, 25, 45, 1, 8, 13, 25, 45, 3003, 20, 45, 136, 725, 567, 3, 71, 481, 60, 16, 131, 184, 567, 159, 34, 29, 6, 141, 2, 179, 9259, 14, 642, 23, 29, 127, 68, 4, 2139, 39, 12, 9, 130, 119, 23, 83, 233, 11, 19, 172, 8, 83, 386, 4, 173, 6, 23, 59, 553, 50, 992, 8, 7, 264, 9, 42, 50, 992, 23, 2023, 58, 9, 72, 32, 677, 136, 567, 9, 389, 42, 33, 2, 55, 218, 677, 5, 102, 72, 32, 677, 2, 3503, 2937, 326, 1733, 6, 1062, 1592, 1497, 3, 326, 1733, 2707, 6, 2172, 58, 3, 532, 12, 83, 47, 8, 17, 41, 72, 32, 677, 2, 423, 920, 31, 2, 1636, 7831, 596, 6810, 5930, 41, 1108, 5, 2, 179, 41, 1108, 5, 5770, 72, 32, 677, 2, 1089, 240, 2, 31, 34, 1, 45, 18, 2870, 5, 25, 65, 41, 667, 348, 119, 20, 5, 41, 2619, 6370, 3, 72, 32, 677, 2, 415, 787, 2, 31, 4, 123, 54, 149, 4, 123, 54, 9720, 4, 123, 54, 667, 85, 53, 677, 50, 57, 616, 286, 23, 70, 31, 5, 148, 567, 286, 39, 74, 23, 68, 81, 254, 31, 33, 31, 60, 42, 171, 79, 493, 14, 290, 21, 67, 2349, 12, 6924, 60, 9, 119, 56, 182, 716, 1, 1, 1497, 2, 179, 3, 5486, 26, 32, 1, 9, 254, 645, 13, 416, 254, 2479, 22, 2, 1, 64, 1248, 47, 23, 3323, 22, 6, 50, 47, 23, 8847, 125, 2, 1280, 59, 553, 93, 23, 196, 182, 6, 1062, 22, 3, 93, 1355, 7, 7158, 6, 283, 23, 146, 546, 12, 13, 50, 11, 19, 7, 172, 3177, 88, 1, 143, 1, 1592, 1497, 3, 93, 1576, 1170, 8, 7, 6, 391, 1306, 49, 23, 70, 44, 23, 126, 79, 3, 120, 11, 21, 16, 10, 47, 1, 3, 1, 221, 4, 466, 417, 5, 2017, 1]\n"
     ]
    }
   ],
   "source": [
    "# check tokenization of dataset \n",
    "print(train_data_tokens[0])\n",
    "print(train_data_indices[0])"
   ]
  },
  {
   "cell_type": "markdown",
   "metadata": {},
   "source": [
    "# DataLoader"
   ]
  },
  {
   "cell_type": "code",
   "execution_count": 354,
   "metadata": {},
   "outputs": [],
   "source": [
    "# define custom dataset class and collate function for data loader \n",
    "\n",
    "class MovieReviewsDataset(Dataset): \n",
    "    \"\"\" \n",
    "    Class that represents a train/validation/test dataset that's readable for PyTorch\n",
    "    Note that this class inherits torch.utils.data.Dataset\n",
    "    \"\"\"\n",
    "    \n",
    "    def __init__(self, data_list, label_list): \n",
    "        \"\"\" \n",
    "        Initialize dataset by passing in a list of movie review tokens and a list of labels \n",
    "        \"\"\"\n",
    "        self.data_list = data_list \n",
    "        self.label_list = label_list \n",
    "        assert (len(self.data_list) == len(self.label_list))\n",
    "        \n",
    "    def __len__(self): \n",
    "        return len(self.data_list)\n",
    "    \n",
    "    def __getitem__(self, key): \n",
    "        \"\"\"\n",
    "        Triggered when dataset[i] is called, outputs a list of tokens, length of list, and label of the data point\n",
    "        \"\"\"\n",
    "        token_idx = self.data_list[key][:MAX_SENTENCE_LENGTH]\n",
    "        label = self.label_list[key]\n",
    "        return [token_idx, len(token_idx), label]\n",
    "    \n",
    "def collate_func(batch): \n",
    "    \"\"\" \n",
    "    Customized function for DataLoader that dynamically pads the batch so that the data have the same length\n",
    "    \"\"\"\n",
    "    data_list = [] \n",
    "    label_list = [] \n",
    "    length_list = [] \n",
    "    \n",
    "    for datum in batch:         \n",
    "        label_list.append(datum[2])\n",
    "        length_list.append(datum[1])\n",
    "        # pad data before appending \n",
    "        padded_vec = np.pad(array = np.array(datum[0]), \n",
    "                            pad_width = ((0, MAX_SENTENCE_LENGTH - datum[1])), \n",
    "                            mode = 'constant', \n",
    "                            constant_values = 0)\n",
    "        data_list.append(padded_vec)\n",
    "        \n",
    "    return [torch.from_numpy(np.array(data_list)), torch.LongTensor(length_list), torch.LongTensor(label_list)]"
   ]
  },
  {
   "cell_type": "code",
   "execution_count": 355,
   "metadata": {},
   "outputs": [],
   "source": [
    "# create data loaders for train/val/test datasets \n",
    "\n",
    "MAX_SENTENCE_LENGTH = 200 \n",
    "BATCH_SIZE = 32\n",
    "\n",
    "train_dataset = MovieReviewsDataset(train_data_indices, train_labels) \n",
    "train_loader = torch.utils.data.DataLoader(dataset = train_dataset, batch_size = BATCH_SIZE, \n",
    "                                           collate_fn = collate_func, shuffle = True)\n",
    "\n",
    "val_dataset = MovieReviewsDataset(val_data_indices, val_labels) \n",
    "val_loader = torch.utils.data.DataLoader(dataset = val_dataset, batch_size = BATCH_SIZE, \n",
    "                                         collate_fn = collate_func, shuffle = True)\n",
    "\n",
    "test_dataset = MovieReviewsDataset(test_data_indices, test_labels) \n",
    "test_loader = torch.utils.data.DataLoader(dataset = test_dataset, batch_size = BATCH_SIZE, \n",
    "                                          collate_fn = collate_func, shuffle = True)"
   ]
  },
  {
   "cell_type": "code",
   "execution_count": 356,
   "metadata": {},
   "outputs": [
    {
     "name": "stdout",
     "output_type": "stream",
     "text": [
      "Printing a sample datum (of data length 200):\n",
      "Data is: tensor([  10,  200,   11,  683,   48,    5,  305,   32,  683, 3682,   26,   17,\n",
      "           1,   37, 1620,    4,   55,  525,  264,    5,   28, 1535,  249,  817,\n",
      "         507,    2,  496,    5,    2,  373,  160,    3,  793,    7,    1,   22,\n",
      "           2, 3740,   72,   29, 3351,  354,  394,  659,    5,    1,  124,   27,\n",
      "          80,  220,   30,  399,  232,  633,    4, 7553,  383,   72,   47,   24,\n",
      "          69,   28,  967,   22,    2, 5700,   12,  937,    2,  215,   90,   72,\n",
      "         187,  345,  930,  659,    5,    1,   38,  477,   44,  733,    6,   30,\n",
      "         289, 4000,   22,    1,   20, 2318, 7223, 8884,   32,    5,  102,    2,\n",
      "         227,    9, 1042,    5,    1,  188,    6,   30, 6264,    6, 6728,   28,\n",
      "        1134,    1,   45,    2,  825,   16,   49,    1,   22,    2, 5700,    7,\n",
      "           4, 2576, 7454,  143,    2,  227,  477,    7,    1,   22,    1,    9,\n",
      "          22,    4,  166, 4719,    9,    2,    1,   77,  167,    1,    2, 1056,\n",
      "        5700,  160,   12,  937, 8581,   48,    2,    1,    2,  464, 4782,    7,\n",
      "          52, 1247,    6,    1,    1,    1,   22,    2, 4412,   26, 3064,    5,\n",
      "        1431, 5042,    1,  425, 2344,  550,   22, 4412,   39, 1877, 1044,  592,\n",
      "         428,    5,   21,   49,    1,   68, 1499,   61,  171,  111,  154, 5912,\n",
      "           7,   31,    5,  148,  193,   12,   57,  117])\n",
      "Label is 0\n"
     ]
    }
   ],
   "source": [
    "# test data loader on training data \n",
    "for i, (data, lengths, labels) in enumerate(train_loader):\n",
    "    print (\"Printing a sample datum (of data length {}):\".format(lengths[0]))\n",
    "    print (\"Data is: {}\".format((data[0])))\n",
    "    print (\"Label is {}\".format((labels[0])))\n",
    "    break "
   ]
  },
  {
   "cell_type": "markdown",
   "metadata": {},
   "source": [
    "# Bag-Of-Words Model"
   ]
  },
  {
   "cell_type": "code",
   "execution_count": 357,
   "metadata": {},
   "outputs": [],
   "source": [
    "# Define model architecture and helper methods \n",
    "\n",
    "class BagOfWords(nn.Module): \n",
    "    \"\"\" \n",
    "    BagOfWords classification model \n",
    "    \"\"\"\n",
    "    \n",
    "    def __init__(self, vocab_size, emb_dim): \n",
    "        \"\"\" \n",
    "        @param vocab_size: size of the vocabulary \n",
    "        @param emd_dim: size of the word embedding \n",
    "        \"\"\"\n",
    "        super().__init__() \n",
    "        self.embed = nn.Embedding(vocab_size, emb_dim, padding_idx=0)\n",
    "        self.linear = nn.Linear(emb_dim, 2)\n",
    "        \n",
    "    def forward(self, data, length): \n",
    "        \"\"\" \n",
    "        @param data: matrix of size (batch_size, max_sentence_length). Each row in data represents a review\n",
    "            that is represented using n-gram index. Note that they are padded to have the same length. \n",
    "        @param length: an int tensor of size (batch_size), which represents the non-trivial (i.e. non-padded)\n",
    "            length of each sentence in the data \n",
    "        \"\"\"\n",
    "        out = self.embed(data)\n",
    "        out = torch.sum(out, dim=1)\n",
    "        out /= length.view(length.size()[0],1).expand_as(out).float()\n",
    "        \n",
    "        # return logits\n",
    "        out = self.linear(out.float())\n",
    "\n",
    "        return out\n",
    "    \n",
    "def test_model(loader, model): \n",
    "    \"\"\" \n",
    "    Helper function that tests the model's performance on a given dataset \n",
    "    @param: loader = data loader for the dataset to test against \n",
    "    \"\"\"\n",
    "    correct = 0 \n",
    "    total = 0 \n",
    "    model.eval() \n",
    "    \n",
    "    for data_batch, length_batch, label_batch in loader: \n",
    "        outputs = F.softmax(model(data_batch, length_batch), dim=1)\n",
    "        predictions = outputs.max(1, keepdim=True)[1]    \n",
    "        total += label_batch.size(0)\n",
    "        correct += predictions.eq(label_batch.view_as(predictions)).sum().item()\n",
    "        \n",
    "    return (100 * correct / total)"
   ]
  },
  {
   "cell_type": "code",
   "execution_count": 358,
   "metadata": {},
   "outputs": [],
   "source": [
    "# Loss function and hyperparameters \n",
    "emb_dim = 100\n",
    "model = BagOfWords(len(id2token), emb_dim)\n",
    "learning_rate = 0.01 \n",
    "num_epochs = 2\n",
    "criterion = torch.nn.CrossEntropyLoss() \n",
    "optimizer = torch.optim.Adam(model.parameters(), lr=learning_rate)"
   ]
  },
  {
   "cell_type": "code",
   "execution_count": 359,
   "metadata": {},
   "outputs": [
    {
     "name": "stdout",
     "output_type": "stream",
     "text": [
      "Epoch: [1/2], Step: [100/625], Total Steps: 100, Validation Acc: 80.04, Train Acc: 82.255\n",
      "Epoch: [1/2], Step: [200/625], Total Steps: 200, Validation Acc: 83.3, Train Acc: 87.06\n",
      "Epoch: [1/2], Step: [300/625], Total Steps: 300, Validation Acc: 83.86, Train Acc: 88.745\n",
      "Epoch: [1/2], Step: [400/625], Total Steps: 400, Validation Acc: 84.1, Train Acc: 90.835\n",
      "Epoch: [1/2], Step: [500/625], Total Steps: 500, Validation Acc: 84.34, Train Acc: 91.795\n",
      "Epoch: [1/2], Step: [600/625], Total Steps: 600, Validation Acc: 84.4, Train Acc: 92.375\n",
      "Epoch: [2/2], Step: [100/625], Total Steps: 725, Validation Acc: 83.64, Train Acc: 93.295\n",
      "Epoch: [2/2], Step: [200/625], Total Steps: 825, Validation Acc: 83.2, Train Acc: 93.47\n",
      "Epoch: [2/2], Step: [300/625], Total Steps: 925, Validation Acc: 83.12, Train Acc: 94.005\n",
      "Epoch: [2/2], Step: [400/625], Total Steps: 1025, Validation Acc: 83.28, Train Acc: 94.485\n",
      "Epoch: [2/2], Step: [500/625], Total Steps: 1125, Validation Acc: 83.76, Train Acc: 94.99\n",
      "Epoch: [2/2], Step: [600/625], Total Steps: 1225, Validation Acc: 82.78, Train Acc: 95.58\n"
     ]
    }
   ],
   "source": [
    "# Train and Evaluate on Validation Set \n",
    "\n",
    "total_steps = 0 \n",
    "results = []\n",
    "\n",
    "for epoch in range(num_epochs):\n",
    "    for i, (data_batch, length_batch, label_batch) in enumerate(train_loader):\n",
    "        model.train()\n",
    "        optimizer.zero_grad()\n",
    "        outputs = model(data_batch, length_batch)\n",
    "        loss = criterion(outputs, label_batch)\n",
    "        loss.backward()\n",
    "        optimizer.step()\n",
    "        # validate every 100 iterations\n",
    "        if i > 0 and (i+1) % 100 == 0:\n",
    "            total_steps = epoch * 625 + (i+1) \n",
    "            train_acc = test_model(train_loader, model) # report train accuracy \n",
    "            val_acc = test_model(val_loader, model) # report validation accuracy \n",
    "            result = {} \n",
    "            result['step'] = total_steps \n",
    "            result['train_acc'] = train_acc\n",
    "            result['val_acc'] = val_acc        \n",
    "            results.append(result)\n",
    "            print('Epoch: [{}/{}], Step: [{}/{}], Total Steps: {}, Validation Acc: {}, Train Acc: {}'.format( \n",
    "                       epoch+1, num_epochs, i+1, len(train_loader), total_steps, val_acc, train_acc))"
   ]
  },
  {
   "cell_type": "code",
   "execution_count": 360,
   "metadata": {},
   "outputs": [
    {
     "data": {
      "text/plain": [
       "<matplotlib.axes._subplots.AxesSubplot at 0x133bc4f28>"
      ]
     },
     "execution_count": 360,
     "metadata": {},
     "output_type": "execute_result"
    },
    {
     "data": {
      "image/png": "[encoded data removed]",
      "text/plain": [
       "<Figure size 432x288 with 1 Axes>"
      ]
     },
     "metadata": {
      "needs_background": "light"
     },
     "output_type": "display_data"
    }
   ],
   "source": [
    "# learning curve \n",
    "results_df = pd.DataFrame.from_dict(results)\n",
    "results_df = results_df.set_index('step')\n",
    "results_df.plot()"
   ]
  },
  {
   "cell_type": "markdown",
   "metadata": {},
   "source": [
    "# Varying Preprocessing and Hyperparameters"
   ]
  },
  {
   "cell_type": "code",
   "execution_count": null,
   "metadata": {},
   "outputs": [],
   "source": []
  }
 ],
 "metadata": {
  "kernelspec": {
   "display_name": "Python 3",
   "language": "python",
   "name": "python3"
  },
  "language_info": {
   "codemirror_mode": {
    "name": "ipython",
    "version": 3
   },
   "file_extension": ".py",
   "mimetype": "text/x-python",
   "name": "python",
   "nbconvert_exporter": "python",
   "pygments_lexer": "ipython3",
   "version": "3.6.6"
  }
 },
 "nbformat": 4,
 "nbformat_minor": 2
}
