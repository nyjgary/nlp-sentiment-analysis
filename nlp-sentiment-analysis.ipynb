{
 "cells": [
  {
   "cell_type": "code",
   "execution_count": 481,
   "metadata": {},
   "outputs": [],
   "source": [
    "import numpy as np \n",
    "import pandas as pd \n",
    "import matplotlib.pyplot as plt\n",
    "import spacy\n",
    "import string\n",
    "import random\n",
    "import pickle as pkl\n",
    "import time \n",
    "from os import listdir \n",
    "from collections import Counter\n",
    "import torch\n",
    "from torch.utils.data import Dataset\n",
    "import torch.nn as nn\n",
    "import torch.nn.functional as F\n",
    "from tqdm import tqdm_notebook\n",
    "import nltk"
   ]
  },
  {
   "cell_type": "markdown",
   "metadata": {},
   "source": [
    "# Import and Process Data "
   ]
  },
  {
   "cell_type": "code",
   "execution_count": 339,
   "metadata": {},
   "outputs": [],
   "source": [
    "# helper methods to load reviews from directories \n",
    "\n",
    "def load_single_review(fdir, fname): \n",
    "    \"\"\" Takes as input file directory and file name of a single review, returns review as string \"\"\"\n",
    "    fpath = fdir + '/' + fname \n",
    "    with open(fpath, 'r') as f: \n",
    "        review = f.read()\n",
    "        return review \n",
    "    \n",
    "def load_dir_reviews(fdir): \n",
    "    \"\"\" Takes as input file directory where reviews are stored, returns them as a list of review strings \"\"\"\n",
    "    fnames = [f for f in listdir(fdir)]\n",
    "    reviews = [load_single_review(fdir, fname) for fname in fnames]\n",
    "    return reviews\n",
    "\n",
    "def combine_data(neg_reviews, pos_reviews): \n",
    "    \"\"\" Combines lists of negative and positive reviews, returns a combined dataset comprising reviews and labels \"\"\"\n",
    "    neg_with_labels = [(review, 0) for review in neg_reviews] \n",
    "    pos_with_labels = [(review, 1) for review in pos_reviews]\n",
    "    combined = neg_with_labels + pos_with_labels\n",
    "    combined = random.sample(combined, len(combined))\n",
    "    reviews = [comb[0] for comb in combined]\n",
    "    labels = [comb[1] for comb in combined]\n",
    "    return reviews, labels "
   ]
  },
  {
   "cell_type": "code",
   "execution_count": 340,
   "metadata": {},
   "outputs": [],
   "source": [
    "# load reviews into lists \n",
    "train_val_neg = load_dir_reviews('aclImdb/train/neg')\n",
    "train_val_pos = load_dir_reviews('aclImdb/train/pos')\n",
    "test_neg = load_dir_reviews('aclImdb/test/neg')\n",
    "test_pos = load_dir_reviews('aclImdb/test/pos')"
   ]
  },
  {
   "cell_type": "code",
   "execution_count": 341,
   "metadata": {},
   "outputs": [],
   "source": [
    "# randomly split train into train vs. validation sets \n",
    "train_split = int(20000 / 2) \n",
    "train_neg = train_val_neg[:train_split]\n",
    "train_pos = train_val_pos[:train_split]\n",
    "val_neg = train_val_neg[train_split:]\n",
    "val_pos = train_val_pos[train_split:]"
   ]
  },
  {
   "cell_type": "code",
   "execution_count": 342,
   "metadata": {},
   "outputs": [
    {
     "name": "stdout",
     "output_type": "stream",
     "text": [
      "Train dataset size is 20000\n",
      "Validation dataset size is 5000\n",
      "Test dataset size is 25000\n"
     ]
    }
   ],
   "source": [
    "# combine pos and neg reviews to get unified datasets \n",
    "train_data, train_labels = combine_data(train_neg, train_pos)\n",
    "val_data, val_labels = combine_data(val_neg, val_pos)\n",
    "test_data, test_labels = combine_data(test_neg, test_pos)\n",
    "print (\"Train dataset size is {}\".format(len(train_data)))\n",
    "print (\"Validation dataset size is {}\".format(len(val_data)))\n",
    "print (\"Test dataset size is {}\".format(len(test_data)))"
   ]
  },
  {
   "cell_type": "markdown",
   "metadata": {},
   "source": [
    "# Tokenization"
   ]
  },
  {
   "cell_type": "code",
   "execution_count": 627,
   "metadata": {},
   "outputs": [],
   "source": [
    "# helper functions to tokenize reviews - optimized  \n",
    "\n",
    "tokenizer = spacy.load('en_core_web_sm')\n",
    "punctuations = string.punctuation \n",
    "spacy_stop_words = tokenizer.Defaults.stop_words\n",
    "nltk_stop_words = nltk.corpus.stopwords.words('english')\n",
    "\n",
    "def lower_case_remove_punc_nltk_stopwords_lemmatize(parsed):\n",
    "    \"\"\" Takes text as input and outputs a list of tokens in lowercase without punctuation \"\"\"\n",
    "    return [token.lemma_.lower() for token in parsed \n",
    "            if (token.text not in punctuations and token.lemma_.lower() not in nltk_stop_words)]\n",
    "\n",
    "def lower_case_remove_punc_nltk_stopwords(parsed):\n",
    "    \"\"\" Takes text as input and outputs a list of tokens in lowercase without punctuation \"\"\"\n",
    "    return [token.text.lower() for token in parsed \n",
    "            if (token.text not in punctuations and token.text.lower() not in nltk_stop_words)]\n",
    "\n",
    "def lower_case_remove_punc_spacy_stopwords(parsed):\n",
    "    \"\"\" Takes text as input and outputs a list of tokens in lowercase without punctuation \"\"\"\n",
    "    return [token.text.lower() for token in parsed \n",
    "            if (token.text not in punctuations and token.text.lower() not in spacy_stop_words)]\n",
    "\n",
    "def lower_case_remove_punc(parsed):\n",
    "    \"\"\" Takes text as input and outputs a list of tokens in lowercase without punctuation \"\"\"\n",
    "    return [token.text.lower() for token in parsed if (token.text not in punctuations)]\n",
    "\n",
    "def lower_case(parsed):\n",
    "    \"\"\" Takes text as input and outputs a list of tokens in lowercase without punctuation \"\"\"\n",
    "    return [token.text.lower() for token in parsed]\n",
    "\n",
    "def tokenize_dataset(dataset):\n",
    "    \"\"\" Takes as input a dataset comprising a list of reviews, outputs the tokenized dataset along with \n",
    "        a list comprising all the tokens from the dataset \"\"\"\n",
    "    token_dataset = []\n",
    "    for sample in tqdm_notebook(tokenizer.pipe(dataset, \n",
    "                                               disable=['parser', 'tagger', 'ner'], batch_size=512, n_threads=1)):\n",
    "#        tokens = lower_case_remove_punc_nltk_stopwords_lemmatize(sample)\n",
    "#        tokens = lower_case_remove_punc_nltk_stopwords(sample)\n",
    "#        tokens = lower_case_remove_punc_spacy_stopwords(sample)\n",
    "#        tokens = lower_case_remove_punc(sample)\n",
    "        tokens = lower_case(sample)\n",
    "        token_dataset.append(tokens)\n",
    "\n",
    "    return token_dataset\n",
    "\n",
    "def save_tokens_to_disk(dataset, destination_path): \n",
    "    \"\"\" Tokenize dataset as save as pickle to destination path \"\"\"\n",
    "    start_time = time.time() \n",
    "    token_dataset = tokenize_dataset(dataset)\n",
    "    with open(destination_path, \"wb\") as f: \n",
    "        pkl.dump(token_dataset, f)\n",
    "    time_elapsed = (time.time() - start_time) / 60.0 \n",
    "    print(\"Data tokenized and saved as {} in {:.1f} minutes\".format(destination_path, time_elapsed))"
   ]
  },
  {
   "cell_type": "code",
   "execution_count": 628,
   "metadata": {},
   "outputs": [
    {
     "data": {
      "application/vnd.jupyter.widget-view+json": {
       "model_id": "c0fadc672e3b4b78a2af77524287c89d",
       "version_major": 2,
       "version_minor": 0
      },
      "text/plain": [
       "HBox(children=(IntProgress(value=1, bar_style='info', max=1), HTML(value='')))"
      ]
     },
     "metadata": {},
     "output_type": "display_data"
    },
    {
     "name": "stdout",
     "output_type": "stream",
     "text": [
      "\n",
      "Data tokenized and saved as data/val_data_tokens.p in 0.2 minutes\n"
     ]
    },
    {
     "data": {
      "application/vnd.jupyter.widget-view+json": {
       "model_id": "1e85e742268b48bcac9a2357958b333c",
       "version_major": 2,
       "version_minor": 0
      },
      "text/plain": [
       "HBox(children=(IntProgress(value=1, bar_style='info', max=1), HTML(value='')))"
      ]
     },
     "metadata": {},
     "output_type": "display_data"
    },
    {
     "name": "stdout",
     "output_type": "stream",
     "text": [
      "\n",
      "Data tokenized and saved as data/train_data_tokens.p in 0.7 minutes\n"
     ]
    },
    {
     "data": {
      "application/vnd.jupyter.widget-view+json": {
       "model_id": "79dad54c89b54c31a5e88149435205c2",
       "version_major": 2,
       "version_minor": 0
      },
      "text/plain": [
       "HBox(children=(IntProgress(value=1, bar_style='info', max=1), HTML(value='')))"
      ]
     },
     "metadata": {},
     "output_type": "display_data"
    },
    {
     "name": "stdout",
     "output_type": "stream",
     "text": [
      "\n",
      "Data tokenized and saved as data/test_data_tokens.p in 0.7 minutes\n"
     ]
    }
   ],
   "source": [
    "save_tokens_to_disk(val_data, \"data/val_data_tokens.p\")\n",
    "save_tokens_to_disk(train_data, \"data/train_data_tokens.p\")\n",
    "save_tokens_to_disk(test_data, \"data/test_data_tokens.p\")"
   ]
  },
  {
   "cell_type": "code",
   "execution_count": 629,
   "metadata": {},
   "outputs": [
    {
     "name": "stdout",
     "output_type": "stream",
     "text": [
      "Train dataset size is 20000\n",
      "Val dataset size is 5000\n",
      "Test dataset size is 25000\n",
      "Total number of tokens in train dataset is 5439615\n"
     ]
    }
   ],
   "source": [
    "# load saved tokens \n",
    "train_data_tokens = pkl.load(open(\"data/train_data_tokens.p\", \"rb\"))\n",
    "val_data_tokens = pkl.load(open(\"data/val_data_tokens.p\", \"rb\"))\n",
    "test_data_tokens = pkl.load(open(\"data/test_data_tokens.p\", \"rb\"))\n",
    "all_train_tokens = [item for sublist in train_data_tokens for item in sublist] \n",
    "\n",
    "# double check \n",
    "print (\"Train dataset size is {}\".format(len(train_data_tokens)))\n",
    "print (\"Val dataset size is {}\".format(len(val_data_tokens)))\n",
    "print (\"Test dataset size is {}\".format(len(test_data_tokens)))\n",
    "print (\"Total number of tokens in train dataset is {}\".format(len(all_train_tokens)))"
   ]
  },
  {
   "cell_type": "code",
   "execution_count": 630,
   "metadata": {},
   "outputs": [
    {
     "data": {
      "text/plain": [
       "(261965, 219805, 188590, 130352, 128951, 116768, 107941, 87781, 74745, 74062)"
      ]
     },
     "execution_count": 630,
     "metadata": {},
     "output_type": "execute_result"
    }
   ],
   "source": [
    "token_counter = Counter(all_train_tokens) \n",
    "vocab, count = zip(*token_counter.most_common(10))\n",
    "count"
   ]
  },
  {
   "cell_type": "code",
   "execution_count": 631,
   "metadata": {},
   "outputs": [],
   "source": [
    "# create vocabulary from 10000 most common tokens in the training set \n",
    "\n",
    "PAD_IDX = 0 \n",
    "UNK_IDX = 1\n",
    "\n",
    "def build_vocab(all_tokens, max_vocab_size=10000): \n",
    "    \"\"\" Takes list of all tokens and returns:\n",
    "        - id2token: list of tokens, where id2token[i] returns token that corresponds to i-th token \n",
    "        - token2id: dictionary where keys represent tokens and corresponding values represent their indices\n",
    "    \"\"\"\n",
    "    token_counter = Counter(all_tokens)\n",
    "    vocab, count = zip(*token_counter.most_common(max_vocab_size))\n",
    "    id2token = list(vocab)\n",
    "    token2id = dict(zip(vocab, range(2, 2+len(vocab))))\n",
    "    id2token = ['<pad>', '<unk>'] + id2token \n",
    "    token2id['<pad>'] = PAD_IDX \n",
    "    token2id['<unk>'] = UNK_IDX\n",
    "    return token2id, id2token \n",
    "    \n",
    "token2id, id2token = build_vocab(all_train_tokens, max_vocab_size = 10000)"
   ]
  },
  {
   "cell_type": "code",
   "execution_count": 632,
   "metadata": {},
   "outputs": [
    {
     "name": "stdout",
     "output_type": "stream",
     "text": [
      "Token id 4594 ; token swim\n",
      "Token swim; token id 4594\n"
     ]
    }
   ],
   "source": [
    "# check the dictionary by loading random token from it\n",
    "\n",
    "random_token_id = random.randint(0, len(id2token)-1)\n",
    "random_token = id2token[random_token_id]\n",
    "\n",
    "print (\"Token id {} ; token {}\".format(random_token_id, id2token[random_token_id]))\n",
    "print (\"Token {}; token id {}\".format(random_token, token2id[random_token]))"
   ]
  },
  {
   "cell_type": "code",
   "execution_count": 633,
   "metadata": {},
   "outputs": [],
   "source": [
    "# convert token to id in the dataset \n",
    "\n",
    "def token2index_dataset(tokens_data): \n",
    "    indices_data = []\n",
    "    for datum in tokens_data: \n",
    "        index_list = [token2id[token] if token in token2id else UNK_IDX for token in datum]\n",
    "        indices_data.append(index_list)\n",
    "    return indices_data \n",
    "\n",
    "train_data_indices = token2index_dataset(train_data_tokens)\n",
    "val_data_indices = token2index_dataset(val_data_tokens)\n",
    "test_data_indices = token2index_dataset(test_data_tokens)"
   ]
  },
  {
   "cell_type": "code",
   "execution_count": 634,
   "metadata": {},
   "outputs": [
    {
     "name": "stdout",
     "output_type": "stream",
     "text": [
      "Train dataset size is 20000\n",
      "Val dataset size is 5000\n",
      "Test dataset size is 25000\n"
     ]
    }
   ],
   "source": [
    "# check size of data \n",
    "print (\"Train dataset size is {}\".format(len(train_data_indices)))\n",
    "print (\"Val dataset size is {}\".format(len(val_data_indices)))\n",
    "print (\"Test dataset size is {}\".format(len(test_data_indices)))"
   ]
  },
  {
   "cell_type": "code",
   "execution_count": 635,
   "metadata": {},
   "outputs": [
    {
     "name": "stdout",
     "output_type": "stream",
     "text": [
      "['if', 'you', 'were', \"n't\", 'there', ',', 'then', 'unfortunately', 'this', 'movie', 'will', 'be', 'beyond', 'compassion', 'for', 'you', '.', 'which', 'as', 'i', 'say', 'is', 'a', 'shame', 'because', 'although', 'some', 'of', 'the', 'acting', 'is', 'amateurish', ',', 'it', 'is', 'meant', 'to', 'be', 'for', 'realism', '.', 'let', \"'s\", 'face', 'it', '--', 'in', 'real', 'life', ',', 'we', 'do', \"n't\", 'say', 'things', 'in', 'an', 'exacting', 'or', 'perfect', 'way', ',', 'even', 'when', 'we', 'mean', 'to', '.', 'in', 'this', 'sense', ',', 'it', 'works', '.', 'this', ',', 'however', ',', 'does', 'not', 'apply', 'to', 'our', '\"', 'known', '\"', 'actors', 'in', 'this', 'film', ',', 'notably', 'jodie', 'foster', '(', 'born', 'a', 'natural', ')', '.', 'the', 'fact', 'that', 'the', 'other', '3', 'girls', 'are', 'not', 'accomplished', 'only', 'adds', 'to', 'the', 'story', '--', 'jodie', 'plays', 'the', 'glue', 'that', 'struggles', 'to', 'keep', 'their', 'friendship', 'close', ',', 'even', 'with', 'the', 'obvious', 'feeling', 'of', 'fatality', '.', 'meaning', 'that', 'no', 'matter', 'how', 'close', 'friends', 'are', ',', 'eventually', 'there', 'are', 'some', 'people', 'that', 'just', 'fade', 'away', ',', 'no', 'matter', 'how', 'you', 'try.<br', '/><br', '/>and', 'therein', 'is', 'the', 'core', 'of', 'the', 'movie', '.', 'it', \"'s\", 'not', 'about', 'partying', ',', 'it', \"'s\", 'not', 'about', 'sexuality', ',', 'but', 'about', 'these', '4', 'girls', 'and', 'their', 'final', 'time', 'as', 'still', 'young', 'girls', 'before', 'they', 'have', 'to', 'go', 'the', 'world', 'alone.<br', '/><br', '/>if', 'you', 'have', 'ever', 'had', 'a', 'friendship', 'like', 'that', 'in', 'your', 'life', ',', 'you', 'will', 'feel', 'this', 'movie', '--', 'it', 'will', 'mean', 'a', 'lot', 'to', 'you', ',', 'no', 'matter', 'what', 'era', 'it', 'is', 'set', 'in', ',', 'or', 'what', 'era', 'you', 'grew', 'up', 'in', '.', 'we', 'all', 'knew', 'these', 'girls', 'in', 'school', ',', 'or', 'at', 'the', 'very', 'least', 'knew', 'of', 'them', '.', 'we', 'all', 'knew', 'the', 'frustrated', 'virgin', ',', 'half', 'wanting', 'to', 'hold', 'onto', 'childhood', 'and', 'half', 'wanting', 'desperately', 'to', 'grow', 'up', 'and', 'thinking', 'that', 'will', 'do', 'it', 'for', 'her', '.', 'we', 'all', 'knew', 'the', 'boy', '-', 'crazy', 'one', ',', 'the', 'fashion', 'plate', 'whose', 'vanity', 'hides', 'her', 'fear', 'of', 'the', 'world', ',', 'her', 'fear', 'of', 'acceptance', '.', 'we', 'all', 'knew', 'the', 'party', 'girl', ',', 'the', 'one', 'they', 'whispered', 'about', ',', 'with', 'tales', 'of', 'not', 'only', 'her', 'sad', 'home', 'life', 'but', 'of', 'her', 'notorious', 'exploits', '.', 'and', 'we', 'all', 'knew', 'the', '\"', 'mother', 'figure', '\"', ',', 'the', 'one', 'a', 'little', 'more', 'real', ',', 'a', 'little', 'more', 'grounded', ',', 'a', 'little', 'more', 'sad', 'because', 'she', 'knew', 'what', 'would', 'happen', '.', 'maybe', 'you', 'were', 'one', 'of', 'those', 'girls', '.', 'maybe', ',', 'like', 'me', ',', 'you', 'had', 'been', 'each', 'one', 'at', 'one', 'time', 'or', 'another', '...', '<br', '/><br', '/>this', 'film', 'really', 'captures', 'that', 'fragile', 'time', 'in', 'life', 'when', 'want', ',', 'needs', ',', 'pressures', ',', 'womanhood', ',', 'childhood', ',', 'the', 'world', 'and', 'loneliness', 'are', 'all', 'embodied', 'in', 'each', 'female', \"'s\", 'head', ',', 'each', 'factor', 'on', 'the', 'precipice', '.', 'which', 'aspect', 'do', 'you', 'hang', 'on', 'to', '?', 'what', 'do', 'you', 'toss', 'over', 'the', 'edge', ',', 'no', 'matter', 'how', 'you', 'may', 'want', 'to', 'hold', 'on', '?', 'and', 'how', 'painful', 'is', 'goodbye', 'to', 'everything', 'you', \"'ve\", 'known', '?', 'that', \"'s\", 'what', 'this', 'movie', 'is', '--', 'steps', 'into', 'womanhood', 'while', 'clinging', 'onto', 'childhood', ',', 'and', 'how', 'damn', 'tough', 'it', 'is', 'to', 'keep', 'walking', '.', 'if', 'you', 'were', 'there', ',', 'you', 'know', '...', 'and', 'love', 'this', 'film', ',', 'as', 'i', 'do', '.', 'aching', 'and', 'tenderly', 'done', '.', 'a', 'fine', 'piece', 'of', 'captured', 'femininity', '.']\n",
      "[57, 27, 79, 30, 51, 3, 109, 523, 13, 23, 93, 36, 743, 4952, 21, 27, 4, 73, 20, 12, 148, 9, 6, 964, 95, 285, 59, 7, 2, 134, 9, 2389, 3, 10, 9, 924, 8, 36, 21, 1968, 4, 299, 16, 409, 10, 186, 11, 163, 131, 3, 81, 55, 30, 148, 207, 11, 43, 1, 49, 408, 108, 3, 70, 65, 81, 401, 8, 4, 11, 13, 300, 3, 10, 491, 4, 13, 3, 221, 3, 84, 31, 6605, 8, 276, 15, 562, 15, 167, 11, 13, 25, 3, 3929, 5796, 2405, 28, 1444, 6, 1193, 29, 4, 2, 203, 14, 2, 97, 486, 583, 32, 31, 3863, 74, 1601, 8, 2, 75, 186, 5796, 311, 2, 1, 14, 3079, 8, 406, 80, 2160, 493, 3, 70, 22, 2, 589, 554, 7, 1, 4, 1262, 14, 68, 569, 103, 493, 384, 32, 3, 886, 51, 32, 59, 94, 14, 50, 5441, 259, 3, 68, 569, 103, 27, 1, 18, 823, 1, 9, 2, 2037, 7, 2, 23, 4, 10, 16, 31, 52, 1, 3, 10, 16, 31, 52, 3026, 3, 24, 52, 149, 741, 583, 5, 80, 496, 69, 20, 143, 198, 583, 173, 40, 35, 8, 154, 2, 193, 9287, 18, 658, 27, 35, 139, 77, 6, 2160, 46, 14, 11, 142, 131, 3, 27, 93, 248, 13, 23, 186, 10, 93, 401, 6, 187, 8, 27, 3, 68, 569, 58, 1010, 10, 9, 279, 11, 3, 49, 58, 1010, 27, 2044, 67, 11, 4, 81, 38, 693, 149, 583, 11, 404, 3, 49, 39, 2, 64, 233, 693, 7, 113, 4, 81, 38, 693, 2, 3526, 2960, 3, 341, 1753, 8, 1080, 1612, 1517, 5, 341, 1753, 2729, 8, 2193, 67, 5, 548, 14, 93, 55, 10, 21, 48, 4, 81, 38, 693, 2, 438, 17, 937, 37, 3, 2, 1656, 7859, 612, 6838, 5957, 48, 1126, 7, 2, 193, 3, 48, 1126, 7, 5797, 4, 81, 38, 693, 2, 1107, 255, 3, 2, 37, 40, 1, 52, 3, 22, 2893, 7, 31, 74, 48, 683, 363, 131, 24, 7, 48, 2641, 6398, 4, 5, 81, 38, 693, 2, 15, 430, 803, 15, 3, 2, 37, 6, 135, 63, 163, 3, 6, 135, 63, 9748, 3, 6, 135, 63, 683, 95, 62, 693, 58, 66, 632, 4, 301, 27, 79, 37, 7, 162, 583, 4, 301, 3, 46, 83, 3, 27, 77, 91, 269, 37, 39, 37, 69, 49, 185, 88, 508, 18, 305, 25, 76, 2371, 14, 6952, 69, 11, 131, 65, 196, 3, 732, 3, 1, 3, 1, 3, 1517, 3, 2, 193, 5, 5513, 32, 38, 1, 11, 269, 661, 16, 431, 3, 269, 2501, 26, 2, 1, 4, 73, 1266, 55, 27, 3346, 26, 8, 60, 58, 55, 27, 8875, 137, 2, 1299, 3, 68, 569, 103, 27, 211, 196, 8, 1080, 26, 60, 5, 103, 1374, 9, 7186, 8, 298, 27, 159, 562, 60, 14, 16, 58, 13, 23, 9, 186, 3200, 98, 1, 156, 1, 1612, 1517, 3, 5, 103, 1596, 1188, 10, 9, 8, 406, 1325, 4, 57, 27, 79, 51, 3, 27, 138, 88, 5, 132, 13, 25, 3, 20, 12, 55, 4, 1, 5, 1, 236, 4, 6, 481, 432, 7, 2038, 1, 4]\n"
     ]
    }
   ],
   "source": [
    "# check tokenization of dataset \n",
    "print(train_data_tokens[0])\n",
    "print(train_data_indices[0])"
   ]
  },
  {
   "cell_type": "markdown",
   "metadata": {},
   "source": [
    "# DataLoader"
   ]
  },
  {
   "cell_type": "code",
   "execution_count": 636,
   "metadata": {},
   "outputs": [],
   "source": [
    "# define custom dataset class and collate function for data loader \n",
    "\n",
    "class MovieReviewsDataset(Dataset): \n",
    "    \"\"\" \n",
    "    Class that represents a train/validation/test dataset that's readable for PyTorch\n",
    "    Note that this class inherits torch.utils.data.Dataset\n",
    "    \"\"\"\n",
    "    \n",
    "    def __init__(self, data_list, label_list): \n",
    "        \"\"\" \n",
    "        Initialize dataset by passing in a list of movie review tokens and a list of labels \n",
    "        \"\"\"\n",
    "        self.data_list = data_list \n",
    "        self.label_list = label_list \n",
    "        assert (len(self.data_list) == len(self.label_list))\n",
    "        \n",
    "    def __len__(self): \n",
    "        return len(self.data_list)\n",
    "    \n",
    "    def __getitem__(self, key): \n",
    "        \"\"\"\n",
    "        Triggered when dataset[i] is called, outputs a list of tokens, length of list, and label of the data point\n",
    "        \"\"\"\n",
    "        token_idx = self.data_list[key][:MAX_SENTENCE_LENGTH]\n",
    "        label = self.label_list[key]\n",
    "        return [token_idx, len(token_idx), label]\n",
    "    \n",
    "def collate_func(batch): \n",
    "    \"\"\" \n",
    "    Customized function for DataLoader that dynamically pads the batch so that the data have the same length\n",
    "    \"\"\"\n",
    "    data_list = [] \n",
    "    label_list = [] \n",
    "    length_list = [] \n",
    "    \n",
    "    for datum in batch:         \n",
    "        label_list.append(datum[2])\n",
    "        length_list.append(datum[1])\n",
    "        # pad data before appending \n",
    "        padded_vec = np.pad(array = np.array(datum[0]), \n",
    "                            pad_width = ((0, MAX_SENTENCE_LENGTH - datum[1])), \n",
    "                            mode = 'constant', \n",
    "                            constant_values = 0)\n",
    "        data_list.append(padded_vec)\n",
    "        \n",
    "    return [torch.from_numpy(np.array(data_list)), torch.LongTensor(length_list), torch.LongTensor(label_list)]"
   ]
  },
  {
   "cell_type": "code",
   "execution_count": 637,
   "metadata": {},
   "outputs": [],
   "source": [
    "# create data loaders for train/val/test datasets \n",
    "\n",
    "MAX_SENTENCE_LENGTH = 200 \n",
    "BATCH_SIZE = 32\n",
    "\n",
    "train_dataset = MovieReviewsDataset(train_data_indices, train_labels) \n",
    "train_loader = torch.utils.data.DataLoader(dataset = train_dataset, batch_size = BATCH_SIZE, \n",
    "                                           collate_fn = collate_func, shuffle = True)\n",
    "\n",
    "val_dataset = MovieReviewsDataset(val_data_indices, val_labels) \n",
    "val_loader = torch.utils.data.DataLoader(dataset = val_dataset, batch_size = BATCH_SIZE, \n",
    "                                         collate_fn = collate_func, shuffle = True)\n",
    "\n",
    "test_dataset = MovieReviewsDataset(test_data_indices, test_labels) \n",
    "test_loader = torch.utils.data.DataLoader(dataset = test_dataset, batch_size = BATCH_SIZE, \n",
    "                                          collate_fn = collate_func, shuffle = True)"
   ]
  },
  {
   "cell_type": "code",
   "execution_count": 638,
   "metadata": {},
   "outputs": [
    {
     "name": "stdout",
     "output_type": "stream",
     "text": [
      "Printing a sample datum (of data length 163):\n",
      "Data is: tensor([1285, 5180,   39,  101,  202,    8,   36,    6,   64, 1495, 1210,   25,\n",
      "           4,    2,  133,  108,   12,  159,   91,  506,    8, 1269,   10,    9,\n",
      "          14,   10,   16,  194,    1,    4,  170,   10,   16,   31,  482, 1495,\n",
      "           4,    2,   75,    9,   52,    1,    3,    6,  198, 1285,  438,    5,\n",
      "          34,  804,    1,    4,    1,    9,   64, 1804,    5, 1496,    3,  221,\n",
      "           3,    1, 1105,   48, 1409,  124,  634,  259,   41,  359,    5,    9,\n",
      "         506,    8, 9131,  341,    7,   10,    4,    2,   75,    9,   52,   80,\n",
      "        2761,    8,  729,    1, 1317,  157,    8, 3251,   18, 6222,    6,  187,\n",
      "           7,    2, 1530,   11,   13,   23,  202,  357, 1495,    3,   10,    9,\n",
      "          31,    4,  102,    7,   10,    9, 4092,   21,  131,    3,  359,    5,\n",
      "           1,    4,   27,   71,  100,   78, 2062,   45,   97, 2893,    3,  152,\n",
      "          20,    1,    5,    1,    4,   13, 3119, 1067,  356,   25,   53,   43,\n",
      "         238,   75,    3, 2974,   22,    6, 2776, 1262,   86,   58,   27,   78,\n",
      "          26,    2, 2673,    7,    2,  282,    4,    0,    0,    0,    0,    0,\n",
      "           0,    0,    0,    0,    0,    0,    0,    0,    0,    0,    0,    0,\n",
      "           0,    0,    0,    0,    0,    0,    0,    0,    0,    0,    0,    0,\n",
      "           0,    0,    0,    0,    0,    0,    0,    0])\n",
      "Label is 1\n"
     ]
    }
   ],
   "source": [
    "# test data loader on training data \n",
    "for i, (data, lengths, labels) in enumerate(train_loader):\n",
    "    print (\"Printing a sample datum (of data length {}):\".format(lengths[0]))\n",
    "    print (\"Data is: {}\".format((data[0])))\n",
    "    print (\"Label is {}\".format((labels[0])))\n",
    "    break "
   ]
  },
  {
   "cell_type": "markdown",
   "metadata": {},
   "source": [
    "# Bag-Of-Words Model"
   ]
  },
  {
   "cell_type": "code",
   "execution_count": 639,
   "metadata": {},
   "outputs": [],
   "source": [
    "# Define model architecture and helper methods \n",
    "\n",
    "class BagOfWords(nn.Module): \n",
    "    \"\"\" \n",
    "    BagOfWords classification model \n",
    "    \"\"\"\n",
    "    \n",
    "    def __init__(self, vocab_size, emb_dim): \n",
    "        \"\"\" \n",
    "        @param vocab_size: size of the vocabulary \n",
    "        @param emd_dim: size of the word embedding \n",
    "        \"\"\"\n",
    "        super().__init__() \n",
    "        self.embed = nn.Embedding(vocab_size, emb_dim, padding_idx=0)\n",
    "        self.linear = nn.Linear(emb_dim, 2)\n",
    "        \n",
    "    def forward(self, data, length): \n",
    "        \"\"\" \n",
    "        @param data: matrix of size (batch_size, max_sentence_length). Each row in data represents a review\n",
    "            that is represented using n-gram index. Note that they are padded to have the same length. \n",
    "        @param length: an int tensor of size (batch_size), which represents the non-trivial (i.e. non-padded)\n",
    "            length of each sentence in the data \n",
    "        \"\"\"\n",
    "        out = self.embed(data)\n",
    "        out = torch.sum(out, dim=1)\n",
    "        out /= length.view(length.size()[0],1).expand_as(out).float()\n",
    "        \n",
    "        # return logits\n",
    "        out = self.linear(out.float())\n",
    "\n",
    "        return out\n",
    "    \n",
    "def test_model(loader, model): \n",
    "    \"\"\" \n",
    "    Helper function that tests the model's performance on a given dataset \n",
    "    @param: loader = data loader for the dataset to test against \n",
    "    \"\"\"\n",
    "    correct = 0 \n",
    "    total = 0 \n",
    "    model.eval() \n",
    "    \n",
    "    for data_batch, length_batch, label_batch in loader: \n",
    "        outputs = F.softmax(model(data_batch, length_batch), dim=1)\n",
    "        predictions = outputs.max(1, keepdim=True)[1]    \n",
    "        total += label_batch.size(0)\n",
    "        correct += predictions.eq(label_batch.view_as(predictions)).sum().item()\n",
    "        \n",
    "    return (100 * correct / total)"
   ]
  },
  {
   "cell_type": "code",
   "execution_count": 640,
   "metadata": {},
   "outputs": [],
   "source": [
    "# Loss function and hyperparameters \n",
    "emb_dim = 100\n",
    "model = BagOfWords(len(id2token), emb_dim)\n",
    "learning_rate = 0.01 \n",
    "num_epochs = 2\n",
    "criterion = torch.nn.CrossEntropyLoss() \n",
    "optimizer = torch.optim.Adam(model.parameters(), lr=learning_rate)"
   ]
  },
  {
   "cell_type": "code",
   "execution_count": 641,
   "metadata": {},
   "outputs": [
    {
     "name": "stdout",
     "output_type": "stream",
     "text": [
      "Epoch: [1/2], Step: [100/625], Total Steps: 100, Validation Acc: 78.22, Train Acc: 80.865\n",
      "Epoch: [1/2], Step: [200/625], Total Steps: 200, Validation Acc: 81.04, Train Acc: 85.76\n",
      "Epoch: [1/2], Step: [300/625], Total Steps: 300, Validation Acc: 83.46, Train Acc: 88.345\n",
      "Epoch: [1/2], Step: [400/625], Total Steps: 400, Validation Acc: 82.62, Train Acc: 90.08\n",
      "Epoch: [1/2], Step: [500/625], Total Steps: 500, Validation Acc: 83.92, Train Acc: 91.055\n",
      "Epoch: [1/2], Step: [600/625], Total Steps: 600, Validation Acc: 83.96, Train Acc: 92.45\n",
      "Epoch: [2/2], Step: [100/625], Total Steps: 725, Validation Acc: 84.08, Train Acc: 93.02\n",
      "Epoch: [2/2], Step: [200/625], Total Steps: 825, Validation Acc: 81.7, Train Acc: 92.33\n",
      "Epoch: [2/2], Step: [300/625], Total Steps: 925, Validation Acc: 82.66, Train Acc: 93.925\n",
      "Epoch: [2/2], Step: [400/625], Total Steps: 1025, Validation Acc: 79.78, Train Acc: 92.285\n",
      "Epoch: [2/2], Step: [500/625], Total Steps: 1125, Validation Acc: 82.74, Train Acc: 94.765\n",
      "Epoch: [2/2], Step: [600/625], Total Steps: 1225, Validation Acc: 81.9, Train Acc: 95.365\n"
     ]
    }
   ],
   "source": [
    "# Train and Evaluate on Validation Set \n",
    "\n",
    "total_steps = 0 \n",
    "results = []\n",
    "\n",
    "for epoch in range(num_epochs):\n",
    "    for i, (data_batch, length_batch, label_batch) in enumerate(train_loader):\n",
    "        model.train()\n",
    "        optimizer.zero_grad()\n",
    "        outputs = model(data_batch, length_batch)\n",
    "        loss = criterion(outputs, label_batch)\n",
    "        loss.backward()\n",
    "        optimizer.step()\n",
    "        # validate every 100 iterations\n",
    "        if i > 0 and (i+1) % 100 == 0:\n",
    "            total_steps = epoch * 625 + (i+1) \n",
    "            train_acc = test_model(train_loader, model) # report train accuracy \n",
    "            val_acc = test_model(val_loader, model) # report validation accuracy \n",
    "            result = {} \n",
    "            result['step'] = total_steps \n",
    "            result['train_acc'] = train_acc\n",
    "            result['val_acc'] = val_acc        \n",
    "            results.append(result)\n",
    "            print('Epoch: [{}/{}], Step: [{}/{}], Total Steps: {}, Validation Acc: {}, Train Acc: {}'.format( \n",
    "                       epoch+1, num_epochs, i+1, len(train_loader), total_steps, val_acc, train_acc))"
   ]
  },
  {
   "cell_type": "code",
   "execution_count": 642,
   "metadata": {},
   "outputs": [
    {
     "data": {
      "text/plain": [
       "<matplotlib.axes._subplots.AxesSubplot at 0x1249154e0>"
      ]
     },
     "execution_count": 642,
     "metadata": {},
     "output_type": "execute_result"
    },
    {
     "data": {
      "image/png": "[encoded data removed]",
      "text/plain": [
       "<Figure size 432x288 with 1 Axes>"
      ]
     },
     "metadata": {
      "needs_background": "light"
     },
     "output_type": "display_data"
    }
   ],
   "source": [
    "# learning curve \n",
    "results_df = pd.DataFrame.from_dict(results)\n",
    "results_df = results_df.set_index('step')\n",
    "results_df.plot()"
   ]
  },
  {
   "cell_type": "markdown",
   "metadata": {},
   "source": [
    "# Varying Preprocessing and Hyperparameters"
   ]
  },
  {
   "cell_type": "markdown",
   "metadata": {},
   "source": [
    "### Tokenization Schemes"
   ]
  },
  {
   "cell_type": "code",
   "execution_count": null,
   "metadata": {},
   "outputs": [],
   "source": []
  },
  {
   "cell_type": "markdown",
   "metadata": {},
   "source": [
    "### N-Gram"
   ]
  },
  {
   "cell_type": "code",
   "execution_count": 422,
   "metadata": {},
   "outputs": [],
   "source": [
    "def ngramify(datum_tokens, max_n): \n",
    "    \"\"\" Generates n-grams up to max_n for one given list of tokens representing a datum \"\"\"\n",
    "    result = [] \n",
    "    n = max_n \n",
    "    \n",
    "    # decrement n to append ..., 3-grams, 2-grams to result \n",
    "    while n >= 1: \n",
    "        n_grams = [\" \".join(item) for item in list(zip(*[datum_tokens[i:] for i in range(n)]))]\n",
    "        result = result + n_grams \n",
    "        n = n - 1 \n",
    "        \n",
    "    # when n=1 just append original tokens\n",
    "    result = result + datum_tokens  \n",
    "    \n",
    "    return result "
   ]
  },
  {
   "cell_type": "code",
   "execution_count": 426,
   "metadata": {},
   "outputs": [],
   "source": [
    "def generate_ngram_dataset(train_tokens, val_tokens, test_tokens, max_n, max_vocab_size):\n",
    "    \"\"\" Takes as input: orignal 1-gram train/val/test tokenized datasets, max_n (for n-gram), max_vocab_size, \n",
    "        and returns: \n",
    "        - token2id, id2token \n",
    "        - train_data_indices, val_data_indices, test_data_indices\n",
    "    \"\"\"\n",
    "    \n",
    "    # generate ngram tokens \n",
    "    train_ngram_tokens = [ngramify(datum, 3) for datum in train_tokens]  \n",
    "    val_ngram_tokens = [ngramify(datum, 3) for datum in val_tokens]  \n",
    "    test_ngram_tokens = [ngramify(datum, 3) for datum in test_tokens]  \n",
    "    all_train_ngram_tokens = [item for sublist in train_ngram_tokens for item in sublist] \n",
    "    \n",
    "    # build vocab \n",
    "    token2id, id2token = build_vocab(all_train_ngram_tokens, max_vocab_size)\n",
    "    \n",
    "    # convert tokens to indices \n",
    "    train_data_indices = token2index_dataset(train_ngram_tokens)\n",
    "    val_data_indices = token2index_dataset(val_ngram_tokens)\n",
    "    test_data_indices = token2index_dataset(test_ngram_tokens)\n",
    "    \n",
    "    return token2id, id2token, train_data_indices, val_data_indices, test_data_indices"
   ]
  },
  {
   "cell_type": "code",
   "execution_count": 433,
   "metadata": {},
   "outputs": [],
   "source": [
    "token2id, id2token, train_data_indices, val_data_indices, test_data_indices = generate_ngram_dataset(\n",
    "    train_data_tokens, val_data_tokens, test_data_tokens, max_n=2, max_vocab_size=20000)"
   ]
  },
  {
   "cell_type": "code",
   "execution_count": 434,
   "metadata": {},
   "outputs": [],
   "source": [
    "emb_dim = 100\n",
    "model = BagOfWords(len(id2token), emb_dim)\n",
    "learning_rate = 0.01 \n",
    "num_epochs = 2\n",
    "criterion = torch.nn.CrossEntropyLoss() \n",
    "optimizer = torch.optim.Adam(model.parameters(), lr=learning_rate)"
   ]
  },
  {
   "cell_type": "code",
   "execution_count": 435,
   "metadata": {},
   "outputs": [
    {
     "name": "stdout",
     "output_type": "stream",
     "text": [
      "Epoch: [1/2], Step: [100/625], Total Steps: 100, Validation Acc: 78.04, Train Acc: 81.4\n",
      "Epoch: [1/2], Step: [200/625], Total Steps: 200, Validation Acc: 82.5, Train Acc: 85.595\n",
      "Epoch: [1/2], Step: [300/625], Total Steps: 300, Validation Acc: 83.96, Train Acc: 89.505\n",
      "Epoch: [1/2], Step: [400/625], Total Steps: 400, Validation Acc: 83.66, Train Acc: 90.79\n",
      "Epoch: [1/2], Step: [500/625], Total Steps: 500, Validation Acc: 83.72, Train Acc: 91.885\n",
      "Epoch: [1/2], Step: [600/625], Total Steps: 600, Validation Acc: 84.48, Train Acc: 92.435\n",
      "Epoch: [2/2], Step: [100/625], Total Steps: 725, Validation Acc: 83.96, Train Acc: 93.45\n",
      "Epoch: [2/2], Step: [200/625], Total Steps: 825, Validation Acc: 83.34, Train Acc: 93.82\n",
      "Epoch: [2/2], Step: [300/625], Total Steps: 925, Validation Acc: 83.4, Train Acc: 94.32\n",
      "Epoch: [2/2], Step: [400/625], Total Steps: 1025, Validation Acc: 83.28, Train Acc: 94.5\n",
      "Epoch: [2/2], Step: [500/625], Total Steps: 1125, Validation Acc: 82.62, Train Acc: 94.975\n",
      "Epoch: [2/2], Step: [600/625], Total Steps: 1225, Validation Acc: 83.16, Train Acc: 93.87\n"
     ]
    }
   ],
   "source": [
    "total_steps = 0 \n",
    "results = []\n",
    "\n",
    "for epoch in range(num_epochs):\n",
    "    for i, (data_batch, length_batch, label_batch) in enumerate(train_loader):\n",
    "        model.train()\n",
    "        optimizer.zero_grad()\n",
    "        outputs = model(data_batch, length_batch)\n",
    "        loss = criterion(outputs, label_batch)\n",
    "        loss.backward()\n",
    "        optimizer.step()\n",
    "        # validate every 100 iterations\n",
    "        if i > 0 and (i+1) % 100 == 0:\n",
    "            total_steps = epoch * 625 + (i+1) \n",
    "            train_acc = test_model(train_loader, model) # report train accuracy \n",
    "            val_acc = test_model(val_loader, model) # report validation accuracy \n",
    "            result = {} \n",
    "            result['step'] = total_steps \n",
    "            result['train_acc'] = train_acc\n",
    "            result['val_acc'] = val_acc        \n",
    "            results.append(result)\n",
    "            print('Epoch: [{}/{}], Step: [{}/{}], Total Steps: {}, Validation Acc: {}, Train Acc: {}'.format( \n",
    "                       epoch+1, num_epochs, i+1, len(train_loader), total_steps, val_acc, train_acc))"
   ]
  },
  {
   "cell_type": "code",
   "execution_count": null,
   "metadata": {},
   "outputs": [],
   "source": []
  }
 ],
 "metadata": {
  "kernelspec": {
   "display_name": "Python 3",
   "language": "python",
   "name": "python3"
  },
  "language_info": {
   "codemirror_mode": {
    "name": "ipython",
    "version": 3
   },
   "file_extension": ".py",
   "mimetype": "text/x-python",
   "name": "python",
   "nbconvert_exporter": "python",
   "pygments_lexer": "ipython3",
   "version": "3.6.6"
  }
 },
 "nbformat": 4,
 "nbformat_minor": 2
}
