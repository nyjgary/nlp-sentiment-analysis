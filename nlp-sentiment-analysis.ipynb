{
 "cells": [
  {
   "cell_type": "code",
   "execution_count": 102,
   "metadata": {},
   "outputs": [],
   "source": [
    "import numpy as np \n",
    "import pandas as pd \n",
    "import matplotlib.pyplot as plt\n",
    "import spacy\n",
    "import string\n",
    "import random\n",
    "import pickle as pkl\n",
    "import time \n",
    "import os\n",
    "from os import listdir \n",
    "from collections import Counter\n",
    "from tqdm import tqdm_notebook\n",
    "from functools import partial \n",
    "import nltk\n",
    "import torch\n",
    "from torch.utils.data import Dataset\n",
    "import torch.nn as nn\n",
    "import torch.nn.functional as F\n",
    "from torch.optim import Adam"
   ]
  },
  {
   "cell_type": "markdown",
   "metadata": {},
   "source": [
    "# Import and Process Data "
   ]
  },
  {
   "cell_type": "code",
   "execution_count": 2,
   "metadata": {},
   "outputs": [],
   "source": [
    "# helper methods to load reviews from directories \n",
    "\n",
    "def load_single_review(fdir, fname): \n",
    "    \"\"\" Takes as input file directory and file name of a single review, returns review as string \"\"\"\n",
    "    fpath = fdir + '/' + fname \n",
    "    with open(fpath, 'r') as f: \n",
    "        review = f.read()\n",
    "        return review \n",
    "    \n",
    "def load_dir_reviews(fdir): \n",
    "    \"\"\" Takes as input file directory where reviews are stored, returns them as a list of review strings \"\"\"\n",
    "    fnames = [f for f in listdir(fdir)]\n",
    "    reviews = [load_single_review(fdir, fname) for fname in fnames]\n",
    "    return reviews\n",
    "\n",
    "def combine_data(neg_reviews, pos_reviews): \n",
    "    \"\"\" Combines lists of negative and positive reviews, returns a combined dataset comprising reviews and labels \"\"\"\n",
    "    neg_with_labels = [(review, 0) for review in neg_reviews] \n",
    "    pos_with_labels = [(review, 1) for review in pos_reviews]\n",
    "    combined = neg_with_labels + pos_with_labels\n",
    "    combined = random.sample(combined, len(combined))\n",
    "    reviews = [comb[0] for comb in combined]\n",
    "    labels = [comb[1] for comb in combined]\n",
    "    return reviews, labels "
   ]
  },
  {
   "cell_type": "code",
   "execution_count": 3,
   "metadata": {},
   "outputs": [],
   "source": [
    "# load reviews into lists \n",
    "train_val_neg = load_dir_reviews('aclImdb/train/neg')\n",
    "train_val_pos = load_dir_reviews('aclImdb/train/pos')\n",
    "test_neg = load_dir_reviews('aclImdb/test/neg')\n",
    "test_pos = load_dir_reviews('aclImdb/test/pos')"
   ]
  },
  {
   "cell_type": "code",
   "execution_count": 4,
   "metadata": {},
   "outputs": [],
   "source": [
    "# randomly split train into train vs. validation sets \n",
    "train_split = int(20000 / 2) \n",
    "train_neg = train_val_neg[:train_split]\n",
    "train_pos = train_val_pos[:train_split]\n",
    "val_neg = train_val_neg[train_split:]\n",
    "val_pos = train_val_pos[train_split:]"
   ]
  },
  {
   "cell_type": "code",
   "execution_count": 5,
   "metadata": {},
   "outputs": [
    {
     "name": "stdout",
     "output_type": "stream",
     "text": [
      "Train dataset size is 20000\n",
      "Validation dataset size is 5000\n",
      "Test dataset size is 25000\n"
     ]
    }
   ],
   "source": [
    "# combine pos and neg reviews to get unified datasets \n",
    "train_data, train_labels = combine_data(train_neg, train_pos)\n",
    "val_data, val_labels = combine_data(val_neg, val_pos)\n",
    "test_data, test_labels = combine_data(test_neg, test_pos)\n",
    "print (\"Train dataset size is {}\".format(len(train_data)))\n",
    "print (\"Validation dataset size is {}\".format(len(val_data)))\n",
    "print (\"Test dataset size is {}\".format(len(test_data)))"
   ]
  },
  {
   "cell_type": "markdown",
   "metadata": {},
   "source": [
    "# Tokenization"
   ]
  },
  {
   "cell_type": "code",
   "execution_count": 118,
   "metadata": {},
   "outputs": [],
   "source": [
    "# helper functions to tokenize reviews \n",
    "\n",
    "tokenizer = spacy.load('en_core_web_sm')\n",
    "\n",
    "def lower_case(parsed):\n",
    "    \"\"\" Takes text as input and outputs a list of tokens in lowercase without punctuation \"\"\"\n",
    "    return [token.text.lower() for token in parsed]\n",
    "\n",
    "def tokenize_dataset(dataset, processing_func):\n",
    "    \"\"\" Takes as input a dataset comprising a list of reviews, outputs the tokenized dataset along with \n",
    "        a list comprising all the tokens from the dataset \"\"\"\n",
    "    token_dataset = []\n",
    "    for sample in tqdm_notebook(tokenizer.pipe(dataset, \n",
    "                                               disable=['parser', 'tagger', 'ner'], batch_size=512, n_threads=1)):\n",
    "        tokens = processing_func(sample)\n",
    "        token_dataset.append(tokens)\n",
    "    return token_dataset\n",
    "\n",
    "def tokenize_dataset_to_disk(dataset, processing_func, filename): \n",
    "    \"\"\" Tokenize dataset as save as pickle to destination path \"\"\"\n",
    "    start_time = time.time() \n",
    "    token_dataset = tokenize_dataset(dataset, processing_func)\n",
    "    if not os.path.exists(os.path.dirname(filename)):\n",
    "        os.makedirs(os.path.dirname(filename))\n",
    "    with open(filename, \"wb\") as f: \n",
    "        pkl.dump(token_dataset, f)\n",
    "    time_elapsed = (time.time() - start_time) / 60.0 \n",
    "    print(\"Data tokenized and saved as {} in {:.1f} minutes\".format(filename, time_elapsed))\n",
    "    return token_dataset\n",
    "    \n",
    "def tokenize_datasets_to_disk(train_data, val_data, test_data, processing_func, folder_name): \n",
    "    \"\"\" Tokenizes train, val, test datasets and save as pickle to data subfolder \n",
    "        Also returns tokenized datasets\n",
    "    \"\"\"\n",
    "    train_data_tokens = tokenize_dataset_to_disk(train_data, processing_func, \n",
    "                                                 \"data/{}/train_data_tokens.p\".format(folder_name))\n",
    "    val_data_tokens = tokenize_dataset_to_disk(val_data, processing_func, \n",
    "                                               \"data/{}/val_data_tokens.p\".format(folder_name))    \n",
    "    test_data_tokens = tokenize_dataset_to_disk(test_data, processing_func, \n",
    "                                                \"data/{}/test_data_tokens.p\".format(folder_name))\n",
    "    return train_data_tokens, val_data_tokens, test_data_tokens\n"
   ]
  },
  {
   "cell_type": "code",
   "execution_count": 103,
   "metadata": {},
   "outputs": [
    {
     "data": {
      "application/vnd.jupyter.widget-view+json": {
       "model_id": "dd3fd7ba874946f086db20206f73fcdf",
       "version_major": 2,
       "version_minor": 0
      },
      "text/plain": [
       "HBox(children=(IntProgress(value=1, bar_style='info', max=1), HTML(value='')))"
      ]
     },
     "metadata": {},
     "output_type": "display_data"
    },
    {
     "name": "stdout",
     "output_type": "stream",
     "text": [
      "\n",
      "Data tokenized and saved as data/standard/train_data_tokens.p in 0.6 minutes\n"
     ]
    },
    {
     "data": {
      "application/vnd.jupyter.widget-view+json": {
       "model_id": "ed89983322c744b78a8941158e12c7e8",
       "version_major": 2,
       "version_minor": 0
      },
      "text/plain": [
       "HBox(children=(IntProgress(value=1, bar_style='info', max=1), HTML(value='')))"
      ]
     },
     "metadata": {},
     "output_type": "display_data"
    },
    {
     "name": "stdout",
     "output_type": "stream",
     "text": [
      "\n",
      "Data tokenized and saved as data/standard/val_data_tokens.p in 0.1 minutes\n"
     ]
    },
    {
     "data": {
      "application/vnd.jupyter.widget-view+json": {
       "model_id": "1bb5328686414704a5be7fc9fa455891",
       "version_major": 2,
       "version_minor": 0
      },
      "text/plain": [
       "HBox(children=(IntProgress(value=1, bar_style='info', max=1), HTML(value='')))"
      ]
     },
     "metadata": {},
     "output_type": "display_data"
    },
    {
     "name": "stdout",
     "output_type": "stream",
     "text": [
      "\n",
      "Data tokenized and saved as data/standard/test_data_tokens.p in 0.8 minutes\n"
     ]
    }
   ],
   "source": [
    "train_data_tokens, val_data_tokens, test_data_tokens = tokenize_datasets_to_disk(\n",
    "    train_data, val_data, test_data, processing_func=lower_case, folder_name='standard')"
   ]
  },
  {
   "cell_type": "code",
   "execution_count": 105,
   "metadata": {},
   "outputs": [
    {
     "name": "stdout",
     "output_type": "stream",
     "text": [
      "Train dataset size is 20000\n",
      "Val dataset size is 5000\n",
      "Test dataset size is 25000\n"
     ]
    }
   ],
   "source": [
    "# load saved tokens \n",
    "train_data_tokens = pkl.load(open(\"data/standard/train_data_tokens.p\", \"rb\"))\n",
    "val_data_tokens = pkl.load(open(\"data/standard/val_data_tokens.p\", \"rb\"))\n",
    "test_data_tokens = pkl.load(open(\"data/standard/test_data_tokens.p\", \"rb\"))\n",
    "\n",
    "# double check \n",
    "print (\"Train dataset size is {}\".format(len(train_data_tokens)))\n",
    "print (\"Val dataset size is {}\".format(len(val_data_tokens)))\n",
    "print (\"Test dataset size is {}\".format(len(test_data_tokens)))"
   ]
  },
  {
   "cell_type": "code",
   "execution_count": 106,
   "metadata": {},
   "outputs": [],
   "source": [
    "# create vocabulary from 10000 most common tokens in the training set \n",
    "\n",
    "PAD_IDX=0\n",
    "UNK_IDX=1\n",
    "\n",
    "def build_vocab(all_tokens, max_vocab_size=10000, pad_idx=PAD_IDX, unk_idx=UNK_IDX): \n",
    "    \"\"\" Takes list of all tokens and returns:\n",
    "        - id2token: list of tokens, where id2token[i] returns token that corresponds to i-th token \n",
    "        - token2id: dictionary where keys represent tokens and corresponding values represent their indices\n",
    "    \"\"\"\n",
    "    token_counter = Counter(all_tokens)\n",
    "    vocab, count = zip(*token_counter.most_common(max_vocab_size))\n",
    "    id2token = list(vocab)\n",
    "    token2id = dict(zip(vocab, range(2, 2+len(vocab))))\n",
    "    id2token = ['<pad>', '<unk>'] + id2token \n",
    "    token2id['<pad>'] = pad_idx\n",
    "    token2id['<unk>'] = unk_idx\n",
    "    return token2id, id2token \n",
    "    \n",
    "token2id, id2token = build_vocab(all_train_tokens, max_vocab_size = 10000)"
   ]
  },
  {
   "cell_type": "code",
   "execution_count": 107,
   "metadata": {},
   "outputs": [
    {
     "name": "stdout",
     "output_type": "stream",
     "text": [
      "Token id 9982 ; token gillian\n",
      "Token gillian; token id 9982\n"
     ]
    }
   ],
   "source": [
    "# check the dictionary by loading random token from it\n",
    "\n",
    "random_token_id = random.randint(0, len(id2token)-1)\n",
    "random_token = id2token[random_token_id]\n",
    "\n",
    "print (\"Token id {} ; token {}\".format(random_token_id, id2token[random_token_id]))\n",
    "print (\"Token {}; token id {}\".format(random_token, token2id[random_token]))"
   ]
  },
  {
   "cell_type": "code",
   "execution_count": 108,
   "metadata": {},
   "outputs": [],
   "source": [
    "# convert token to id in the dataset \n",
    "\n",
    "def token2index_dataset(tokens_data, token2id, unk_idx=UNK_IDX): \n",
    "    \"\"\" Converts data from word tokens to token indices \"\"\"\n",
    "    indices_data = []\n",
    "    for datum in tokens_data: \n",
    "        index_list = [token2id[token] if token in token2id else unk_idx for token in datum]\n",
    "        indices_data.append(index_list)\n",
    "    return indices_data \n",
    "\n",
    "train_data_indices = token2index_dataset(train_data_tokens, token2id)\n",
    "val_data_indices = token2index_dataset(val_data_tokens, token2id)\n",
    "test_data_indices = token2index_dataset(test_data_tokens, token2id)"
   ]
  },
  {
   "cell_type": "code",
   "execution_count": 109,
   "metadata": {},
   "outputs": [
    {
     "name": "stdout",
     "output_type": "stream",
     "text": [
      "Train dataset size is 20000\n",
      "Val dataset size is 5000\n",
      "Test dataset size is 25000\n"
     ]
    }
   ],
   "source": [
    "# check size of data \n",
    "print (\"Train dataset size is {}\".format(len(train_data_indices)))\n",
    "print (\"Val dataset size is {}\".format(len(val_data_indices)))\n",
    "print (\"Test dataset size is {}\".format(len(test_data_indices)))"
   ]
  },
  {
   "cell_type": "code",
   "execution_count": 110,
   "metadata": {},
   "outputs": [
    {
     "name": "stdout",
     "output_type": "stream",
     "text": [
      "['i', 'disliked', 'this', 'film', 'intensely', 'and', 'left', 'during', 'the', 'scene', 'where', 'the', 'loyalist', 'gang', 'are', 'shot', 'up', 'by', 'the', 'british', '.', 'the', 'film', 'effectively', 'blames', 'the', 'people', 'of', 'ni', 'as', 'being', 'the', 'cause', 'of', 'their', 'own', 'troubles', '.', 'it', 'suggests', 'that', 'the', '25', 'year', 'war', 'was', 'a', 'question', 'of', 'intransigence', 'and', 'nothing', 'to', 'do', 'with', 'britain', \"'s\", 'partition', 'of', 'ireland', 'and', 'domination', 'of', 'its', 'history', 'i.e.', 'ni', 'was', 'created', 'by', 'britain', 'in', '1921', 'irrespective', 'of', 'the', 'wishes', 'of', 'the', 'rest', 'of', 'ireland.<br', '/><br', '/>the', 'characters', 'are', 'portrayed', 'as', 'hapless', 'fools', ',', 'even', 'though', 'i', 'despise', 'loyalist', 'paramilitaries', 'they', 'were', 'fighting', 'for', 'a', 'cause', '-', 'maintaining', 'their', 'artificial', 'privileges', 'over', 'the', 'catholic', 'community', '.', 'it', 'is', 'a', 'known', 'fact', 'that', 'british', 'intelligence', 'collaborated', 'with', 'loyalists', 'during', 'the', 'war', ',', 'no', 'doubt', 'to', 'keep', 'the', 'catholics', 'at', 'bay', 'and', 'demoralise', 'republicanism.<br', '/><br', '/>nineties', \"'\", 'values', 'about', \"'\", 'machismo', \"'\", ',', 'masculinity', 'etc', 'are', 'transposed', 'on', 'to', '1970s', 'belfast', 'and', 'are', 'portrayed', 'as', 'part', 'of', 'the', 'supposedly', 'unique', 'irish', \"'\", 'psyche', \"'\", 'which', 'leads', 'to', 'violence', '.', 'the', 'stupid', 'song', 'from', 'the', 'woman', 'in', 'the', 'club', '-', 'old', 'ireland', 'of', 'green', 'fields', '..', 'blah', '..', 'blah', '..', '-', 'is', 'given', 'a', 'symbolic', 'stature', ',', 'i.e.', 'poor', 'young', 'fools', 'fighting', 'for', 'an', 'impossible', 'cause', '.', 'tedious', ',', 'ahistorical', ',', 'cheap', 'and', 'nasty', 'trash', '.', \"o'sullivan\", 'has', 'made', 'a', 'personal', 'statement', 'on', 'a', 'conflict', 'which', 'requires', 'serious', 'political', 'analysis', '.']\n",
      "[12, 5441, 13, 25, 8019, 5, 322, 336, 2, 151, 136, 2, 1, 1349, 32, 345, 67, 41, 2, 654, 4, 2, 25, 2700, 7859, 2, 94, 7, 1, 20, 124, 2, 1162, 7, 80, 220, 5004, 4, 10, 3330, 14, 2, 2939, 328, 334, 19, 6, 896, 7, 1, 5, 178, 8, 55, 22, 3266, 16, 8875, 7, 4803, 5, 1, 7, 106, 466, 2405, 1, 19, 1083, 41, 3266, 11, 1, 1, 7, 2, 3039, 7, 2, 364, 7, 1, 18, 117, 119, 32, 995, 20, 5796, 7186, 3, 70, 170, 12, 7722, 1, 1, 40, 79, 983, 21, 6, 1162, 17, 9287, 80, 4599, 1, 137, 2, 3008, 1873, 4, 10, 9, 6, 562, 203, 14, 654, 1621, 1, 22, 1, 336, 2, 334, 3, 68, 806, 8, 406, 2, 1, 39, 5129, 5, 1, 1, 18, 1, 54, 1258, 52, 54, 1, 54, 3, 1, 566, 32, 1, 26, 8, 3560, 1, 5, 32, 995, 20, 189, 7, 2, 1584, 963, 2830, 54, 6952, 54, 73, 850, 8, 595, 4, 2, 403, 610, 45, 2, 253, 11, 2, 1325, 17, 164, 4803, 7, 1343, 4748, 413, 2641, 413, 2641, 413, 17, 9, 360, 6, 5247, 9748, 3, 2405, 358, 198, 7186, 983, 21, 43, 1193, 1162, 4, 2351, 3, 1, 3, 707, 5, 1678, 1179, 4, 9076, 53, 105, 6, 915, 2690, 26, 6, 1987, 73, 3380, 641, 986, 5005, 4]\n"
     ]
    }
   ],
   "source": [
    "# check tokenization of dataset \n",
    "print(train_data_tokens[0])\n",
    "print(train_data_indices[0])"
   ]
  },
  {
   "cell_type": "markdown",
   "metadata": {},
   "source": [
    "# Model Architecture and Data Loader"
   ]
  },
  {
   "cell_type": "code",
   "execution_count": 111,
   "metadata": {},
   "outputs": [],
   "source": [
    "# define custom dataset class and collate function for data loader \n",
    "\n",
    "class MovieReviewsDataset(Dataset): \n",
    "    \"\"\" \n",
    "    Class that represents a train/validation/test dataset that's readable for PyTorch\n",
    "    Note that this class inherits torch.utils.data.Dataset\n",
    "    \"\"\"\n",
    "    \n",
    "    def __init__(self, data_list, label_list, max_sentence_length): \n",
    "        \"\"\" \n",
    "        Initialize dataset by passing in a list of movie review tokens and a list of labels \n",
    "        \"\"\"\n",
    "        self.data_list = data_list \n",
    "        self.label_list = label_list \n",
    "        self.max_sentence_length = max_sentence_length\n",
    "        assert (len(self.data_list) == len(self.label_list))\n",
    "        \n",
    "    def __len__(self): \n",
    "        return len(self.data_list)\n",
    "    \n",
    "    def __getitem__(self, key): \n",
    "        \"\"\"\n",
    "        Triggered when dataset[i] is called, outputs a list of tokens, length of list, and label of the data point\n",
    "        \"\"\"\n",
    "        token_idx = self.data_list[key][:self.max_sentence_length]\n",
    "        label = self.label_list[key]\n",
    "        return [token_idx, len(token_idx), label]\n",
    "    \n",
    "def collate_func(max_sentence_length, batch): \n",
    "    \"\"\" \n",
    "    Customized function for DataLoader that dynamically pads the batch so that the data have the same length\n",
    "    Note that this takes max_sentence_length as a first argument to be prefilled with a partial function later \n",
    "        to facilitate hyperparameter tuning \n",
    "    \"\"\"\n",
    "    data_list = [] \n",
    "    label_list = [] \n",
    "    length_list = [] \n",
    "    \n",
    "    for datum in batch:         \n",
    "        label_list.append(datum[2])\n",
    "        length_list.append(datum[1])\n",
    "        # pad data before appending \n",
    "        padded_vec = np.pad(array = np.array(datum[0]), \n",
    "                            pad_width = ((0, max_sentence_length - datum[1])), \n",
    "                            mode = 'constant', constant_values = 0)\n",
    "        data_list.append(padded_vec)\n",
    "        \n",
    "    return [torch.from_numpy(np.array(data_list)), torch.LongTensor(length_list), torch.LongTensor(label_list)]"
   ]
  },
  {
   "cell_type": "code",
   "execution_count": 112,
   "metadata": {},
   "outputs": [],
   "source": [
    "# define model architecture and helper methods \n",
    "\n",
    "class BagOfWords(nn.Module): \n",
    "    \"\"\" \n",
    "    BagOfWords classification model \n",
    "    \"\"\"\n",
    "    \n",
    "    def __init__(self, vocab_size, emb_dim): \n",
    "        \"\"\" \n",
    "        @param vocab_size: size of the vocabulary \n",
    "        @param emd_dim: size of the word embedding \n",
    "        \"\"\"\n",
    "        super().__init__() \n",
    "        self.embed = nn.Embedding(vocab_size, emb_dim, padding_idx=0)\n",
    "        self.linear = nn.Linear(emb_dim, 2)\n",
    "        \n",
    "    def forward(self, data, length): \n",
    "        \"\"\" \n",
    "        @param data: matrix of size (batch_size, max_sentence_length). Each row in data represents a review\n",
    "            that is represented using n-gram index. Note that they are padded to have the same length. \n",
    "        @param length: an int tensor of size (batch_size), which represents the non-trivial (i.e. non-padded)\n",
    "            length of each sentence in the data \n",
    "        \"\"\"\n",
    "        out = self.embed(data)\n",
    "        out = torch.sum(out, dim=1)\n",
    "        out /= length.view(length.size()[0],1).expand_as(out).float()\n",
    "        \n",
    "        # return logits\n",
    "        out = self.linear(out.float())\n",
    "\n",
    "        return out"
   ]
  },
  {
   "cell_type": "markdown",
   "metadata": {},
   "source": [
    "# Model Training"
   ]
  },
  {
   "cell_type": "code",
   "execution_count": 113,
   "metadata": {},
   "outputs": [],
   "source": [
    "# helper functions to train and test model \n",
    "\n",
    "def test_model(loader, model): \n",
    "    \"\"\" \n",
    "    Helper function that tests the model's performance on a given dataset \n",
    "    @param: loader = data loader for the dataset to test against \n",
    "    \"\"\"\n",
    "    correct = 0 \n",
    "    total = 0 \n",
    "    model.eval() \n",
    "    \n",
    "    for data_batch, length_batch, label_batch in loader: \n",
    "        outputs = F.softmax(model(data_batch, length_batch), dim=1)\n",
    "        predictions = outputs.max(1, keepdim=True)[1]    \n",
    "        total += label_batch.size(0)\n",
    "        correct += predictions.eq(label_batch.view_as(predictions)).sum().item()\n",
    "        \n",
    "    return (100 * correct / total)"
   ]
  },
  {
   "cell_type": "code",
   "execution_count": 114,
   "metadata": {},
   "outputs": [],
   "source": [
    "def train_and_eval(model, optimizer, train_loader, val_loader, num_epochs, print_results=True):  \n",
    "    \"\"\"\n",
    "    Trains model on data from train_loader and evaluates on data from val_loader for num_epochs \n",
    "    Returns results as a dictionary comprising epoch, train accuracy, and validation accuracy \n",
    "    \"\"\"\n",
    "    # train and validate \n",
    "    criterion = torch.nn.CrossEntropyLoss()\n",
    "    results = []\n",
    "    for epoch in range(num_epochs):\n",
    "        for i, (data_batch, length_batch, label_batch) in enumerate(train_loader):\n",
    "            model.train()\n",
    "            optimizer.zero_grad()\n",
    "            outputs = model(data_batch, length_batch)\n",
    "            loss = criterion(outputs, label_batch)\n",
    "            loss.backward()\n",
    "            optimizer.step()\n",
    "            # validate every 100 iterations\n",
    "            if i % 100 == 0 or ((epoch==num_epochs-1) & (i==len(train_loader)-1)):\n",
    "                result = {} \n",
    "                result['epoch'] = epoch + i / len(train_loader)\n",
    "                result['train_acc'] = test_model(train_loader, model)\n",
    "                result['val_acc'] = test_model(val_loader, model)       \n",
    "                results.append(result)\n",
    "\n",
    "                if print_results: \n",
    "                    print('Epoch: {:.2f}, Train Accuracy: {:.2f}%, Validation Accuracy: {:.2f}%'.format(\n",
    "                        result['epoch'], result['train_acc'], result['val_acc']))\n",
    "    \n",
    "    return results "
   ]
  },
  {
   "cell_type": "code",
   "execution_count": 115,
   "metadata": {},
   "outputs": [],
   "source": [
    "def run_experiment(train_tokens, val_tokens, train_labels, val_labels, \n",
    "                   optimizer, learning_rate, emb_dim, max_vocab_size, max_sentence_length,\n",
    "                   num_epochs, batch_size=32, print_results=True): \n",
    "    \n",
    "    \"\"\" Wraps all processing, training and evaluation steps in a function to facilitate hyperparam tuning. \n",
    "        Note that the function takes as input tokenized data rather than raw data since there's significant \n",
    "        lag time in generating tokens.  \n",
    "    \"\"\"\n",
    "    \n",
    "    # build vocab based on max_vocab_size specified \n",
    "    all_train_tokens = [item for sublist in train_data_tokens for item in sublist] \n",
    "    token2id, id2token = build_vocab(all_train_tokens, max_vocab_size)\n",
    "    \n",
    "    # convert tokens to token indices \n",
    "    train_data_indices = token2index_dataset(train_data_tokens, token2id)\n",
    "    val_data_indices = token2index_dataset(val_data_tokens, token2id)\n",
    "    \n",
    "    # instantiate PyTorch Dataset object \n",
    "    train_dataset = MovieReviewsDataset(train_data_indices, train_labels, max_sentence_length)\n",
    "    val_dataset = MovieReviewsDataset(val_data_indices, val_labels, max_sentence_length)\n",
    "    \n",
    "    # create PyTorch DataLoader\n",
    "    train_loader = torch.utils.data.DataLoader(dataset=train_dataset, batch_size=batch_size, shuffle=True, \n",
    "                                               collate_fn=partial(collate_func, max_sentence_length))\n",
    "    val_loader = torch.utils.data.DataLoader(dataset=val_dataset, batch_size=batch_size, shuffle=True, \n",
    "                                             collate_fn=partial(collate_func, max_sentence_length))\n",
    "    \n",
    "    # instantiate model and optimizer \n",
    "    model = BagOfWords(len(token2id), emb_dim)\n",
    "    optim = optimizer(params=model.parameters(), lr=learning_rate)\n",
    "    \n",
    "    # train and evaluate \n",
    "    results = train_and_eval(model, optim, train_loader, val_loader, num_epochs, print_results=True)\n",
    "    \n",
    "    return results "
   ]
  },
  {
   "cell_type": "markdown",
   "metadata": {},
   "source": [
    "## Basic Model  "
   ]
  },
  {
   "cell_type": "markdown",
   "metadata": {},
   "source": [
    "First let's train and evaluate a basic model with a set of arbitrary hyperparameters to make sure the code runs correctly:"
   ]
  },
  {
   "cell_type": "code",
   "execution_count": 116,
   "metadata": {},
   "outputs": [
    {
     "name": "stdout",
     "output_type": "stream",
     "text": [
      "Epoch: 0.00, Train Accuracy: 49.95%, Validation Accuracy: 49.96%\n",
      "Epoch: 0.16, Train Accuracy: 64.78%, Validation Accuracy: 63.18%\n",
      "Epoch: 0.32, Train Accuracy: 69.47%, Validation Accuracy: 68.48%\n",
      "Epoch: 0.48, Train Accuracy: 72.06%, Validation Accuracy: 71.18%\n",
      "Epoch: 0.64, Train Accuracy: 76.30%, Validation Accuracy: 73.98%\n",
      "Epoch: 0.80, Train Accuracy: 78.39%, Validation Accuracy: 75.24%\n",
      "Epoch: 0.96, Train Accuracy: 80.28%, Validation Accuracy: 77.32%\n",
      "Epoch: 1.00, Train Accuracy: 80.59%, Validation Accuracy: 77.54%\n",
      "Epoch: 1.16, Train Accuracy: 81.89%, Validation Accuracy: 78.66%\n",
      "Epoch: 1.32, Train Accuracy: 83.03%, Validation Accuracy: 79.80%\n",
      "Epoch: 1.48, Train Accuracy: 84.06%, Validation Accuracy: 80.44%\n",
      "Epoch: 1.64, Train Accuracy: 84.64%, Validation Accuracy: 81.02%\n",
      "Epoch: 1.80, Train Accuracy: 85.61%, Validation Accuracy: 81.66%\n",
      "Epoch: 1.96, Train Accuracy: 86.23%, Validation Accuracy: 82.00%\n",
      "Epoch: 2.00, Train Accuracy: 86.22%, Validation Accuracy: 81.50%\n",
      "Epoch: 2.16, Train Accuracy: 86.71%, Validation Accuracy: 81.82%\n",
      "Epoch: 2.32, Train Accuracy: 87.16%, Validation Accuracy: 82.80%\n",
      "Epoch: 2.48, Train Accuracy: 87.75%, Validation Accuracy: 82.88%\n",
      "Epoch: 2.64, Train Accuracy: 88.11%, Validation Accuracy: 83.16%\n",
      "Epoch: 2.80, Train Accuracy: 88.28%, Validation Accuracy: 83.58%\n",
      "Epoch: 2.96, Train Accuracy: 88.88%, Validation Accuracy: 83.50%\n",
      "Epoch: 3.00, Train Accuracy: 88.57%, Validation Accuracy: 83.38%\n",
      "Epoch: 3.16, Train Accuracy: 89.12%, Validation Accuracy: 83.94%\n",
      "Epoch: 3.32, Train Accuracy: 89.47%, Validation Accuracy: 84.02%\n",
      "Epoch: 3.48, Train Accuracy: 89.72%, Validation Accuracy: 83.82%\n",
      "Epoch: 3.64, Train Accuracy: 90.12%, Validation Accuracy: 83.84%\n",
      "Epoch: 3.80, Train Accuracy: 90.20%, Validation Accuracy: 84.04%\n",
      "Epoch: 3.96, Train Accuracy: 90.61%, Validation Accuracy: 84.16%\n",
      "Epoch: 4.00, Train Accuracy: 90.72%, Validation Accuracy: 84.10%\n",
      "Epoch: 4.16, Train Accuracy: 90.68%, Validation Accuracy: 84.28%\n",
      "Epoch: 4.32, Train Accuracy: 90.95%, Validation Accuracy: 84.24%\n",
      "Epoch: 4.48, Train Accuracy: 91.18%, Validation Accuracy: 83.90%\n",
      "Epoch: 4.64, Train Accuracy: 91.41%, Validation Accuracy: 84.40%\n",
      "Epoch: 4.80, Train Accuracy: 91.58%, Validation Accuracy: 83.84%\n",
      "Epoch: 4.96, Train Accuracy: 91.87%, Validation Accuracy: 84.18%\n",
      "Epoch: 5.00, Train Accuracy: 92.03%, Validation Accuracy: 84.58%\n"
     ]
    }
   ],
   "source": [
    "results = run_experiment(train_data_tokens, val_data_tokens, train_labels, val_labels, optimizer=Adam, \n",
    "                         learning_rate=0.001, emb_dim=100, max_vocab_size=10000, max_sentence_length=200,\n",
    "                         num_epochs=5, batch_size=32, print_results=True)"
   ]
  },
  {
   "cell_type": "markdown",
   "metadata": {},
   "source": [
    "It looks like we were able to obtain pretty good results already: ~84% accuracy on unseen validation dataset. We will proceed to try different proprocessing and hyperparameters next. "
   ]
  },
  {
   "cell_type": "code",
   "execution_count": 117,
   "metadata": {},
   "outputs": [
    {
     "data": {
      "text/plain": [
       "<matplotlib.axes._subplots.AxesSubplot at 0x1a4b0ee6d8>"
      ]
     },
     "execution_count": 117,
     "metadata": {},
     "output_type": "execute_result"
    },
    {
     "data": {
      "image/png": "[encoded data removed]",
      "text/plain": [
       "<Figure size 432x288 with 1 Axes>"
      ]
     },
     "metadata": {
      "needs_background": "light"
     },
     "output_type": "display_data"
    }
   ],
   "source": [
    "# learning curve \n",
    "results_df = pd.DataFrame.from_dict(results)\n",
    "results_df = results_df.set_index('epoch')\n",
    "results_df.plot()"
   ]
  },
  {
   "cell_type": "markdown",
   "metadata": {},
   "source": [
    "## Model Tuning "
   ]
  },
  {
   "cell_type": "code",
   "execution_count": 175,
   "metadata": {},
   "outputs": [],
   "source": [
    "# helper methods for evaluating different models \n",
    "\n",
    "def print_val_accuracy(experiment_results): \n",
    "    \"\"\" Summarizes experiment results by summarizing the best validation accuracy (of recorded epochs) \n",
    "        obtained for each model tested\n",
    "    \"\"\"\n",
    "    val_acc_summary = {} \n",
    "    for experiment in tokenization_experiments: \n",
    "        val_acc_summary[experiment] = pd.DataFrame.from_dict(tokenization_experiments[experiment])['val_acc'].max()\n",
    "    val_acc_summary_df = pd.DataFrame.from_dict(val_acc_summary, orient='index').reset_index()\n",
    "    val_acc_summary_df.rename(columns={'index': 'model', 0: 'val_acc'}, inplace=True)\n",
    "    val_acc_summary_df.sort_values(by='val_acc', ascending=False, inplace=True)\n",
    "\n",
    "    return val_acc_summary_df\n",
    "\n",
    "def print_learning_curve(experiment_results): \n",
    "    \"\"\" Prints the learning curve (validation accuracy only) for each model tested \"\"\"\n",
    "    plt.figure(figsize=(8, 5))\n",
    "    for experiment in experiment_results: \n",
    "        plt.plot(pd.DataFrame.from_dict(experiment_results[experiment]).set_index('epoch')['val_acc'], \n",
    "                 label=experiment)\n",
    "    plt.ylabel('Validation Accuracy')\n",
    "    plt.xlabel('Epoch')\n",
    "    plt.legend()"
   ]
  },
  {
   "cell_type": "markdown",
   "metadata": {},
   "source": [
    "#### Tokenization Schemes"
   ]
  },
  {
   "cell_type": "markdown",
   "metadata": {},
   "source": [
    "Previously we converted our text data to tokens with limited preprocessing: the standard SpaCy tokenizer was applied on the lowercased text. In this section, we experiment with other tokenization schemes: \n",
    "\n",
    "0. Lowercased Text (\"Standard\") \n",
    "1. Lowercased Text + Removed Punctuation \n",
    "2. Lowercased Text + Removed Punctuation + Removed Stopwards (SpaCy)\n",
    "3. Lowercased Text + Removed Punctuation + Removed Stopwards (NLTK)\n",
    "4. Lowercased Text + Removed Punctuation + Removed Stopwards (SpaCy) + Lemmatize \n",
    "5. Lowercased Text + Removed Punctuation + Removed Stopwards (NLTK) + Lemmatize "
   ]
  },
  {
   "cell_type": "code",
   "execution_count": 119,
   "metadata": {},
   "outputs": [],
   "source": [
    "punctuations = string.punctuation \n",
    "spacy_stop_words = tokenizer.Defaults.stop_words\n",
    "nltk_stop_words = nltk.corpus.stopwords.words('english')"
   ]
  },
  {
   "cell_type": "markdown",
   "metadata": {},
   "source": [
    "Note that we are testing two sets of stopwords, one from SpaCy and another from NLTK. SpaCy's considerably longer, and includes a number of words that might be important in n-grams, e.g. 'not', 'very'. NLTK's is shorter and appears to be more conservative. "
   ]
  },
  {
   "cell_type": "code",
   "execution_count": 125,
   "metadata": {},
   "outputs": [
    {
     "name": "stdout",
     "output_type": "stream",
     "text": [
      "{'were', 'becomes', 'eleven', 'make', 'now', 'on', 'ourselves', 'at', 'without', 'after', 'cannot', 'elsewhere', 'namely', 'regarding', 'them', 'which', 'but', 'any', 'our', 'wherever', 'within', 'are', 'one', 'where', 'except', 'neither', 'itself', 'own', 'out', 'top', 'moreover', 'via', 'thereafter', 'anyway', 'whereas', 'call', 'all', 'some', 'ours', 'seems', 'meanwhile', 'been', 'therefore', 'nothing', 'really', 'to', 'yourself', 'alone', 'five', 'everyone', 'see', 'indeed', 'above', 'did', 'get', 'ever', 'twenty', 'against', 'thereupon', 'say', 'many', 'was', 'who', 'more', 'two', 'these', 'else', 'well', 'those', 'keep', 'much', 'can', 'go', 'least', 'this', 'became', 'does', 'sixty', 'first', 'into', 'whole', 'besides', 'nevertheless', 'whose', 'my', 'down', 'had', 'still', 'through', 'someone', 'if', 'either', 'may', 'off', 'such', 'and', 'ten', 'thru', 'am', 'up', 'we', 'per', 'amount', 'whence', 'myself', 'him', 'amongst', 'seeming', 'whatever', 'yet', 'about', 'whither', 'hence', 'i', 'always', 'bottom', 'each', 'has', 'serious', 'hereafter', 'she', 'herself', 'less', 'part', 'quite', 'throughout', 'few', 'wherein', 'anything', 'under', 'put', 'must', 'noone', 'onto', 'already', 'same', 'between', 'somewhere', 'because', 'afterwards', 'being', 'due', 'himself', 'most', 'none', 'or', 'over', 'thence', 'here', 'her', 'next', 'of', 'from', 'becoming', 'will', 'beside', 'not', 'fifty', 'nowhere', 'almost', 'below', 'in', 'it', 'would', 'something', 'although', 'forty', 'front', 'his', 'never', 'perhaps', 'however', 'only', 'somehow', 'too', 'various', 'whenever', 'rather', 'he', 'across', 'yours', 'nine', 'herein', 'often', 'the', 'back', 'seem', 'take', 'give', 'just', 'thus', 'show', 'until', 'us', 'third', 'both', 'before', 'whereby', 'a', 'have', 'full', 'anyhow', 'how', 'otherwise', 'beforehand', 'so', 'their', 'unless', 'whoever', 'along', 'hers', 'is', 'seemed', 'thereby', 'move', 'every', 'you', 'anyone', 'using', 'last', 'name', 'do', 'therein', 'whether', 'eight', 'fifteen', 'four', 'side', 'made', 'than', 'whereupon', 'mine', 'latter', 'toward', 'another', 'others', 'behind', 'though', 'could', 'six', 'sometimes', 'nor', 'ca', 'latterly', 'again', 'other', 'should', 'everything', 'since', 'that', 'yourselves', 'become', 'whereafter', 'might', 'during', 'me', 'its', 'by', 'mostly', 'used', 'hereupon', 're', 'doing', 'empty', 'with', 'whom', 'around', 'even', 'towards', 'what', 'your', 'former', 'upon', 'once', 'further', 'please', 'also', 'why', 'everywhere', 'hereby', 'nobody', 'twelve', 'when', 'an', 'there', 'several', 'while', 'hundred', 'no', 'formerly', 'themselves', 'sometime', 'they', 'together', 'as', 'beyond', 'then', 'among', 'be', 'anywhere', 'for', 'three', 'very', 'done', 'enough'}\n"
     ]
    }
   ],
   "source": [
    "print(spacy_stop_words)"
   ]
  },
  {
   "cell_type": "code",
   "execution_count": 126,
   "metadata": {},
   "outputs": [
    {
     "name": "stdout",
     "output_type": "stream",
     "text": [
      "['i', 'me', 'my', 'myself', 'we', 'our', 'ours', 'ourselves', 'you', 'your', 'yours', 'yourself', 'yourselves', 'he', 'him', 'his', 'himself', 'she', 'her', 'hers', 'herself', 'it', 'its', 'itself', 'they', 'them', 'their', 'theirs', 'themselves', 'what', 'which', 'who', 'whom', 'this', 'that', 'these', 'those', 'am', 'is', 'are', 'was', 'were', 'be', 'been', 'being', 'have', 'has', 'had', 'having', 'do', 'does', 'did', 'doing', 'a', 'an', 'the', 'and', 'but', 'if', 'or', 'because', 'as', 'until', 'while', 'of', 'at', 'by', 'for', 'with', 'about', 'against', 'between', 'into', 'through', 'during', 'before', 'after', 'above', 'below', 'to', 'from', 'up', 'down', 'in', 'out', 'on', 'off', 'over', 'under', 'again', 'further', 'then', 'once', 'here', 'there', 'when', 'where', 'why', 'how', 'all', 'any', 'both', 'each', 'few', 'more', 'most', 'other', 'some', 'such', 'no', 'nor', 'not', 'only', 'own', 'same', 'so', 'than', 'too', 'very', 's', 't', 'can', 'will', 'just', 'don', 'should', 'now', 'd', 'll', 'm', 'o', 're', 've', 'y', 'ain', 'aren', 'couldn', 'didn', 'doesn', 'hadn', 'hasn', 'haven', 'isn', 'ma', 'mightn', 'mustn', 'needn', 'shan', 'shouldn', 'wasn', 'weren', 'won', 'wouldn']\n"
     ]
    }
   ],
   "source": [
    "print(nltk_stop_words)"
   ]
  },
  {
   "cell_type": "code",
   "execution_count": 128,
   "metadata": {},
   "outputs": [],
   "source": [
    "# define various tokenization functions and store as a dictionary \n",
    "\n",
    "def remove_punc(parsed):\n",
    "    \"\"\" Takes text as input and outputs a list of tokens in lowercase without punctuation \"\"\"\n",
    "    return [token.text.lower() for token in parsed if (token.text not in punctuations)]\n",
    "\n",
    "def remove_punc_spacy_stopwords(parsed):\n",
    "    \"\"\" Takes text as input and outputs a list of tokens in lowercase without punctuation \"\"\"\n",
    "    return [token.text.lower() for token in parsed \n",
    "            if (token.text not in punctuations and token.text.lower() not in spacy_stop_words)]\n",
    "\n",
    "def remove_punc_nltk_stopwords(parsed):\n",
    "    \"\"\" Takes text as input and outputs a list of tokens in lowercase without punctuation \"\"\"\n",
    "    return [token.text.lower() for token in parsed \n",
    "            if (token.text not in punctuations and token.text.lower() not in nltk_stop_words)]\n",
    "\n",
    "def remove_punc_spacy_stopwords_lemmatize(parsed):\n",
    "    \"\"\" Takes text as input and outputs a list of tokens in lowercase without punctuation \"\"\"\n",
    "    return [token.lemma_.lower() for token in parsed \n",
    "            if (token.text not in punctuations and token.lemma_.lower() not in spacy_stop_words)]\n",
    "\n",
    "def remove_punc_nltk_stopwords_lemmatize(parsed):\n",
    "    \"\"\" Takes text as input and outputs a list of tokens in lowercase without punctuation \"\"\"\n",
    "    return [token.lemma_.lower() for token in parsed \n",
    "            if (token.text not in punctuations and token.lemma_.lower() not in nltk_stop_words)]\n",
    "\n",
    "tokenization_schemes = {'lowercase': lower_case, \n",
    "                        'lowercase_no_punc': remove_punc, \n",
    "                        'lowercase_no_punc_stopwords_spacy': remove_punc_spacy_stopwords, \n",
    "                        'lowercase_no_punc_stopwords_nltk': remove_punc_nltk_stopwords, \n",
    "                        'lowercase_no_punc_stopwords_spacy_lemmatize': remove_punc_spacy_stopwords_lemmatize, \n",
    "                        'lowercase_no_punc_stopwords_nltk_lemmatize': remove_punc_nltk_stopwords_lemmatize}"
   ]
  },
  {
   "cell_type": "code",
   "execution_count": 129,
   "metadata": {},
   "outputs": [
    {
     "data": {
      "application/vnd.jupyter.widget-view+json": {
       "model_id": "aff457374d414d1282fa85220af0bc49",
       "version_major": 2,
       "version_minor": 0
      },
      "text/plain": [
       "HBox(children=(IntProgress(value=1, bar_style='info', max=1), HTML(value='')))"
      ]
     },
     "metadata": {},
     "output_type": "display_data"
    },
    {
     "name": "stdout",
     "output_type": "stream",
     "text": [
      "\n",
      "Data tokenized and saved as data/lowercase/train_data_tokens.p in 0.7 minutes\n"
     ]
    },
    {
     "data": {
      "application/vnd.jupyter.widget-view+json": {
       "model_id": "c1d5d56ce0c94149a21716f222c75957",
       "version_major": 2,
       "version_minor": 0
      },
      "text/plain": [
       "HBox(children=(IntProgress(value=1, bar_style='info', max=1), HTML(value='')))"
      ]
     },
     "metadata": {},
     "output_type": "display_data"
    },
    {
     "name": "stdout",
     "output_type": "stream",
     "text": [
      "\n",
      "Data tokenized and saved as data/lowercase/val_data_tokens.p in 0.2 minutes\n"
     ]
    },
    {
     "data": {
      "application/vnd.jupyter.widget-view+json": {
       "model_id": "8d4597b2a04c43f7b84c6c109eaa2ef8",
       "version_major": 2,
       "version_minor": 0
      },
      "text/plain": [
       "HBox(children=(IntProgress(value=1, bar_style='info', max=1), HTML(value='')))"
      ]
     },
     "metadata": {},
     "output_type": "display_data"
    },
    {
     "name": "stdout",
     "output_type": "stream",
     "text": [
      "\n",
      "Data tokenized and saved as data/lowercase/test_data_tokens.p in 0.7 minutes\n",
      "Epoch: 0.00, Train Accuracy: 48.63%, Validation Accuracy: 47.86%\n",
      "Epoch: 0.16, Train Accuracy: 62.27%, Validation Accuracy: 61.36%\n",
      "Epoch: 0.32, Train Accuracy: 68.27%, Validation Accuracy: 68.18%\n",
      "Epoch: 0.48, Train Accuracy: 72.97%, Validation Accuracy: 72.02%\n",
      "Epoch: 0.64, Train Accuracy: 75.69%, Validation Accuracy: 74.64%\n",
      "Epoch: 0.80, Train Accuracy: 77.91%, Validation Accuracy: 76.20%\n",
      "Epoch: 0.96, Train Accuracy: 79.40%, Validation Accuracy: 77.86%\n",
      "Epoch: 1.00, Train Accuracy: 80.05%, Validation Accuracy: 77.50%\n",
      "Epoch: 1.16, Train Accuracy: 81.57%, Validation Accuracy: 78.86%\n",
      "Epoch: 1.32, Train Accuracy: 82.79%, Validation Accuracy: 79.62%\n",
      "Epoch: 1.48, Train Accuracy: 83.75%, Validation Accuracy: 80.34%\n",
      "Epoch: 1.64, Train Accuracy: 84.53%, Validation Accuracy: 80.90%\n",
      "Epoch: 1.80, Train Accuracy: 85.42%, Validation Accuracy: 81.44%\n",
      "Epoch: 1.96, Train Accuracy: 85.95%, Validation Accuracy: 81.44%\n",
      "Epoch: 2.00, Train Accuracy: 86.33%, Validation Accuracy: 82.06%\n"
     ]
    },
    {
     "data": {
      "application/vnd.jupyter.widget-view+json": {
       "model_id": "05fddc128dc24a77935a965c2b105f95",
       "version_major": 2,
       "version_minor": 0
      },
      "text/plain": [
       "HBox(children=(IntProgress(value=1, bar_style='info', max=1), HTML(value='')))"
      ]
     },
     "metadata": {},
     "output_type": "display_data"
    },
    {
     "name": "stdout",
     "output_type": "stream",
     "text": [
      "\n",
      "Data tokenized and saved as data/lowercase_no_punc/train_data_tokens.p in 0.6 minutes\n"
     ]
    },
    {
     "data": {
      "application/vnd.jupyter.widget-view+json": {
       "model_id": "9560089cfe02441687ba6486b953ccd0",
       "version_major": 2,
       "version_minor": 0
      },
      "text/plain": [
       "HBox(children=(IntProgress(value=1, bar_style='info', max=1), HTML(value='')))"
      ]
     },
     "metadata": {},
     "output_type": "display_data"
    },
    {
     "name": "stdout",
     "output_type": "stream",
     "text": [
      "\n",
      "Data tokenized and saved as data/lowercase_no_punc/val_data_tokens.p in 0.1 minutes\n"
     ]
    },
    {
     "data": {
      "application/vnd.jupyter.widget-view+json": {
       "model_id": "7df2b9d333a74c5bbdc830c592680c0b",
       "version_major": 2,
       "version_minor": 0
      },
      "text/plain": [
       "HBox(children=(IntProgress(value=1, bar_style='info', max=1), HTML(value='')))"
      ]
     },
     "metadata": {},
     "output_type": "display_data"
    },
    {
     "name": "stdout",
     "output_type": "stream",
     "text": [
      "\n",
      "Data tokenized and saved as data/lowercase_no_punc/test_data_tokens.p in 0.7 minutes\n",
      "Epoch: 0.00, Train Accuracy: 49.99%, Validation Accuracy: 49.88%\n",
      "Epoch: 0.16, Train Accuracy: 63.76%, Validation Accuracy: 61.58%\n",
      "Epoch: 0.32, Train Accuracy: 67.83%, Validation Accuracy: 66.56%\n",
      "Epoch: 0.48, Train Accuracy: 72.49%, Validation Accuracy: 70.76%\n",
      "Epoch: 0.64, Train Accuracy: 76.49%, Validation Accuracy: 73.70%\n",
      "Epoch: 0.80, Train Accuracy: 78.70%, Validation Accuracy: 75.66%\n",
      "Epoch: 0.96, Train Accuracy: 80.83%, Validation Accuracy: 78.44%\n",
      "Epoch: 1.00, Train Accuracy: 80.84%, Validation Accuracy: 78.42%\n",
      "Epoch: 1.16, Train Accuracy: 82.75%, Validation Accuracy: 79.40%\n",
      "Epoch: 1.32, Train Accuracy: 83.65%, Validation Accuracy: 80.80%\n",
      "Epoch: 1.48, Train Accuracy: 84.57%, Validation Accuracy: 81.66%\n",
      "Epoch: 1.64, Train Accuracy: 85.58%, Validation Accuracy: 81.54%\n",
      "Epoch: 1.80, Train Accuracy: 86.01%, Validation Accuracy: 82.42%\n",
      "Epoch: 1.96, Train Accuracy: 86.61%, Validation Accuracy: 82.52%\n",
      "Epoch: 2.00, Train Accuracy: 86.69%, Validation Accuracy: 82.60%\n"
     ]
    },
    {
     "data": {
      "application/vnd.jupyter.widget-view+json": {
       "model_id": "16e974c286df4277bb452a7d4e33acb8",
       "version_major": 2,
       "version_minor": 0
      },
      "text/plain": [
       "HBox(children=(IntProgress(value=1, bar_style='info', max=1), HTML(value='')))"
      ]
     },
     "metadata": {},
     "output_type": "display_data"
    },
    {
     "name": "stdout",
     "output_type": "stream",
     "text": [
      "\n",
      "Data tokenized and saved as data/lowercase_no_punc_stopwords_spacy/train_data_tokens.p in 0.8 minutes\n"
     ]
    },
    {
     "data": {
      "application/vnd.jupyter.widget-view+json": {
       "model_id": "99ff5fd6ce6f441baee0de8f973aabbb",
       "version_major": 2,
       "version_minor": 0
      },
      "text/plain": [
       "HBox(children=(IntProgress(value=1, bar_style='info', max=1), HTML(value='')))"
      ]
     },
     "metadata": {},
     "output_type": "display_data"
    },
    {
     "name": "stdout",
     "output_type": "stream",
     "text": [
      "\n",
      "Data tokenized and saved as data/lowercase_no_punc_stopwords_spacy/val_data_tokens.p in 0.2 minutes\n"
     ]
    },
    {
     "data": {
      "application/vnd.jupyter.widget-view+json": {
       "model_id": "badce82f78d9414bab725c2161096226",
       "version_major": 2,
       "version_minor": 0
      },
      "text/plain": [
       "HBox(children=(IntProgress(value=1, bar_style='info', max=1), HTML(value='')))"
      ]
     },
     "metadata": {},
     "output_type": "display_data"
    },
    {
     "name": "stdout",
     "output_type": "stream",
     "text": [
      "\n",
      "Data tokenized and saved as data/lowercase_no_punc_stopwords_spacy/test_data_tokens.p in 0.9 minutes\n",
      "Epoch: 0.00, Train Accuracy: 51.33%, Validation Accuracy: 50.72%\n",
      "Epoch: 0.16, Train Accuracy: 65.06%, Validation Accuracy: 61.64%\n",
      "Epoch: 0.32, Train Accuracy: 72.40%, Validation Accuracy: 69.22%\n",
      "Epoch: 0.48, Train Accuracy: 77.52%, Validation Accuracy: 74.72%\n",
      "Epoch: 0.64, Train Accuracy: 81.32%, Validation Accuracy: 78.34%\n",
      "Epoch: 0.80, Train Accuracy: 82.36%, Validation Accuracy: 79.56%\n",
      "Epoch: 0.96, Train Accuracy: 85.08%, Validation Accuracy: 81.32%\n",
      "Epoch: 1.00, Train Accuracy: 85.34%, Validation Accuracy: 81.74%\n",
      "Epoch: 1.16, Train Accuracy: 86.40%, Validation Accuracy: 82.84%\n",
      "Epoch: 1.32, Train Accuracy: 87.42%, Validation Accuracy: 82.68%\n",
      "Epoch: 1.48, Train Accuracy: 88.13%, Validation Accuracy: 83.76%\n",
      "Epoch: 1.64, Train Accuracy: 88.61%, Validation Accuracy: 84.18%\n",
      "Epoch: 1.80, Train Accuracy: 89.33%, Validation Accuracy: 84.76%\n",
      "Epoch: 1.96, Train Accuracy: 89.78%, Validation Accuracy: 84.94%\n",
      "Epoch: 2.00, Train Accuracy: 89.84%, Validation Accuracy: 85.10%\n"
     ]
    },
    {
     "data": {
      "application/vnd.jupyter.widget-view+json": {
       "model_id": "ff4cd0326ca0416e81e05d13878c77f8",
       "version_major": 2,
       "version_minor": 0
      },
      "text/plain": [
       "HBox(children=(IntProgress(value=1, bar_style='info', max=1), HTML(value='')))"
      ]
     },
     "metadata": {},
     "output_type": "display_data"
    },
    {
     "name": "stdout",
     "output_type": "stream",
     "text": [
      "\n",
      "Data tokenized and saved as data/lowercase_no_punc_stopwords_nltk/train_data_tokens.p in 1.0 minutes\n"
     ]
    },
    {
     "data": {
      "application/vnd.jupyter.widget-view+json": {
       "model_id": "f4336ab0bf3a4eea960d5657aba8dd27",
       "version_major": 2,
       "version_minor": 0
      },
      "text/plain": [
       "HBox(children=(IntProgress(value=1, bar_style='info', max=1), HTML(value='')))"
      ]
     },
     "metadata": {},
     "output_type": "display_data"
    },
    {
     "name": "stdout",
     "output_type": "stream",
     "text": [
      "\n",
      "Data tokenized and saved as data/lowercase_no_punc_stopwords_nltk/val_data_tokens.p in 0.3 minutes\n"
     ]
    },
    {
     "data": {
      "application/vnd.jupyter.widget-view+json": {
       "model_id": "ab0864b346344a8baa90c1465978a9f0",
       "version_major": 2,
       "version_minor": 0
      },
      "text/plain": [
       "HBox(children=(IntProgress(value=1, bar_style='info', max=1), HTML(value='')))"
      ]
     },
     "metadata": {},
     "output_type": "display_data"
    },
    {
     "name": "stdout",
     "output_type": "stream",
     "text": [
      "\n",
      "Data tokenized and saved as data/lowercase_no_punc_stopwords_nltk/test_data_tokens.p in 1.1 minutes\n",
      "Epoch: 0.00, Train Accuracy: 51.42%, Validation Accuracy: 50.82%\n",
      "Epoch: 0.16, Train Accuracy: 66.29%, Validation Accuracy: 67.04%\n",
      "Epoch: 0.32, Train Accuracy: 72.10%, Validation Accuracy: 71.76%\n",
      "Epoch: 0.48, Train Accuracy: 78.46%, Validation Accuracy: 76.14%\n",
      "Epoch: 0.64, Train Accuracy: 79.89%, Validation Accuracy: 78.20%\n",
      "Epoch: 0.80, Train Accuracy: 83.79%, Validation Accuracy: 80.84%\n",
      "Epoch: 0.96, Train Accuracy: 85.33%, Validation Accuracy: 81.64%\n",
      "Epoch: 1.00, Train Accuracy: 85.67%, Validation Accuracy: 82.28%\n",
      "Epoch: 1.16, Train Accuracy: 86.55%, Validation Accuracy: 82.62%\n",
      "Epoch: 1.32, Train Accuracy: 87.33%, Validation Accuracy: 83.36%\n",
      "Epoch: 1.48, Train Accuracy: 87.94%, Validation Accuracy: 84.00%\n",
      "Epoch: 1.64, Train Accuracy: 88.77%, Validation Accuracy: 84.66%\n",
      "Epoch: 1.80, Train Accuracy: 89.27%, Validation Accuracy: 84.54%\n",
      "Epoch: 1.96, Train Accuracy: 89.84%, Validation Accuracy: 85.02%\n",
      "Epoch: 2.00, Train Accuracy: 89.98%, Validation Accuracy: 84.38%\n"
     ]
    },
    {
     "data": {
      "application/vnd.jupyter.widget-view+json": {
       "model_id": "e86f4b7a5c7a4f0293aed75164e172b5",
       "version_major": 2,
       "version_minor": 0
      },
      "text/plain": [
       "HBox(children=(IntProgress(value=1, bar_style='info', max=1), HTML(value='')))"
      ]
     },
     "metadata": {},
     "output_type": "display_data"
    },
    {
     "name": "stdout",
     "output_type": "stream",
     "text": [
      "\n",
      "Data tokenized and saved as data/lowercase_no_punc_stopwords_spacy_lemmatize/train_data_tokens.p in 0.6 minutes\n"
     ]
    },
    {
     "data": {
      "application/vnd.jupyter.widget-view+json": {
       "model_id": "635f2e1453c1439ea8578a77fc0b09f6",
       "version_major": 2,
       "version_minor": 0
      },
      "text/plain": [
       "HBox(children=(IntProgress(value=1, bar_style='info', max=1), HTML(value='')))"
      ]
     },
     "metadata": {},
     "output_type": "display_data"
    },
    {
     "name": "stdout",
     "output_type": "stream",
     "text": [
      "\n",
      "Data tokenized and saved as data/lowercase_no_punc_stopwords_spacy_lemmatize/val_data_tokens.p in 0.2 minutes\n"
     ]
    },
    {
     "data": {
      "application/vnd.jupyter.widget-view+json": {
       "model_id": "60923237bc11421a91d2abfccbc2b802",
       "version_major": 2,
       "version_minor": 0
      },
      "text/plain": [
       "HBox(children=(IntProgress(value=1, bar_style='info', max=1), HTML(value='')))"
      ]
     },
     "metadata": {},
     "output_type": "display_data"
    },
    {
     "name": "stdout",
     "output_type": "stream",
     "text": [
      "\n",
      "Data tokenized and saved as data/lowercase_no_punc_stopwords_spacy_lemmatize/test_data_tokens.p in 0.8 minutes\n",
      "Epoch: 0.00, Train Accuracy: 48.06%, Validation Accuracy: 47.84%\n",
      "Epoch: 0.16, Train Accuracy: 64.25%, Validation Accuracy: 64.00%\n",
      "Epoch: 0.32, Train Accuracy: 72.14%, Validation Accuracy: 69.98%\n",
      "Epoch: 0.48, Train Accuracy: 76.34%, Validation Accuracy: 73.92%\n",
      "Epoch: 0.64, Train Accuracy: 79.90%, Validation Accuracy: 76.68%\n",
      "Epoch: 0.80, Train Accuracy: 83.04%, Validation Accuracy: 80.22%\n",
      "Epoch: 0.96, Train Accuracy: 84.83%, Validation Accuracy: 81.46%\n",
      "Epoch: 1.00, Train Accuracy: 85.25%, Validation Accuracy: 81.94%\n",
      "Epoch: 1.16, Train Accuracy: 86.32%, Validation Accuracy: 82.26%\n",
      "Epoch: 1.32, Train Accuracy: 87.05%, Validation Accuracy: 83.20%\n",
      "Epoch: 1.48, Train Accuracy: 87.69%, Validation Accuracy: 83.34%\n",
      "Epoch: 1.64, Train Accuracy: 88.44%, Validation Accuracy: 83.52%\n",
      "Epoch: 1.80, Train Accuracy: 88.97%, Validation Accuracy: 83.92%\n",
      "Epoch: 1.96, Train Accuracy: 89.42%, Validation Accuracy: 84.08%\n",
      "Epoch: 2.00, Train Accuracy: 89.43%, Validation Accuracy: 84.28%\n"
     ]
    },
    {
     "data": {
      "application/vnd.jupyter.widget-view+json": {
       "model_id": "5101340e1f184e9989a28162f50e2f33",
       "version_major": 2,
       "version_minor": 0
      },
      "text/plain": [
       "HBox(children=(IntProgress(value=1, bar_style='info', max=1), HTML(value='')))"
      ]
     },
     "metadata": {},
     "output_type": "display_data"
    },
    {
     "name": "stdout",
     "output_type": "stream",
     "text": [
      "\n",
      "Data tokenized and saved as data/lowercase_no_punc_stopwords_nltk_lemmatize/train_data_tokens.p in 0.9 minutes\n"
     ]
    },
    {
     "data": {
      "application/vnd.jupyter.widget-view+json": {
       "model_id": "07babbfaa23340d28f8a8029179e3e1f",
       "version_major": 2,
       "version_minor": 0
      },
      "text/plain": [
       "HBox(children=(IntProgress(value=1, bar_style='info', max=1), HTML(value='')))"
      ]
     },
     "metadata": {},
     "output_type": "display_data"
    },
    {
     "name": "stdout",
     "output_type": "stream",
     "text": [
      "\n",
      "Data tokenized and saved as data/lowercase_no_punc_stopwords_nltk_lemmatize/val_data_tokens.p in 0.2 minutes\n"
     ]
    },
    {
     "data": {
      "application/vnd.jupyter.widget-view+json": {
       "model_id": "c7760f67e5cb4c57a8ebeb387ef82940",
       "version_major": 2,
       "version_minor": 0
      },
      "text/plain": [
       "HBox(children=(IntProgress(value=1, bar_style='info', max=1), HTML(value='')))"
      ]
     },
     "metadata": {},
     "output_type": "display_data"
    },
    {
     "name": "stdout",
     "output_type": "stream",
     "text": [
      "\n",
      "Data tokenized and saved as data/lowercase_no_punc_stopwords_nltk_lemmatize/test_data_tokens.p in 1.0 minutes\n",
      "Epoch: 0.00, Train Accuracy: 52.08%, Validation Accuracy: 51.08%\n",
      "Epoch: 0.16, Train Accuracy: 66.78%, Validation Accuracy: 65.76%\n",
      "Epoch: 0.32, Train Accuracy: 74.25%, Validation Accuracy: 72.28%\n",
      "Epoch: 0.48, Train Accuracy: 79.37%, Validation Accuracy: 76.98%\n",
      "Epoch: 0.64, Train Accuracy: 81.75%, Validation Accuracy: 78.54%\n",
      "Epoch: 0.80, Train Accuracy: 83.47%, Validation Accuracy: 80.14%\n",
      "Epoch: 0.96, Train Accuracy: 84.97%, Validation Accuracy: 81.28%\n",
      "Epoch: 1.00, Train Accuracy: 85.25%, Validation Accuracy: 81.48%\n",
      "Epoch: 1.16, Train Accuracy: 86.36%, Validation Accuracy: 82.62%\n",
      "Epoch: 1.32, Train Accuracy: 86.88%, Validation Accuracy: 83.24%\n",
      "Epoch: 1.48, Train Accuracy: 87.64%, Validation Accuracy: 84.14%\n",
      "Epoch: 1.64, Train Accuracy: 88.34%, Validation Accuracy: 84.00%\n",
      "Epoch: 1.80, Train Accuracy: 88.88%, Validation Accuracy: 84.40%\n",
      "Epoch: 1.96, Train Accuracy: 89.47%, Validation Accuracy: 84.48%\n",
      "Epoch: 2.00, Train Accuracy: 89.58%, Validation Accuracy: 84.36%\n"
     ]
    }
   ],
   "source": [
    "# run tokenization experiments \n",
    "\n",
    "tokenization_experiments = {}\n",
    "\n",
    "for t_scheme in tokenization_schemes: \n",
    "    \n",
    "    print (\"Training with and evaluating: {} ...\".format(t_scheme))\n",
    "    \n",
    "    # regenerate tokens for each scheme \n",
    "    train_data_tokens, val_data_tokens, test_data_tokens = tokenize_datasets_to_disk(\n",
    "        train_data, val_data, test_data, processing_func=tokenization_schemes[t_scheme], folder_name=t_scheme)\n",
    "    \n",
    "    # train and evaluate \n",
    "    results = run_experiment(train_data_tokens, val_data_tokens, train_labels, val_labels, optimizer=Adam, \n",
    "                             learning_rate=0.001, emb_dim=100, max_vocab_size=10000, max_sentence_length=200,\n",
    "                             num_epochs=2, batch_size=32, print_results=False)\n",
    "    \n",
    "    # store to dict \n",
    "    tokenization_experiments[t_scheme] = results "
   ]
  },
  {
   "cell_type": "code",
   "execution_count": 173,
   "metadata": {},
   "outputs": [
    {
     "data": {
      "text/html": [
       "<div>\n",
       "<style scoped>\n",
       "    .dataframe tbody tr th:only-of-type {\n",
       "        vertical-align: middle;\n",
       "    }\n",
       "\n",
       "    .dataframe tbody tr th {\n",
       "        vertical-align: top;\n",
       "    }\n",
       "\n",
       "    .dataframe thead th {\n",
       "        text-align: right;\n",
       "    }\n",
       "</style>\n",
       "<table border=\"1\" class=\"dataframe\">\n",
       "  <thead>\n",
       "    <tr style=\"text-align: right;\">\n",
       "      <th></th>\n",
       "      <th>model</th>\n",
       "      <th>val_acc</th>\n",
       "    </tr>\n",
       "  </thead>\n",
       "  <tbody>\n",
       "    <tr>\n",
       "      <th>2</th>\n",
       "      <td>lowercase_no_punc_stopwords_spacy</td>\n",
       "      <td>85.10</td>\n",
       "    </tr>\n",
       "    <tr>\n",
       "      <th>3</th>\n",
       "      <td>lowercase_no_punc_stopwords_nltk</td>\n",
       "      <td>85.02</td>\n",
       "    </tr>\n",
       "    <tr>\n",
       "      <th>5</th>\n",
       "      <td>lowercase_no_punc_stopwords_nltk_lemmatize</td>\n",
       "      <td>84.48</td>\n",
       "    </tr>\n",
       "    <tr>\n",
       "      <th>4</th>\n",
       "      <td>lowercase_no_punc_stopwords_spacy_lemmatize</td>\n",
       "      <td>84.28</td>\n",
       "    </tr>\n",
       "    <tr>\n",
       "      <th>1</th>\n",
       "      <td>lowercase_no_punc</td>\n",
       "      <td>82.60</td>\n",
       "    </tr>\n",
       "    <tr>\n",
       "      <th>0</th>\n",
       "      <td>lowercase</td>\n",
       "      <td>82.06</td>\n",
       "    </tr>\n",
       "  </tbody>\n",
       "</table>\n",
       "</div>"
      ],
      "text/plain": [
       "                                         model  val_acc\n",
       "2            lowercase_no_punc_stopwords_spacy    85.10\n",
       "3             lowercase_no_punc_stopwords_nltk    85.02\n",
       "5   lowercase_no_punc_stopwords_nltk_lemmatize    84.48\n",
       "4  lowercase_no_punc_stopwords_spacy_lemmatize    84.28\n",
       "1                            lowercase_no_punc    82.60\n",
       "0                                    lowercase    82.06"
      ]
     },
     "execution_count": 173,
     "metadata": {},
     "output_type": "execute_result"
    }
   ],
   "source": [
    "print_val_accuracy(tokenization_experiments)"
   ]
  },
  {
   "cell_type": "code",
   "execution_count": 176,
   "metadata": {},
   "outputs": [
    {
     "data": {
      "image/png": "[encoded data removed]",
      "text/plain": [
       "<Figure size 576x360 with 1 Axes>"
      ]
     },
     "metadata": {
      "needs_background": "light"
     },
     "output_type": "display_data"
    }
   ],
   "source": [
    "print_learning_curve(tokenization_experiments)"
   ]
  },
  {
   "cell_type": "markdown",
   "metadata": {},
   "source": [
    "### N-Gram"
   ]
  },
  {
   "cell_type": "code",
   "execution_count": null,
   "metadata": {},
   "outputs": [],
   "source": [
    "def ngramify(datum_tokens, max_n): \n",
    "    \"\"\" Generates n-grams up to max_n for one given list of tokens representing a datum \"\"\"\n",
    "    result = [] \n",
    "    n = max_n \n",
    "    \n",
    "    # decrement n to append ..., 3-grams, 2-grams to result \n",
    "    while n >= 1: \n",
    "        n_grams = [\" \".join(item) for item in list(zip(*[datum_tokens[i:] for i in range(n)]))]\n",
    "        result = result + n_grams \n",
    "        n = n - 1 \n",
    "        \n",
    "    # when n=1 just append original tokens\n",
    "    result = result + datum_tokens  \n",
    "    \n",
    "    return result "
   ]
  },
  {
   "cell_type": "code",
   "execution_count": null,
   "metadata": {},
   "outputs": [],
   "source": [
    "def generate_ngram_dataset(train_tokens, val_tokens, test_tokens, max_n, max_vocab_size):\n",
    "    \"\"\" Takes as input: orignal 1-gram train/val/test tokenized datasets, max_n (for n-gram), max_vocab_size, \n",
    "        and returns: \n",
    "        - token2id, id2token \n",
    "        - train_data_indices, val_data_indices, test_data_indices\n",
    "    \"\"\"\n",
    "    \n",
    "    # generate ngram tokens \n",
    "    train_ngram_tokens = [ngramify(datum, 3) for datum in train_tokens]  \n",
    "    val_ngram_tokens = [ngramify(datum, 3) for datum in val_tokens]  \n",
    "    test_ngram_tokens = [ngramify(datum, 3) for datum in test_tokens]  \n",
    "    all_train_ngram_tokens = [item for sublist in train_ngram_tokens for item in sublist] \n",
    "    \n",
    "    # build vocab \n",
    "    token2id, id2token = build_vocab(all_train_ngram_tokens, max_vocab_size)\n",
    "    \n",
    "    # convert tokens to indices \n",
    "    train_data_indices = token2index_dataset(train_ngram_tokens)\n",
    "    val_data_indices = token2index_dataset(val_ngram_tokens)\n",
    "    test_data_indices = token2index_dataset(test_ngram_tokens)\n",
    "    \n",
    "    return token2id, id2token, train_data_indices, val_data_indices, test_data_indices"
   ]
  },
  {
   "cell_type": "code",
   "execution_count": null,
   "metadata": {},
   "outputs": [],
   "source": [
    "token2id, id2token, train_data_indices, val_data_indices, test_data_indices = generate_ngram_dataset(\n",
    "    train_data_tokens, val_data_tokens, test_data_tokens, max_n=2, max_vocab_size=20000)"
   ]
  },
  {
   "cell_type": "code",
   "execution_count": null,
   "metadata": {},
   "outputs": [],
   "source": [
    "emb_dim = 100\n",
    "model = BagOfWords(len(id2token), emb_dim)\n",
    "learning_rate = 0.01 \n",
    "num_epochs = 2\n",
    "criterion = torch.nn.CrossEntropyLoss() \n",
    "optimizer = torch.optim.Adam(model.parameters(), lr=learning_rate)"
   ]
  },
  {
   "cell_type": "code",
   "execution_count": null,
   "metadata": {},
   "outputs": [],
   "source": [
    "total_steps = 0 \n",
    "results = []\n",
    "\n",
    "for epoch in range(num_epochs):\n",
    "    for i, (data_batch, length_batch, label_batch) in enumerate(train_loader):\n",
    "        model.train()\n",
    "        optimizer.zero_grad()\n",
    "        outputs = model(data_batch, length_batch)\n",
    "        loss = criterion(outputs, label_batch)\n",
    "        loss.backward()\n",
    "        optimizer.step()\n",
    "        # validate every 100 iterations\n",
    "        if i > 0 and (i+1) % 100 == 0:\n",
    "            total_steps = epoch * 625 + (i+1) \n",
    "            train_acc = test_model(train_loader, model) # report train accuracy \n",
    "            val_acc = test_model(val_loader, model) # report validation accuracy \n",
    "            result = {} \n",
    "            result['step'] = total_steps \n",
    "            result['train_acc'] = train_acc\n",
    "            result['val_acc'] = val_acc        \n",
    "            results.append(result)\n",
    "            print('Epoch: [{}/{}], Step: [{}/{}], Total Steps: {}, Validation Acc: {}, Train Acc: {}'.format( \n",
    "                       epoch+1, num_epochs, i+1, len(train_loader), total_steps, val_acc, train_acc))"
   ]
  },
  {
   "cell_type": "code",
   "execution_count": null,
   "metadata": {},
   "outputs": [],
   "source": []
  }
 ],
 "metadata": {
  "kernelspec": {
   "display_name": "Python 3",
   "language": "python",
   "name": "python3"
  },
  "language_info": {
   "codemirror_mode": {
    "name": "ipython",
    "version": 3
   },
   "file_extension": ".py",
   "mimetype": "text/x-python",
   "name": "python",
   "nbconvert_exporter": "python",
   "pygments_lexer": "ipython3",
   "version": "3.6.6"
  }
 },
 "nbformat": 4,
 "nbformat_minor": 2
}
