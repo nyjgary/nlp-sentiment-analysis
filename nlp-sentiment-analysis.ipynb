{
 "cells": [
  {
   "cell_type": "code",
   "execution_count": 84,
   "metadata": {},
   "outputs": [],
   "source": [
    "import numpy as np \n",
    "import pandas as pd \n",
    "import matplotlib.pyplot as plt\n",
    "import spacy\n",
    "import string\n",
    "import random\n",
    "import pickle as pkl\n",
    "import time \n",
    "from os import listdir \n",
    "from collections import Counter\n",
    "from tqdm import tqdm_notebook\n",
    "from functools import partial \n",
    "import nltk\n",
    "import torch\n",
    "from torch.utils.data import Dataset\n",
    "import torch.nn as nn\n",
    "import torch.nn.functional as F\n",
    "from torch.optim import Adam"
   ]
  },
  {
   "cell_type": "markdown",
   "metadata": {},
   "source": [
    "# Import and Process Data "
   ]
  },
  {
   "cell_type": "code",
   "execution_count": 2,
   "metadata": {},
   "outputs": [],
   "source": [
    "# helper methods to load reviews from directories \n",
    "\n",
    "def load_single_review(fdir, fname): \n",
    "    \"\"\" Takes as input file directory and file name of a single review, returns review as string \"\"\"\n",
    "    fpath = fdir + '/' + fname \n",
    "    with open(fpath, 'r') as f: \n",
    "        review = f.read()\n",
    "        return review \n",
    "    \n",
    "def load_dir_reviews(fdir): \n",
    "    \"\"\" Takes as input file directory where reviews are stored, returns them as a list of review strings \"\"\"\n",
    "    fnames = [f for f in listdir(fdir)]\n",
    "    reviews = [load_single_review(fdir, fname) for fname in fnames]\n",
    "    return reviews\n",
    "\n",
    "def combine_data(neg_reviews, pos_reviews): \n",
    "    \"\"\" Combines lists of negative and positive reviews, returns a combined dataset comprising reviews and labels \"\"\"\n",
    "    neg_with_labels = [(review, 0) for review in neg_reviews] \n",
    "    pos_with_labels = [(review, 1) for review in pos_reviews]\n",
    "    combined = neg_with_labels + pos_with_labels\n",
    "    combined = random.sample(combined, len(combined))\n",
    "    reviews = [comb[0] for comb in combined]\n",
    "    labels = [comb[1] for comb in combined]\n",
    "    return reviews, labels "
   ]
  },
  {
   "cell_type": "code",
   "execution_count": 3,
   "metadata": {},
   "outputs": [],
   "source": [
    "# load reviews into lists \n",
    "train_val_neg = load_dir_reviews('aclImdb/train/neg')\n",
    "train_val_pos = load_dir_reviews('aclImdb/train/pos')\n",
    "test_neg = load_dir_reviews('aclImdb/test/neg')\n",
    "test_pos = load_dir_reviews('aclImdb/test/pos')"
   ]
  },
  {
   "cell_type": "code",
   "execution_count": 4,
   "metadata": {},
   "outputs": [],
   "source": [
    "# randomly split train into train vs. validation sets \n",
    "train_split = int(20000 / 2) \n",
    "train_neg = train_val_neg[:train_split]\n",
    "train_pos = train_val_pos[:train_split]\n",
    "val_neg = train_val_neg[train_split:]\n",
    "val_pos = train_val_pos[train_split:]"
   ]
  },
  {
   "cell_type": "code",
   "execution_count": 5,
   "metadata": {},
   "outputs": [
    {
     "name": "stdout",
     "output_type": "stream",
     "text": [
      "Train dataset size is 20000\n",
      "Validation dataset size is 5000\n",
      "Test dataset size is 25000\n"
     ]
    }
   ],
   "source": [
    "# combine pos and neg reviews to get unified datasets \n",
    "train_data, train_labels = combine_data(train_neg, train_pos)\n",
    "val_data, val_labels = combine_data(val_neg, val_pos)\n",
    "test_data, test_labels = combine_data(test_neg, test_pos)\n",
    "print (\"Train dataset size is {}\".format(len(train_data)))\n",
    "print (\"Validation dataset size is {}\".format(len(val_data)))\n",
    "print (\"Test dataset size is {}\".format(len(test_data)))"
   ]
  },
  {
   "cell_type": "markdown",
   "metadata": {},
   "source": [
    "# Tokenization"
   ]
  },
  {
   "cell_type": "code",
   "execution_count": 60,
   "metadata": {},
   "outputs": [],
   "source": [
    "# helper functions to tokenize reviews \n",
    "\n",
    "tokenizer = spacy.load('en_core_web_sm')\n",
    "punctuations = string.punctuation \n",
    "spacy_stop_words = tokenizer.Defaults.stop_words\n",
    "nltk_stop_words = nltk.corpus.stopwords.words('english')\n",
    "\n",
    "def lower_case(parsed):\n",
    "    \"\"\" Takes text as input and outputs a list of tokens in lowercase without punctuation \"\"\"\n",
    "    return [token.text.lower() for token in parsed]\n",
    "\n",
    "def tokenize_dataset(dataset, processing_func):\n",
    "    \"\"\" Takes as input a dataset comprising a list of reviews, outputs the tokenized dataset along with \n",
    "        a list comprising all the tokens from the dataset \"\"\"\n",
    "    token_dataset = []\n",
    "    for sample in tqdm_notebook(tokenizer.pipe(dataset, \n",
    "                                               disable=['parser', 'tagger', 'ner'], batch_size=512, n_threads=1)):\n",
    "        tokens = processing_func(sample)\n",
    "        token_dataset.append(tokens)\n",
    "    return token_dataset\n",
    "\n",
    "def save_tokens_to_disk(dataset, processing_func, destination_path): \n",
    "    \"\"\" Tokenize dataset as save as pickle to destination path \"\"\"\n",
    "    start_time = time.time() \n",
    "    token_dataset = tokenize_dataset(dataset, processing_func)\n",
    "    with open(destination_path, \"wb\") as f: \n",
    "        pkl.dump(token_dataset, f)\n",
    "    time_elapsed = (time.time() - start_time) / 60.0 \n",
    "    print(\"Data tokenized and saved as {} in {:.1f} minutes\".format(destination_path, time_elapsed))"
   ]
  },
  {
   "cell_type": "code",
   "execution_count": 61,
   "metadata": {},
   "outputs": [
    {
     "data": {
      "application/vnd.jupyter.widget-view+json": {
       "model_id": "99f2d8d493e74ae18e9762aa6dac8164",
       "version_major": 2,
       "version_minor": 0
      },
      "text/plain": [
       "HBox(children=(IntProgress(value=1, bar_style='info', max=1), HTML(value='')))"
      ]
     },
     "metadata": {},
     "output_type": "display_data"
    },
    {
     "name": "stdout",
     "output_type": "stream",
     "text": [
      "\n",
      "Data tokenized and saved as data/val_data_tokens.p in 0.2 minutes\n"
     ]
    },
    {
     "data": {
      "application/vnd.jupyter.widget-view+json": {
       "model_id": "b1bf601a41394c00b107ddcaaf63bf84",
       "version_major": 2,
       "version_minor": 0
      },
      "text/plain": [
       "HBox(children=(IntProgress(value=1, bar_style='info', max=1), HTML(value='')))"
      ]
     },
     "metadata": {},
     "output_type": "display_data"
    },
    {
     "name": "stdout",
     "output_type": "stream",
     "text": [
      "\n",
      "Data tokenized and saved as data/train_data_tokens.p in 0.6 minutes\n"
     ]
    },
    {
     "data": {
      "application/vnd.jupyter.widget-view+json": {
       "model_id": "8098dc8cffbe410dba6b3fb06e56bd2a",
       "version_major": 2,
       "version_minor": 0
      },
      "text/plain": [
       "HBox(children=(IntProgress(value=1, bar_style='info', max=1), HTML(value='')))"
      ]
     },
     "metadata": {},
     "output_type": "display_data"
    },
    {
     "name": "stdout",
     "output_type": "stream",
     "text": [
      "\n",
      "Data tokenized and saved as data/test_data_tokens.p in 0.8 minutes\n"
     ]
    }
   ],
   "source": [
    "save_tokens_to_disk(val_data, lower_case, \"data/val_data_tokens.p\")\n",
    "save_tokens_to_disk(train_data, lower_case, \"data/train_data_tokens.p\")\n",
    "save_tokens_to_disk(test_data, lower_case, \"data/test_data_tokens.p\")"
   ]
  },
  {
   "cell_type": "code",
   "execution_count": 62,
   "metadata": {},
   "outputs": [
    {
     "name": "stdout",
     "output_type": "stream",
     "text": [
      "Train dataset size is 20000\n",
      "Val dataset size is 5000\n",
      "Test dataset size is 25000\n",
      "Total number of tokens in train dataset is 5439615\n"
     ]
    }
   ],
   "source": [
    "# load saved tokens \n",
    "train_data_tokens = pkl.load(open(\"data/train_data_tokens.p\", \"rb\"))\n",
    "val_data_tokens = pkl.load(open(\"data/val_data_tokens.p\", \"rb\"))\n",
    "test_data_tokens = pkl.load(open(\"data/test_data_tokens.p\", \"rb\"))\n",
    "all_train_tokens = [item for sublist in train_data_tokens for item in sublist] \n",
    "\n",
    "# double check \n",
    "print (\"Train dataset size is {}\".format(len(train_data_tokens)))\n",
    "print (\"Val dataset size is {}\".format(len(val_data_tokens)))\n",
    "print (\"Test dataset size is {}\".format(len(test_data_tokens)))\n",
    "print (\"Total number of tokens in train dataset is {}\".format(len(all_train_tokens)))"
   ]
  },
  {
   "cell_type": "code",
   "execution_count": 66,
   "metadata": {},
   "outputs": [],
   "source": [
    "# create vocabulary from 10000 most common tokens in the training set \n",
    "\n",
    "PAD_IDX=0\n",
    "UNK_IDX=1\n",
    "\n",
    "def build_vocab(all_tokens, max_vocab_size=10000, pad_idx=PAD_IDX, unk_idx=UNK_IDX): \n",
    "    \"\"\" Takes list of all tokens and returns:\n",
    "        - id2token: list of tokens, where id2token[i] returns token that corresponds to i-th token \n",
    "        - token2id: dictionary where keys represent tokens and corresponding values represent their indices\n",
    "    \"\"\"\n",
    "    token_counter = Counter(all_tokens)\n",
    "    vocab, count = zip(*token_counter.most_common(max_vocab_size))\n",
    "    id2token = list(vocab)\n",
    "    token2id = dict(zip(vocab, range(2, 2+len(vocab))))\n",
    "    id2token = ['<pad>', '<unk>'] + id2token \n",
    "    token2id['<pad>'] = pad_idx\n",
    "    token2id['<unk>'] = unk_idx\n",
    "    return token2id, id2token \n",
    "    \n",
    "token2id, id2token = build_vocab(all_train_tokens, max_vocab_size = 10000)"
   ]
  },
  {
   "cell_type": "code",
   "execution_count": 67,
   "metadata": {},
   "outputs": [
    {
     "name": "stdout",
     "output_type": "stream",
     "text": [
      "Token id 7616 ; token traumatic\n",
      "Token traumatic; token id 7616\n"
     ]
    }
   ],
   "source": [
    "# check the dictionary by loading random token from it\n",
    "\n",
    "random_token_id = random.randint(0, len(id2token)-1)\n",
    "random_token = id2token[random_token_id]\n",
    "\n",
    "print (\"Token id {} ; token {}\".format(random_token_id, id2token[random_token_id]))\n",
    "print (\"Token {}; token id {}\".format(random_token, token2id[random_token]))"
   ]
  },
  {
   "cell_type": "code",
   "execution_count": 71,
   "metadata": {},
   "outputs": [],
   "source": [
    "# convert token to id in the dataset \n",
    "\n",
    "def token2index_dataset(tokens_data, token2id, unk_idx=UNK_IDX): \n",
    "    \"\"\" Converts data from word tokens to token indices \"\"\"\n",
    "    indices_data = []\n",
    "    for datum in tokens_data: \n",
    "        index_list = [token2id[token] if token in token2id else unk_idx for token in datum]\n",
    "        indices_data.append(index_list)\n",
    "    return indices_data \n",
    "\n",
    "train_data_indices = token2index_dataset(train_data_tokens, token2id)\n",
    "val_data_indices = token2index_dataset(val_data_tokens, token2id)\n",
    "test_data_indices = token2index_dataset(test_data_tokens, token2id)"
   ]
  },
  {
   "cell_type": "code",
   "execution_count": 72,
   "metadata": {},
   "outputs": [
    {
     "name": "stdout",
     "output_type": "stream",
     "text": [
      "Train dataset size is 20000\n",
      "Val dataset size is 5000\n",
      "Test dataset size is 25000\n"
     ]
    }
   ],
   "source": [
    "# check size of data \n",
    "print (\"Train dataset size is {}\".format(len(train_data_indices)))\n",
    "print (\"Val dataset size is {}\".format(len(val_data_indices)))\n",
    "print (\"Test dataset size is {}\".format(len(test_data_indices)))"
   ]
  },
  {
   "cell_type": "code",
   "execution_count": 73,
   "metadata": {},
   "outputs": [
    {
     "name": "stdout",
     "output_type": "stream",
     "text": [
      "['i', 'disliked', 'this', 'film', 'intensely', 'and', 'left', 'during', 'the', 'scene', 'where', 'the', 'loyalist', 'gang', 'are', 'shot', 'up', 'by', 'the', 'british', '.', 'the', 'film', 'effectively', 'blames', 'the', 'people', 'of', 'ni', 'as', 'being', 'the', 'cause', 'of', 'their', 'own', 'troubles', '.', 'it', 'suggests', 'that', 'the', '25', 'year', 'war', 'was', 'a', 'question', 'of', 'intransigence', 'and', 'nothing', 'to', 'do', 'with', 'britain', \"'s\", 'partition', 'of', 'ireland', 'and', 'domination', 'of', 'its', 'history', 'i.e.', 'ni', 'was', 'created', 'by', 'britain', 'in', '1921', 'irrespective', 'of', 'the', 'wishes', 'of', 'the', 'rest', 'of', 'ireland.<br', '/><br', '/>the', 'characters', 'are', 'portrayed', 'as', 'hapless', 'fools', ',', 'even', 'though', 'i', 'despise', 'loyalist', 'paramilitaries', 'they', 'were', 'fighting', 'for', 'a', 'cause', '-', 'maintaining', 'their', 'artificial', 'privileges', 'over', 'the', 'catholic', 'community', '.', 'it', 'is', 'a', 'known', 'fact', 'that', 'british', 'intelligence', 'collaborated', 'with', 'loyalists', 'during', 'the', 'war', ',', 'no', 'doubt', 'to', 'keep', 'the', 'catholics', 'at', 'bay', 'and', 'demoralise', 'republicanism.<br', '/><br', '/>nineties', \"'\", 'values', 'about', \"'\", 'machismo', \"'\", ',', 'masculinity', 'etc', 'are', 'transposed', 'on', 'to', '1970s', 'belfast', 'and', 'are', 'portrayed', 'as', 'part', 'of', 'the', 'supposedly', 'unique', 'irish', \"'\", 'psyche', \"'\", 'which', 'leads', 'to', 'violence', '.', 'the', 'stupid', 'song', 'from', 'the', 'woman', 'in', 'the', 'club', '-', 'old', 'ireland', 'of', 'green', 'fields', '..', 'blah', '..', 'blah', '..', '-', 'is', 'given', 'a', 'symbolic', 'stature', ',', 'i.e.', 'poor', 'young', 'fools', 'fighting', 'for', 'an', 'impossible', 'cause', '.', 'tedious', ',', 'ahistorical', ',', 'cheap', 'and', 'nasty', 'trash', '.', \"o'sullivan\", 'has', 'made', 'a', 'personal', 'statement', 'on', 'a', 'conflict', 'which', 'requires', 'serious', 'political', 'analysis', '.']\n",
      "[12, 5441, 13, 25, 8019, 5, 322, 336, 2, 151, 136, 2, 1, 1349, 32, 345, 67, 41, 2, 654, 4, 2, 25, 2700, 7859, 2, 94, 7, 1, 20, 124, 2, 1162, 7, 80, 220, 5004, 4, 10, 3330, 14, 2, 2939, 328, 334, 19, 6, 896, 7, 1, 5, 178, 8, 55, 22, 3266, 16, 8875, 7, 4803, 5, 1, 7, 106, 466, 2405, 1, 19, 1083, 41, 3266, 11, 1, 1, 7, 2, 3039, 7, 2, 364, 7, 1, 18, 117, 119, 32, 995, 20, 5796, 7186, 3, 70, 170, 12, 7722, 1, 1, 40, 79, 983, 21, 6, 1162, 17, 9287, 80, 4599, 1, 137, 2, 3008, 1873, 4, 10, 9, 6, 562, 203, 14, 654, 1621, 1, 22, 1, 336, 2, 334, 3, 68, 806, 8, 406, 2, 1, 39, 5129, 5, 1, 1, 18, 1, 54, 1258, 52, 54, 1, 54, 3, 1, 566, 32, 1, 26, 8, 3560, 1, 5, 32, 995, 20, 189, 7, 2, 1584, 963, 2830, 54, 6952, 54, 73, 850, 8, 595, 4, 2, 403, 610, 45, 2, 253, 11, 2, 1325, 17, 164, 4803, 7, 1343, 4748, 413, 2641, 413, 2641, 413, 17, 9, 360, 6, 5247, 9748, 3, 2405, 358, 198, 7186, 983, 21, 43, 1193, 1162, 4, 2351, 3, 1, 3, 707, 5, 1678, 1179, 4, 9076, 53, 105, 6, 915, 2690, 26, 6, 1987, 73, 3380, 641, 986, 5005, 4]\n"
     ]
    }
   ],
   "source": [
    "# check tokenization of dataset \n",
    "print(train_data_tokens[0])\n",
    "print(train_data_indices[0])"
   ]
  },
  {
   "cell_type": "markdown",
   "metadata": {},
   "source": [
    "# Model Architecture and Data Loader"
   ]
  },
  {
   "cell_type": "code",
   "execution_count": 74,
   "metadata": {},
   "outputs": [],
   "source": [
    "# define custom dataset class and collate function for data loader \n",
    "\n",
    "class MovieReviewsDataset(Dataset): \n",
    "    \"\"\" \n",
    "    Class that represents a train/validation/test dataset that's readable for PyTorch\n",
    "    Note that this class inherits torch.utils.data.Dataset\n",
    "    \"\"\"\n",
    "    \n",
    "    def __init__(self, data_list, label_list, max_sentence_length): \n",
    "        \"\"\" \n",
    "        Initialize dataset by passing in a list of movie review tokens and a list of labels \n",
    "        \"\"\"\n",
    "        self.data_list = data_list \n",
    "        self.label_list = label_list \n",
    "        self.max_sentence_length = max_sentence_length\n",
    "        assert (len(self.data_list) == len(self.label_list))\n",
    "        \n",
    "    def __len__(self): \n",
    "        return len(self.data_list)\n",
    "    \n",
    "    def __getitem__(self, key): \n",
    "        \"\"\"\n",
    "        Triggered when dataset[i] is called, outputs a list of tokens, length of list, and label of the data point\n",
    "        \"\"\"\n",
    "        token_idx = self.data_list[key][:self.max_sentence_length]\n",
    "        label = self.label_list[key]\n",
    "        return [token_idx, len(token_idx), label]\n",
    "    \n",
    "def collate_func(max_sentence_length, batch): \n",
    "    \"\"\" \n",
    "    Customized function for DataLoader that dynamically pads the batch so that the data have the same length\n",
    "    Note that this takes max_sentence_length as a first argument to be prefilled with a partial function later \n",
    "        to facilitate hyperparameter tuning \n",
    "    \"\"\"\n",
    "    data_list = [] \n",
    "    label_list = [] \n",
    "    length_list = [] \n",
    "    \n",
    "    for datum in batch:         \n",
    "        label_list.append(datum[2])\n",
    "        length_list.append(datum[1])\n",
    "        # pad data before appending \n",
    "        padded_vec = np.pad(array = np.array(datum[0]), \n",
    "                            pad_width = ((0, max_sentence_length - datum[1])), \n",
    "                            mode = 'constant', constant_values = 0)\n",
    "        data_list.append(padded_vec)\n",
    "        \n",
    "    return [torch.from_numpy(np.array(data_list)), torch.LongTensor(length_list), torch.LongTensor(label_list)]"
   ]
  },
  {
   "cell_type": "code",
   "execution_count": 81,
   "metadata": {},
   "outputs": [],
   "source": [
    "# define model architecture and helper methods \n",
    "\n",
    "class BagOfWords(nn.Module): \n",
    "    \"\"\" \n",
    "    BagOfWords classification model \n",
    "    \"\"\"\n",
    "    \n",
    "    def __init__(self, vocab_size, emb_dim): \n",
    "        \"\"\" \n",
    "        @param vocab_size: size of the vocabulary \n",
    "        @param emd_dim: size of the word embedding \n",
    "        \"\"\"\n",
    "        super().__init__() \n",
    "        self.embed = nn.Embedding(vocab_size, emb_dim, padding_idx=0)\n",
    "        self.linear = nn.Linear(emb_dim, 2)\n",
    "        \n",
    "    def forward(self, data, length): \n",
    "        \"\"\" \n",
    "        @param data: matrix of size (batch_size, max_sentence_length). Each row in data represents a review\n",
    "            that is represented using n-gram index. Note that they are padded to have the same length. \n",
    "        @param length: an int tensor of size (batch_size), which represents the non-trivial (i.e. non-padded)\n",
    "            length of each sentence in the data \n",
    "        \"\"\"\n",
    "        out = self.embed(data)\n",
    "        out = torch.sum(out, dim=1)\n",
    "        out /= length.view(length.size()[0],1).expand_as(out).float()\n",
    "        \n",
    "        # return logits\n",
    "        out = self.linear(out.float())\n",
    "\n",
    "        return out"
   ]
  },
  {
   "cell_type": "markdown",
   "metadata": {},
   "source": [
    "# Model Training"
   ]
  },
  {
   "cell_type": "code",
   "execution_count": 89,
   "metadata": {},
   "outputs": [],
   "source": [
    "# helper functions to train and test model \n",
    "\n",
    "def test_model(loader, model): \n",
    "    \"\"\" \n",
    "    Helper function that tests the model's performance on a given dataset \n",
    "    @param: loader = data loader for the dataset to test against \n",
    "    \"\"\"\n",
    "    correct = 0 \n",
    "    total = 0 \n",
    "    model.eval() \n",
    "    \n",
    "    for data_batch, length_batch, label_batch in loader: \n",
    "        outputs = F.softmax(model(data_batch, length_batch), dim=1)\n",
    "        predictions = outputs.max(1, keepdim=True)[1]    \n",
    "        total += label_batch.size(0)\n",
    "        correct += predictions.eq(label_batch.view_as(predictions)).sum().item()\n",
    "        \n",
    "    return (100 * correct / total)"
   ]
  },
  {
   "cell_type": "code",
   "execution_count": 90,
   "metadata": {},
   "outputs": [],
   "source": [
    "def train_and_eval(model, optimizer, train_loader, val_loader, num_epochs, print_results=True):  \n",
    "    \"\"\"\n",
    "    Trains model on data from train_loader and evaluates on data from val_loader for num_epochs \n",
    "    Returns results as a dictionary comprising epoch, train accuracy, and validation accuracy \n",
    "    \"\"\"\n",
    "    # train and validate \n",
    "    criterion = torch.nn.CrossEntropyLoss()\n",
    "    results = []\n",
    "    for epoch in range(num_epochs):\n",
    "        for i, (data_batch, length_batch, label_batch) in enumerate(train_loader):\n",
    "            model.train()\n",
    "            optimizer.zero_grad()\n",
    "            outputs = model(data_batch, length_batch)\n",
    "            loss = criterion(outputs, label_batch)\n",
    "            loss.backward()\n",
    "            optimizer.step()\n",
    "            # validate every 100 iterations\n",
    "            if i % 100 == 0 or ((epoch==num_epochs-1) & (i==len(train_loader)-1)):\n",
    "                result = {} \n",
    "                result['epoch'] = epoch + i / len(train_loader)\n",
    "                result['train_acc'] = test_model(train_loader, model)\n",
    "                result['val_acc'] = test_model(val_loader, model)       \n",
    "                results.append(result)\n",
    "\n",
    "                if print_results: \n",
    "                    print('Epoch: {:.2f}, Train Accuracy: {:.2f}%, Validation Accuracy: {:.2f}%'.format(\n",
    "                        result['epoch'], result['train_acc'], result['val_acc']))\n",
    "    \n",
    "    return results "
   ]
  },
  {
   "cell_type": "code",
   "execution_count": 91,
   "metadata": {},
   "outputs": [],
   "source": [
    "def run_experiment(train_tokens, val_tokens, train_labels, val_labels, \n",
    "                   optimizer, learning_rate, emb_dim, max_vocab_size, max_sentence_length,\n",
    "                   num_epochs, batch_size=32, print_results=True): \n",
    "    \n",
    "    \"\"\" Wraps all processing, training and evaluation steps in a function to facilitate hyperparam tuning. \n",
    "        Note that the function takes as input tokenized data rather than raw data since there's significant \n",
    "        lag time in generating tokens.  \n",
    "    \"\"\"\n",
    "    \n",
    "    # build vocab based on max_vocab_size specified \n",
    "    all_train_tokens = [item for sublist in train_data_tokens for item in sublist] \n",
    "    token2id, id2token = build_vocab(all_train_tokens, max_vocab_size)\n",
    "    \n",
    "    # convert tokens to token indices \n",
    "    train_data_indices = token2index_dataset(train_data_tokens, token2id)\n",
    "    val_data_indices = token2index_dataset(val_data_tokens, token2id)\n",
    "    \n",
    "    # instantiate PyTorch Dataset object \n",
    "    train_dataset = MovieReviewsDataset(train_data_indices, train_labels, max_sentence_length)\n",
    "    val_dataset = MovieReviewsDataset(val_data_indices, val_labels, max_sentence_length)\n",
    "    \n",
    "    # create PyTorch DataLoader\n",
    "    train_loader = torch.utils.data.DataLoader(dataset=train_dataset, batch_size=batch_size, shuffle=True, \n",
    "                                               collate_fn=partial(collate_func, max_sentence_length))\n",
    "    val_loader = torch.utils.data.DataLoader(dataset=val_dataset, batch_size=batch_size, shuffle=True, \n",
    "                                             collate_fn=partial(collate_func, max_sentence_length))\n",
    "    \n",
    "    # instantiate model and optimizer \n",
    "    model = BagOfWords(len(token2id), emb_dim)\n",
    "    optim = optimizer(params=model.parameters(), lr=learning_rate)\n",
    "    \n",
    "    # train and evaluate \n",
    "    results = train_and_eval(model, optim, train_loader, val_loader, num_epochs, print_results=True)\n",
    "    \n",
    "    return results "
   ]
  },
  {
   "cell_type": "markdown",
   "metadata": {},
   "source": [
    "## Basic Model  "
   ]
  },
  {
   "cell_type": "markdown",
   "metadata": {},
   "source": [
    "First let's train and evaluate a basic model with a set of arbitrary hyperparameters to make sure the code runs correctly:"
   ]
  },
  {
   "cell_type": "code",
   "execution_count": 94,
   "metadata": {},
   "outputs": [
    {
     "name": "stdout",
     "output_type": "stream",
     "text": [
      "Epoch: 0.00, Train Accuracy: 47.86%, Validation Accuracy: 45.96%\n",
      "Epoch: 0.16, Train Accuracy: 63.17%, Validation Accuracy: 62.38%\n",
      "Epoch: 0.32, Train Accuracy: 68.78%, Validation Accuracy: 67.80%\n",
      "Epoch: 0.48, Train Accuracy: 72.28%, Validation Accuracy: 70.52%\n",
      "Epoch: 0.64, Train Accuracy: 75.21%, Validation Accuracy: 73.20%\n",
      "Epoch: 0.80, Train Accuracy: 77.77%, Validation Accuracy: 75.12%\n",
      "Epoch: 0.96, Train Accuracy: 79.59%, Validation Accuracy: 76.60%\n",
      "Epoch: 1.00, Train Accuracy: 80.20%, Validation Accuracy: 77.68%\n",
      "Epoch: 1.16, Train Accuracy: 81.44%, Validation Accuracy: 78.86%\n",
      "Epoch: 1.32, Train Accuracy: 82.60%, Validation Accuracy: 79.98%\n",
      "Epoch: 1.48, Train Accuracy: 83.82%, Validation Accuracy: 80.60%\n",
      "Epoch: 1.64, Train Accuracy: 84.39%, Validation Accuracy: 81.02%\n",
      "Epoch: 1.80, Train Accuracy: 85.14%, Validation Accuracy: 81.22%\n",
      "Epoch: 1.96, Train Accuracy: 85.86%, Validation Accuracy: 81.86%\n",
      "Epoch: 2.00, Train Accuracy: 86.23%, Validation Accuracy: 82.64%\n",
      "Epoch: 2.16, Train Accuracy: 86.69%, Validation Accuracy: 82.06%\n",
      "Epoch: 2.32, Train Accuracy: 87.14%, Validation Accuracy: 82.96%\n",
      "Epoch: 2.48, Train Accuracy: 87.53%, Validation Accuracy: 83.68%\n",
      "Epoch: 2.64, Train Accuracy: 88.10%, Validation Accuracy: 83.12%\n",
      "Epoch: 2.80, Train Accuracy: 88.43%, Validation Accuracy: 83.78%\n",
      "Epoch: 2.96, Train Accuracy: 88.69%, Validation Accuracy: 84.04%\n",
      "Epoch: 3.00, Train Accuracy: 88.70%, Validation Accuracy: 83.96%\n",
      "Epoch: 3.16, Train Accuracy: 89.21%, Validation Accuracy: 83.82%\n",
      "Epoch: 3.32, Train Accuracy: 89.47%, Validation Accuracy: 83.66%\n",
      "Epoch: 3.48, Train Accuracy: 89.34%, Validation Accuracy: 83.90%\n",
      "Epoch: 3.64, Train Accuracy: 90.06%, Validation Accuracy: 83.38%\n",
      "Epoch: 3.80, Train Accuracy: 90.14%, Validation Accuracy: 84.22%\n",
      "Epoch: 3.96, Train Accuracy: 90.63%, Validation Accuracy: 83.82%\n",
      "Epoch: 4.00, Train Accuracy: 90.59%, Validation Accuracy: 83.90%\n",
      "Epoch: 4.16, Train Accuracy: 90.94%, Validation Accuracy: 83.84%\n",
      "Epoch: 4.32, Train Accuracy: 90.94%, Validation Accuracy: 84.10%\n",
      "Epoch: 4.48, Train Accuracy: 91.06%, Validation Accuracy: 83.06%\n",
      "Epoch: 4.64, Train Accuracy: 91.35%, Validation Accuracy: 83.98%\n",
      "Epoch: 4.80, Train Accuracy: 91.36%, Validation Accuracy: 84.30%\n",
      "Epoch: 4.96, Train Accuracy: 91.55%, Validation Accuracy: 84.16%\n",
      "Epoch: 5.00, Train Accuracy: 91.75%, Validation Accuracy: 84.14%\n"
     ]
    }
   ],
   "source": [
    "results = run_experiment(train_data_tokens, val_data_tokens, train_labels, val_labels, optimizer=Adam, \n",
    "                         learning_rate=0.001, emb_dim=100, max_vocab_size=10000, max_sentence_length=200,\n",
    "                         num_epochs=5, batch_size=32, print_results=True)"
   ]
  },
  {
   "cell_type": "markdown",
   "metadata": {},
   "source": [
    "It looks like we were able to obtain pretty good results already: ~84% accuracy on unseen validation dataset. We will proceed to try different proprocessing and hyperparameters next. "
   ]
  },
  {
   "cell_type": "code",
   "execution_count": 96,
   "metadata": {},
   "outputs": [
    {
     "data": {
      "text/plain": [
       "<matplotlib.axes._subplots.AxesSubplot at 0x1a5773bb38>"
      ]
     },
     "execution_count": 96,
     "metadata": {},
     "output_type": "execute_result"
    },
    {
     "data": {
      "image/png": "[encoded data removed]",
      "text/plain": [
       "<Figure size 432x288 with 1 Axes>"
      ]
     },
     "metadata": {
      "needs_background": "light"
     },
     "output_type": "display_data"
    }
   ],
   "source": [
    "# learning curve \n",
    "results_df = pd.DataFrame.from_dict(results)\n",
    "results_df = results_df.set_index('epoch')\n",
    "results_df.plot()"
   ]
  },
  {
   "cell_type": "markdown",
   "metadata": {},
   "source": [
    "## Model Tuning "
   ]
  },
  {
   "cell_type": "markdown",
   "metadata": {},
   "source": [
    "#### Tokenization Schemes"
   ]
  },
  {
   "cell_type": "code",
   "execution_count": null,
   "metadata": {},
   "outputs": [],
   "source": [
    "# wrap tokenization process as a function \n",
    "\n",
    "tokenizer = spacy.load('en_core_web_sm')\n",
    "punctuations = string.punctuation \n",
    "spacy_stop_words = tokenizer.Defaults.stop_words\n",
    "nltk_stop_words = nltk.corpus.stopwords.words('english')\n",
    "\n"
   ]
  },
  {
   "cell_type": "code",
   "execution_count": null,
   "metadata": {},
   "outputs": [],
   "source": [
    "def lower_case_remove_punc_nltk_stopwords_lemmatize(parsed):\n",
    "    \"\"\" Takes text as input and outputs a list of tokens in lowercase without punctuation \"\"\"\n",
    "    return [token.lemma_.lower() for token in parsed \n",
    "            if (token.text not in punctuations and token.lemma_.lower() not in nltk_stop_words)]\n",
    "\n",
    "def lower_case_remove_punc_nltk_stopwords(parsed):\n",
    "    \"\"\" Takes text as input and outputs a list of tokens in lowercase without punctuation \"\"\"\n",
    "    return [token.text.lower() for token in parsed \n",
    "            if (token.text not in punctuations and token.text.lower() not in nltk_stop_words)]\n",
    "\n",
    "def lower_case_remove_punc_spacy_stopwords(parsed):\n",
    "    \"\"\" Takes text as input and outputs a list of tokens in lowercase without punctuation \"\"\"\n",
    "    return [token.text.lower() for token in parsed \n",
    "            if (token.text not in punctuations and token.text.lower() not in spacy_stop_words)]\n",
    "\n",
    "def lower_case_remove_punc(parsed):\n",
    "    \"\"\" Takes text as input and outputs a list of tokens in lowercase without punctuation \"\"\"\n",
    "    return [token.text.lower() for token in parsed if (token.text not in punctuations)]\n"
   ]
  },
  {
   "cell_type": "markdown",
   "metadata": {},
   "source": [
    "### N-Gram"
   ]
  },
  {
   "cell_type": "code",
   "execution_count": null,
   "metadata": {},
   "outputs": [],
   "source": [
    "def ngramify(datum_tokens, max_n): \n",
    "    \"\"\" Generates n-grams up to max_n for one given list of tokens representing a datum \"\"\"\n",
    "    result = [] \n",
    "    n = max_n \n",
    "    \n",
    "    # decrement n to append ..., 3-grams, 2-grams to result \n",
    "    while n >= 1: \n",
    "        n_grams = [\" \".join(item) for item in list(zip(*[datum_tokens[i:] for i in range(n)]))]\n",
    "        result = result + n_grams \n",
    "        n = n - 1 \n",
    "        \n",
    "    # when n=1 just append original tokens\n",
    "    result = result + datum_tokens  \n",
    "    \n",
    "    return result "
   ]
  },
  {
   "cell_type": "code",
   "execution_count": null,
   "metadata": {},
   "outputs": [],
   "source": [
    "def generate_ngram_dataset(train_tokens, val_tokens, test_tokens, max_n, max_vocab_size):\n",
    "    \"\"\" Takes as input: orignal 1-gram train/val/test tokenized datasets, max_n (for n-gram), max_vocab_size, \n",
    "        and returns: \n",
    "        - token2id, id2token \n",
    "        - train_data_indices, val_data_indices, test_data_indices\n",
    "    \"\"\"\n",
    "    \n",
    "    # generate ngram tokens \n",
    "    train_ngram_tokens = [ngramify(datum, 3) for datum in train_tokens]  \n",
    "    val_ngram_tokens = [ngramify(datum, 3) for datum in val_tokens]  \n",
    "    test_ngram_tokens = [ngramify(datum, 3) for datum in test_tokens]  \n",
    "    all_train_ngram_tokens = [item for sublist in train_ngram_tokens for item in sublist] \n",
    "    \n",
    "    # build vocab \n",
    "    token2id, id2token = build_vocab(all_train_ngram_tokens, max_vocab_size)\n",
    "    \n",
    "    # convert tokens to indices \n",
    "    train_data_indices = token2index_dataset(train_ngram_tokens)\n",
    "    val_data_indices = token2index_dataset(val_ngram_tokens)\n",
    "    test_data_indices = token2index_dataset(test_ngram_tokens)\n",
    "    \n",
    "    return token2id, id2token, train_data_indices, val_data_indices, test_data_indices"
   ]
  },
  {
   "cell_type": "code",
   "execution_count": null,
   "metadata": {},
   "outputs": [],
   "source": [
    "token2id, id2token, train_data_indices, val_data_indices, test_data_indices = generate_ngram_dataset(\n",
    "    train_data_tokens, val_data_tokens, test_data_tokens, max_n=2, max_vocab_size=20000)"
   ]
  },
  {
   "cell_type": "code",
   "execution_count": null,
   "metadata": {},
   "outputs": [],
   "source": [
    "emb_dim = 100\n",
    "model = BagOfWords(len(id2token), emb_dim)\n",
    "learning_rate = 0.01 \n",
    "num_epochs = 2\n",
    "criterion = torch.nn.CrossEntropyLoss() \n",
    "optimizer = torch.optim.Adam(model.parameters(), lr=learning_rate)"
   ]
  },
  {
   "cell_type": "code",
   "execution_count": null,
   "metadata": {},
   "outputs": [],
   "source": [
    "total_steps = 0 \n",
    "results = []\n",
    "\n",
    "for epoch in range(num_epochs):\n",
    "    for i, (data_batch, length_batch, label_batch) in enumerate(train_loader):\n",
    "        model.train()\n",
    "        optimizer.zero_grad()\n",
    "        outputs = model(data_batch, length_batch)\n",
    "        loss = criterion(outputs, label_batch)\n",
    "        loss.backward()\n",
    "        optimizer.step()\n",
    "        # validate every 100 iterations\n",
    "        if i > 0 and (i+1) % 100 == 0:\n",
    "            total_steps = epoch * 625 + (i+1) \n",
    "            train_acc = test_model(train_loader, model) # report train accuracy \n",
    "            val_acc = test_model(val_loader, model) # report validation accuracy \n",
    "            result = {} \n",
    "            result['step'] = total_steps \n",
    "            result['train_acc'] = train_acc\n",
    "            result['val_acc'] = val_acc        \n",
    "            results.append(result)\n",
    "            print('Epoch: [{}/{}], Step: [{}/{}], Total Steps: {}, Validation Acc: {}, Train Acc: {}'.format( \n",
    "                       epoch+1, num_epochs, i+1, len(train_loader), total_steps, val_acc, train_acc))"
   ]
  },
  {
   "cell_type": "code",
   "execution_count": null,
   "metadata": {},
   "outputs": [],
   "source": []
  }
 ],
 "metadata": {
  "kernelspec": {
   "display_name": "Python 3",
   "language": "python",
   "name": "python3"
  },
  "language_info": {
   "codemirror_mode": {
    "name": "ipython",
    "version": 3
   },
   "file_extension": ".py",
   "mimetype": "text/x-python",
   "name": "python",
   "nbconvert_exporter": "python",
   "pygments_lexer": "ipython3",
   "version": "3.6.6"
  }
 },
 "nbformat": 4,
 "nbformat_minor": 2
}
