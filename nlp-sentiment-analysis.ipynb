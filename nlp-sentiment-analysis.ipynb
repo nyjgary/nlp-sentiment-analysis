{
 "cells": [
  {
   "cell_type": "code",
   "execution_count": 177,
   "metadata": {},
   "outputs": [],
   "source": [
    "import numpy as np \n",
    "import pandas as pd \n",
    "import matplotlib.pyplot as plt\n",
    "import spacy\n",
    "import string\n",
    "import random\n",
    "import pickle as pkl\n",
    "import time \n",
    "import os\n",
    "from os import listdir \n",
    "from collections import Counter\n",
    "from tqdm import tqdm_notebook\n",
    "from functools import partial \n",
    "import nltk\n",
    "import torch\n",
    "from torch.utils.data import Dataset\n",
    "import torch.nn as nn\n",
    "import torch.nn.functional as F\n",
    "from torch.optim import Adam\n",
    "from torch.optim import SGD \n",
    "from torch.optim import RMSprop\n",
    "from ast import literal_eval\n",
    "from datetime import datetime\n",
    "pd.set_option('max_colwidth',100)"
   ]
  },
  {
   "cell_type": "markdown",
   "metadata": {},
   "source": [
    "# Import and Process Data "
   ]
  },
  {
   "cell_type": "code",
   "execution_count": 2,
   "metadata": {},
   "outputs": [],
   "source": [
    "# helper methods to load reviews from directories \n",
    "\n",
    "def load_single_review(fdir, fname): \n",
    "    \"\"\" Takes as input file directory and file name of a single review, returns review as string \"\"\"\n",
    "    fpath = fdir + '/' + fname \n",
    "    with open(fpath, 'r') as f: \n",
    "        review = f.read()\n",
    "        return review \n",
    "    \n",
    "def load_dir_reviews(fdir): \n",
    "    \"\"\" Takes as input file directory where reviews are stored, returns them as a list of review strings \"\"\"\n",
    "    fnames = [f for f in listdir(fdir)]\n",
    "    reviews = [load_single_review(fdir, fname) for fname in fnames]\n",
    "    return reviews\n",
    "\n",
    "def combine_data(neg_reviews, pos_reviews): \n",
    "    \"\"\" Combines lists of negative and positive reviews, returns a combined dataset comprising reviews and labels \"\"\"\n",
    "    neg_with_labels = [(review, 0) for review in neg_reviews] \n",
    "    pos_with_labels = [(review, 1) for review in pos_reviews]\n",
    "    combined = neg_with_labels + pos_with_labels\n",
    "    combined = random.sample(combined, len(combined))\n",
    "    reviews = [comb[0] for comb in combined]\n",
    "    labels = [comb[1] for comb in combined]\n",
    "    return reviews, labels "
   ]
  },
  {
   "cell_type": "code",
   "execution_count": 3,
   "metadata": {},
   "outputs": [],
   "source": [
    "# load reviews into lists \n",
    "train_val_neg = load_dir_reviews('aclImdb/train/neg')\n",
    "train_val_pos = load_dir_reviews('aclImdb/train/pos')\n",
    "test_neg = load_dir_reviews('aclImdb/test/neg')\n",
    "test_pos = load_dir_reviews('aclImdb/test/pos')"
   ]
  },
  {
   "cell_type": "code",
   "execution_count": 4,
   "metadata": {},
   "outputs": [],
   "source": [
    "# randomly split train into train vs. validation sets \n",
    "train_split = int(20000 / 2) \n",
    "train_neg = train_val_neg[:train_split]\n",
    "train_pos = train_val_pos[:train_split]\n",
    "val_neg = train_val_neg[train_split:]\n",
    "val_pos = train_val_pos[train_split:]"
   ]
  },
  {
   "cell_type": "code",
   "execution_count": 5,
   "metadata": {},
   "outputs": [
    {
     "name": "stdout",
     "output_type": "stream",
     "text": [
      "Train dataset size is 20000\n",
      "Validation dataset size is 5000\n",
      "Test dataset size is 25000\n"
     ]
    }
   ],
   "source": [
    "# combine pos and neg reviews to get unified datasets \n",
    "train_data, train_labels = combine_data(train_neg, train_pos)\n",
    "val_data, val_labels = combine_data(val_neg, val_pos)\n",
    "test_data, test_labels = combine_data(test_neg, test_pos)\n",
    "print (\"Train dataset size is {}\".format(len(train_data)))\n",
    "print (\"Validation dataset size is {}\".format(len(val_data)))\n",
    "print (\"Test dataset size is {}\".format(len(test_data)))"
   ]
  },
  {
   "cell_type": "code",
   "execution_count": 251,
   "metadata": {},
   "outputs": [],
   "source": [
    "# put various optimization algorithms in a dictionary for ease of recording results + running experiments\n",
    "optim_algos = {'Adam': Adam, 'SGD': SGD, 'RMSprop': RMSprop}"
   ]
  },
  {
   "cell_type": "markdown",
   "metadata": {},
   "source": [
    "# Tokenization"
   ]
  },
  {
   "cell_type": "code",
   "execution_count": 266,
   "metadata": {},
   "outputs": [],
   "source": [
    "# helper functions to tokenize reviews \n",
    "\n",
    "tokenizer = spacy.load('en_core_web_sm')\n",
    "\n",
    "def lower_case(parsed):\n",
    "    \"\"\" Takes text as input and outputs a list of tokens in lowercase without punctuation \"\"\"\n",
    "    return [token.text.lower() for token in parsed]\n",
    "\n",
    "def tokenize_dataset(dataset, processing_func):\n",
    "    \"\"\" Takes as input a dataset comprising a list of reviews, outputs the tokenized dataset along with \n",
    "        a list comprising all the tokens from the dataset \"\"\"\n",
    "    token_dataset = []\n",
    "    for sample in tqdm_notebook(tokenizer.pipe(dataset, \n",
    "                                               disable=['parser', 'tagger', 'ner'], batch_size=512, n_threads=1)):\n",
    "        tokens = processing_func(sample)\n",
    "        token_dataset.append(tokens)\n",
    "    return token_dataset\n",
    "\n",
    "def save_to_pickle(item_to_save, filename): \n",
    "    if not os.path.exists(os.path.dirname(filename)):\n",
    "        os.makedirs(os.path.dirname(filename))\n",
    "    with open(filename, \"wb\") as f: \n",
    "        pkl.dump(item_to_save, f)\n",
    "    \n",
    "def tokenize_dataset_to_disk(dataset, processing_func, filename): \n",
    "    \"\"\" Tokenize dataset as save as pickle to destination path \"\"\"\n",
    "    start_time = time.time() \n",
    "    token_dataset = tokenize_dataset(dataset, processing_func)\n",
    "    save_to_pickle(token_dataset, filename)\n",
    "    time_elapsed = (time.time() - start_time) / 60.0 \n",
    "    print(\"Data tokenized and saved as {} in {:.1f} minutes\".format(filename, time_elapsed))\n",
    "    return token_dataset\n",
    "    \n",
    "def tokenize_datasets_to_disk(train_data, val_data, test_data, processing_func, folder_name): \n",
    "    \"\"\" Tokenizes train, val, test datasets and save as pickle to data subfolder \n",
    "        Also returns tokenized datasets\n",
    "    \"\"\"\n",
    "    train_data_tokens = tokenize_dataset_to_disk(train_data, processing_func, \n",
    "                                                 \"data/{}/train_data_tokens.p\".format(folder_name))\n",
    "    val_data_tokens = tokenize_dataset_to_disk(val_data, processing_func, \n",
    "                                               \"data/{}/val_data_tokens.p\".format(folder_name))    \n",
    "    test_data_tokens = tokenize_dataset_to_disk(test_data, processing_func, \n",
    "                                                \"data/{}/test_data_tokens.p\".format(folder_name))\n",
    "    return train_data_tokens, val_data_tokens, test_data_tokens\n",
    "\n",
    "def load_tokens_from_disk(folder_name): \n",
    "    \"\"\" Loads train/val/test tokens from disk for a given set of tokenization scheme, denoted by folder name\"\"\"\n",
    "    train_data_tokens = pkl.load(open(\"data/{}/train_data_tokens.p\".format(folder_name), \"rb\"))\n",
    "    val_data_tokens = pkl.load(open(\"data/{}/val_data_tokens.p\".format(folder_name), \"rb\"))\n",
    "    test_data_tokens = pkl.load(open(\"data/{}/test_data_tokens.p\".format(folder_name), \"rb\"))\n",
    "    return train_data_tokens, val_data_tokens, test_data_tokens"
   ]
  },
  {
   "cell_type": "code",
   "execution_count": 153,
   "metadata": {},
   "outputs": [
    {
     "data": {
      "application/vnd.jupyter.widget-view+json": {
       "model_id": "0916e77a71db45b09bfdab435cfd6f33",
       "version_major": 2,
       "version_minor": 0
      },
      "text/plain": [
       "HBox(children=(IntProgress(value=1, bar_style='info', max=1), HTML(value='')))"
      ]
     },
     "metadata": {},
     "output_type": "display_data"
    },
    {
     "name": "stdout",
     "output_type": "stream",
     "text": [
      "\n",
      "Data tokenized and saved as data/lowercase/train_data_tokens.p in 0.7 minutes\n"
     ]
    },
    {
     "data": {
      "application/vnd.jupyter.widget-view+json": {
       "model_id": "076c4323f78943a7a993132c5f3a03ba",
       "version_major": 2,
       "version_minor": 0
      },
      "text/plain": [
       "HBox(children=(IntProgress(value=1, bar_style='info', max=1), HTML(value='')))"
      ]
     },
     "metadata": {},
     "output_type": "display_data"
    },
    {
     "name": "stdout",
     "output_type": "stream",
     "text": [
      "\n",
      "Data tokenized and saved as data/lowercase/val_data_tokens.p in 0.2 minutes\n"
     ]
    },
    {
     "data": {
      "application/vnd.jupyter.widget-view+json": {
       "model_id": "f520f472ffc84985aea0cbf18df9ef17",
       "version_major": 2,
       "version_minor": 0
      },
      "text/plain": [
       "HBox(children=(IntProgress(value=1, bar_style='info', max=1), HTML(value='')))"
      ]
     },
     "metadata": {},
     "output_type": "display_data"
    },
    {
     "name": "stdout",
     "output_type": "stream",
     "text": [
      "\n",
      "Data tokenized and saved as data/lowercase/test_data_tokens.p in 0.8 minutes\n"
     ]
    }
   ],
   "source": [
    "train_data_tokens, val_data_tokens, test_data_tokens = tokenize_datasets_to_disk(\n",
    "    train_data, val_data, test_data, processing_func=lower_case, folder_name='lowercase')"
   ]
  },
  {
   "cell_type": "code",
   "execution_count": 215,
   "metadata": {},
   "outputs": [
    {
     "name": "stdout",
     "output_type": "stream",
     "text": [
      "Train dataset size is 20000\n",
      "Val dataset size is 5000\n",
      "Test dataset size is 25000\n",
      "Total number of tokens in train dataset is 5439615\n"
     ]
    }
   ],
   "source": [
    "# load saved tokens \n",
    "train_data_tokens, val_data_tokens, test_data_tokens = load_tokens_from_disk(folder_name='lowercase')\n",
    "all_train_tokens = [item for sublist in train_data_tokens for item in sublist] \n",
    "\n",
    "# double check \n",
    "print (\"Train dataset size is {}\".format(len(train_data_tokens)))\n",
    "print (\"Val dataset size is {}\".format(len(val_data_tokens)))\n",
    "print (\"Test dataset size is {}\".format(len(test_data_tokens)))\n",
    "print (\"Total number of tokens in train dataset is {}\".format(len(all_train_tokens)))"
   ]
  },
  {
   "cell_type": "code",
   "execution_count": 216,
   "metadata": {},
   "outputs": [],
   "source": [
    "# create vocabulary from 10000 most common tokens in the training set \n",
    "\n",
    "PAD_IDX=0\n",
    "UNK_IDX=1\n",
    "\n",
    "def build_vocab(all_tokens, max_vocab_size=10000, pad_idx=PAD_IDX, unk_idx=UNK_IDX): \n",
    "    \"\"\" Takes list of all tokens and returns:\n",
    "        - id2token: list of tokens, where id2token[i] returns token that corresponds to i-th token \n",
    "        - token2id: dictionary where keys represent tokens and corresponding values represent their indices\n",
    "    \"\"\"\n",
    "    token_counter = Counter(all_tokens)\n",
    "    vocab, count = zip(*token_counter.most_common(max_vocab_size))\n",
    "    id2token = list(vocab)\n",
    "    token2id = dict(zip(vocab, range(2, 2+len(vocab))))\n",
    "    id2token = ['<pad>', '<unk>'] + id2token \n",
    "    token2id['<pad>'] = pad_idx\n",
    "    token2id['<unk>'] = unk_idx\n",
    "    return token2id, id2token \n",
    "    \n",
    "token2id, id2token = build_vocab(all_train_tokens, max_vocab_size = 10000)"
   ]
  },
  {
   "cell_type": "code",
   "execution_count": 217,
   "metadata": {},
   "outputs": [
    {
     "name": "stdout",
     "output_type": "stream",
     "text": [
      "Token id 5342 ; token penny\n",
      "Token penny; token id 5342\n"
     ]
    }
   ],
   "source": [
    "# check the dictionary by loading random token from it\n",
    "\n",
    "random_token_id = random.randint(0, len(id2token)-1)\n",
    "random_token = id2token[random_token_id]\n",
    "\n",
    "print (\"Token id {} ; token {}\".format(random_token_id, id2token[random_token_id]))\n",
    "print (\"Token {}; token id {}\".format(random_token, token2id[random_token]))"
   ]
  },
  {
   "cell_type": "code",
   "execution_count": 218,
   "metadata": {},
   "outputs": [],
   "source": [
    "# convert token to id in the dataset \n",
    "\n",
    "def token2index_dataset(tokens_data, token2id, unk_idx=UNK_IDX): \n",
    "    \"\"\" Converts data from word tokens to token indices \"\"\"\n",
    "    indices_data = []\n",
    "    for datum in tokens_data: \n",
    "        index_list = [token2id[token] if token in token2id else unk_idx for token in datum]\n",
    "        indices_data.append(index_list)\n",
    "    return indices_data \n",
    "\n",
    "train_data_indices = token2index_dataset(train_data_tokens, token2id)\n",
    "val_data_indices = token2index_dataset(val_data_tokens, token2id)\n",
    "test_data_indices = token2index_dataset(test_data_tokens, token2id)"
   ]
  },
  {
   "cell_type": "code",
   "execution_count": 219,
   "metadata": {},
   "outputs": [
    {
     "name": "stdout",
     "output_type": "stream",
     "text": [
      "Train dataset size is 20000\n",
      "Val dataset size is 5000\n",
      "Test dataset size is 25000\n"
     ]
    }
   ],
   "source": [
    "# check size of data \n",
    "print (\"Train dataset size is {}\".format(len(train_data_indices)))\n",
    "print (\"Val dataset size is {}\".format(len(val_data_indices)))\n",
    "print (\"Test dataset size is {}\".format(len(test_data_indices)))"
   ]
  },
  {
   "cell_type": "code",
   "execution_count": 223,
   "metadata": {},
   "outputs": [
    {
     "name": "stdout",
     "output_type": "stream",
     "text": [
      "['series', 'three-', 'blackadder', 'the', 'third', '\"', 'if', 'you', 'want', 'something', 'done', 'properly', ',', 'kill', 'baldrick', 'before', 'you', 'start', '\"', 'hot', 'on', 'the', 'heels', 'of', 'the', 'second', 'series', 'the', 'show', 'returned', 'with', 'the', 'current', 'owner', 'of', 'the', 'famous', 'name', 'down', 'on', 'his', 'luck', 'and', 'in', 'service', 'as', 'butler', 'to', 'the', 'prince', 'regent', ',', 'a', 'vain', 'and', 'stupid', 'foil', 'for', 'blackadders', 'venom', ',', 'played', 'by', 'hugh', 'laurie', '.', 'baldrick', 'is', 'still', 'in', 'tow', 'as', 'the', 'other', 'piece', 'of', 'the', 'comedic', 'jigsaw', '.', 'the', 'format', 'is', 'similar', 'to', 'the', 'previous', 'show', ',', 'after', 'all', 'now', 'they', 'had', 'found', 'the', 'winning', 'formula', 'why', 'change', 'things', '.', 'we', 'see', 'blackadder', 'trying', 'to', 'get', 'rich', 'off', 'of', 'the', 'back', 'of', 'the', 'gullible', 'regent', 'in', 'many', 'more', 'ingenious', 'ways', ',', 'trying', 'to', 'make', 'bladrick', 'an', 'm.p.or', 'trying', 'to', 'woe', 'a', 'suitable', 'bride', 'for', 'the', 'prince', '.', 'in', 'many', 'ways', 'this', 'is', 'one', 'of', 'the', 'most', 'accurate', 'of', 'the', 'series', 'historically', ',', 'the', 'prince', 'regent', 'did', 'take', 'control', 'of', 'the', 'throne', 'during', 'his', 'fathers', 'bout', 'of', 'madness', 'and', 'some', 'of', 'the', 'characters', 'lampooned', 'tell', 'a', 'lot', 'about', 'the', 'times', '.', 'samuel', 'johnson', ',', 'william', 'pit', 'and', 'wellington', 'all', 'pass', 'through', 'the', 'events', 'and', 'all', 'manage', 'to', 'steal', 'their', 'scenes', ',', 'not', 'an', 'easy', 'thing', 'with', 'such', 'a', 'stellar', 'cast']\n",
      "[217, 1, 1, 2, 891, 15, 57, 27, 196, 158, 236, 2973, 3, 514, 1, 173, 27, 392, 15, 899, 26, 2, 6134, 7, 2, 353, 217, 2, 128, 3598, 22, 2, 2029, 2255, 7, 2, 772, 414, 199, 26, 34, 2067, 5, 11, 2501, 20, 4803, 8, 2, 2160, 1, 3, 6, 6503, 5, 403, 7064, 21, 1, 1, 3, 270, 41, 3696, 5957, 4, 1, 9, 143, 11, 9287, 20, 2, 97, 432, 7, 2, 1708, 1, 4, 2, 2876, 9, 746, 8, 2, 971, 128, 3, 116, 38, 175, 40, 77, 272, 2, 1512, 2145, 153, 646, 207, 4, 81, 78, 1, 278, 8, 92, 1052, 140, 7, 2, 157, 7, 2, 1, 1, 11, 125, 63, 6229, 806, 3, 278, 8, 107, 1, 43, 1, 278, 8, 1, 6, 4337, 3286, 21, 2, 2160, 4, 11, 125, 806, 13, 9, 37, 7, 2, 102, 1814, 7, 2, 217, 4804, 3, 2, 2160, 1, 82, 212, 1139, 7, 2, 8019, 336, 34, 5661, 1, 7, 2877, 5, 59, 7, 2, 119, 1, 377, 6, 187, 52, 2, 232, 4, 7329, 2915, 3, 986, 5513, 5, 8487, 38, 1353, 160, 2, 699, 5, 38, 1987, 8, 2107, 80, 155, 3, 31, 43, 798, 169, 22, 152, 6, 4190, 190]\n"
     ]
    }
   ],
   "source": [
    "# check tokenization of dataset \n",
    "print(train_data_tokens[0])\n",
    "print(train_data_indices[0])"
   ]
  },
  {
   "cell_type": "markdown",
   "metadata": {},
   "source": [
    "# Model Architecture and Data Loader"
   ]
  },
  {
   "cell_type": "code",
   "execution_count": 224,
   "metadata": {},
   "outputs": [],
   "source": [
    "# define custom dataset class and collate function for data loader \n",
    "\n",
    "class MovieReviewsDataset(Dataset): \n",
    "    \"\"\" \n",
    "    Class that represents a train/validation/test dataset that's readable for PyTorch\n",
    "    Note that this class inherits torch.utils.data.Dataset\n",
    "    \"\"\"\n",
    "    \n",
    "    def __init__(self, data_list, label_list, max_sentence_length): \n",
    "        \"\"\" \n",
    "        Initialize dataset by passing in a list of movie review tokens and a list of labels \n",
    "        \"\"\"\n",
    "        self.data_list = data_list \n",
    "        self.label_list = label_list \n",
    "        self.max_sentence_length = max_sentence_length\n",
    "        assert (len(self.data_list) == len(self.label_list))\n",
    "        \n",
    "    def __len__(self): \n",
    "        return len(self.data_list)\n",
    "    \n",
    "    def __getitem__(self, key): \n",
    "        \"\"\"\n",
    "        Triggered when dataset[i] is called, outputs a list of tokens, length of list, and label of the data point\n",
    "        \"\"\"\n",
    "        token_idx = self.data_list[key][:self.max_sentence_length]\n",
    "        label = self.label_list[key]\n",
    "        return [token_idx, len(token_idx), label]\n",
    "    \n",
    "def collate_func(max_sentence_length, batch): \n",
    "    \"\"\" \n",
    "    Customized function for DataLoader that dynamically pads the batch so that the data have the same length\n",
    "    Note that this takes max_sentence_length as a first argument to be prefilled with a partial function later \n",
    "        to facilitate hyperparameter tuning \n",
    "    \"\"\"\n",
    "    data_list = [] \n",
    "    label_list = [] \n",
    "    length_list = [] \n",
    "    \n",
    "    for datum in batch:         \n",
    "        label_list.append(datum[2])\n",
    "        length_list.append(datum[1])\n",
    "        # pad data before appending \n",
    "        padded_vec = np.pad(array = np.array(datum[0]), \n",
    "                            pad_width = ((0, max_sentence_length - datum[1])), \n",
    "                            mode = 'constant', constant_values = 0)\n",
    "        data_list.append(padded_vec)\n",
    "        \n",
    "    return [torch.from_numpy(np.array(data_list)), torch.LongTensor(length_list), torch.LongTensor(label_list)]"
   ]
  },
  {
   "cell_type": "code",
   "execution_count": 225,
   "metadata": {},
   "outputs": [],
   "source": [
    "# define model architecture and helper methods \n",
    "\n",
    "class BagOfWords(nn.Module): \n",
    "    \"\"\" \n",
    "    BagOfWords classification model \n",
    "    \"\"\"\n",
    "    \n",
    "    def __init__(self, vocab_size, emb_dim): \n",
    "        \"\"\" \n",
    "        @param vocab_size: size of the vocabulary \n",
    "        @param emd_dim: size of the word embedding \n",
    "        \"\"\"\n",
    "        super().__init__() \n",
    "        self.embed = nn.Embedding(vocab_size, emb_dim, padding_idx=0)\n",
    "        self.linear = nn.Linear(emb_dim, 2)\n",
    "        \n",
    "    def forward(self, data, length): \n",
    "        \"\"\" \n",
    "        @param data: matrix of size (batch_size, max_sentence_length). Each row in data represents a review\n",
    "            that is represented using n-gram index. Note that they are padded to have the same length. \n",
    "        @param length: an int tensor of size (batch_size), which represents the non-trivial (i.e. non-padded)\n",
    "            length of each sentence in the data \n",
    "        \"\"\"\n",
    "        out = self.embed(data)\n",
    "        out = torch.sum(out, dim=1)\n",
    "        out /= length.view(length.size()[0],1).expand_as(out).float()\n",
    "        \n",
    "        # return logits\n",
    "        out = self.linear(out.float())\n",
    "\n",
    "        return out"
   ]
  },
  {
   "cell_type": "markdown",
   "metadata": {},
   "source": [
    "# Model Training and Evaluation"
   ]
  },
  {
   "cell_type": "code",
   "execution_count": 226,
   "metadata": {},
   "outputs": [],
   "source": [
    "# helper functions to train and test model \n",
    "\n",
    "def test_model(loader, model): \n",
    "    \"\"\" \n",
    "    Helper function that tests the model's performance on a given dataset \n",
    "    @param: loader = data loader for the dataset to test against \n",
    "    \"\"\"\n",
    "    correct = 0 \n",
    "    total = 0 \n",
    "    model.eval() \n",
    "    \n",
    "    for data_batch, length_batch, label_batch in loader: \n",
    "        outputs = F.softmax(model(data_batch, length_batch), dim=1)\n",
    "        predictions = outputs.max(1, keepdim=True)[1]    \n",
    "        total += label_batch.size(0)\n",
    "        correct += predictions.eq(label_batch.view_as(predictions)).sum().item()\n",
    "        \n",
    "    return (100 * correct / total)"
   ]
  },
  {
   "cell_type": "code",
   "execution_count": 227,
   "metadata": {},
   "outputs": [],
   "source": [
    "def train_and_eval(model, optimizer, train_loader, val_loader, num_epochs, print_intermediate=True):  \n",
    "    \"\"\"\n",
    "    Trains model on data from train_loader and evaluates on data from val_loader for num_epochs \n",
    "    Returns results as a dictionary comprising epoch, train accuracy, and validation accuracy \n",
    "    \"\"\"\n",
    "    # train and validate \n",
    "    criterion = torch.nn.CrossEntropyLoss()\n",
    "    results = []\n",
    "    for epoch in range(num_epochs):\n",
    "        for i, (data_batch, length_batch, label_batch) in enumerate(train_loader):\n",
    "            model.train()\n",
    "            optimizer.zero_grad()\n",
    "            outputs = model(data_batch, length_batch)\n",
    "            loss = criterion(outputs, label_batch)\n",
    "            loss.backward()\n",
    "            optimizer.step()\n",
    "            # validate every 100 iterations\n",
    "            if i % 100 == 0 or ((epoch==num_epochs-1) & (i==len(train_loader)-1)):\n",
    "                result = {} \n",
    "                result['epoch'] = epoch + i / len(train_loader)\n",
    "                result['train_acc'] = test_model(train_loader, model)\n",
    "                result['val_acc'] = test_model(val_loader, model)       \n",
    "                results.append(result)\n",
    "\n",
    "                if print_intermediate: \n",
    "                    print('Epoch: {:.2f}, Train Accuracy: {:.2f}%, Validation Accuracy: {:.2f}%'.format(\n",
    "                        result['epoch'], result['train_acc'], result['val_acc']))\n",
    "    \n",
    "    return results \n",
    "\n",
    "# from torch.optim.lr_scheduler import LambdaLR\n",
    "\n",
    "# def train_and_eval(model, optimizer, train_loader, val_loader, num_epochs, print_results=True, scheduler=None):  \n",
    "#     \"\"\"\n",
    "#     Trains model on data from train_loader and evaluates on data from val_loader for num_epochs \n",
    "#     Returns results as a dictionary comprising epoch, train accuracy, and validation accuracy \n",
    "#     \"\"\"\n",
    "#     # train and validate \n",
    "#     criterion = torch.nn.CrossEntropyLoss()\n",
    "#     scheduler = LambdaLR(optimizer, lr_lambda=, last_epoch=-1)\n",
    "#     results = []\n",
    "#     for epoch in range(num_epochs):\n",
    "#         for i, (data_batch, length_batch, label_batch) in enumerate(train_loader):\n",
    "#             model.train()\n",
    "#             optimizer.zero_grad()\n",
    "#             outputs = model(data_batch, length_batch)\n",
    "#             loss = criterion(outputs, label_batch)\n",
    "#             loss.backward()\n",
    "#             optimizer.step()\n",
    "#             # validate every 100 iterations\n",
    "#             if i % 100 == 0 or ((epoch==num_epochs-1) & (i==len(train_loader)-1)):\n",
    "#                 result = {} \n",
    "#                 result['epoch'] = epoch + i / len(train_loader)\n",
    "#                 result['train_acc'] = test_model(train_loader, model)\n",
    "#                 result['val_acc'] = test_model(val_loader, model)       \n",
    "#                 results.append(result)\n",
    "\n",
    "#                 if print_results: \n",
    "#                     print('Epoch: {:.2f}, Train Accuracy: {:.2f}%, Validation Accuracy: {:.2f}%'.format(\n",
    "#                         result['epoch'], result['train_acc'], result['val_acc']))\n",
    "#         if scheduler is not None: \n",
    "#             scheduler.step()\n",
    "    \n",
    "#     return results "
   ]
  },
  {
   "cell_type": "code",
   "execution_count": 285,
   "metadata": {},
   "outputs": [],
   "source": [
    "# helper functions to save results to and load results from a pkl logfile \n",
    "\n",
    "RESULTS_LOG = 'experiment_results/experiment_results_log.pkl'\n",
    "\n",
    "def append_to_log(hyperparams, results, runtime, experiment_name, filename=RESULTS_LOG): \n",
    "    \"\"\" Appends results and details of a single experiment to a log file \"\"\"\n",
    "    \n",
    "    # create directory if doesn't already exist \n",
    "    if not os.path.exists(os.path.dirname(filename)):\n",
    "        os.makedirs(os.path.dirname(filename))\n",
    "        \n",
    "    # store experiment details in a dictionary \n",
    "    new_result = {'experiment_name': experiment_name, 'hyperparams': hyperparams, 'results': results, \n",
    "                  'runtime': runtime, 'dt_created': datetime.now().strftime('%Y-%m-%d %H:%M:%S')}\n",
    "    \n",
    "    # if log already exists, append to log \n",
    "    try: \n",
    "        results_log = pkl.load(open(filename, \"rb\"))\n",
    "        results_log.append(new_result)\n",
    "\n",
    "    # if log doesn't exists, initialize first result as the log \n",
    "    except (OSError, IOError) as e:\n",
    "        results_log = [new_result]\n",
    "    \n",
    "    # save to pickle \n",
    "    pkl.dump(results_log, open(filename, \"wb\"))"
   ]
  },
  {
   "cell_type": "code",
   "execution_count": 296,
   "metadata": {},
   "outputs": [],
   "source": [
    "def load_experiment_log(experiment_name=None, filename=RESULTS_LOG): \n",
    "    \"\"\" Loads experiment log, with option to filter for a specific experiment_name \"\"\"\n",
    "    \n",
    "    results_log = pkl.load(open(filename, \"rb\"))\n",
    "    \n",
    "    if experiment_name is not None: \n",
    "        results_log = [r for r in results_log if r['experiment_name'] == experiment_name]\n",
    "        \n",
    "    return results_log "
   ]
  },
  {
   "cell_type": "code",
   "execution_count": 417,
   "metadata": {},
   "outputs": [],
   "source": [
    "def run_experiment(train_tokens, val_tokens, train_labels, val_labels, max_sentence_length, max_vocab_size, \n",
    "                   emb_dim, optim_algo, learning_rate, num_epochs, batch_size=32, \n",
    "                   experiment_name='Not Specified', token_scheme='Default', \n",
    "                   save_to_log=True, print_summary=True, print_intermediate=False):  \n",
    "    \n",
    "    \"\"\" Wraps all processing, training and evaluation steps in a function to facilitate hyperparam tuning. \n",
    "        Note that the function takes as input tokenized data rather than raw data since there's significant \n",
    "        lag time in generating tokens.  \n",
    "    \"\"\"\n",
    "    \n",
    "    start_time = time.time() \n",
    "    \n",
    "    # build vocab based on max_vocab_size specified \n",
    "    all_train_tokens = [item for sublist in train_data_tokens for item in sublist] \n",
    "    token2id, id2token = build_vocab(all_train_tokens, max_vocab_size)\n",
    "    \n",
    "    # convert tokens to token indices \n",
    "    train_data_indices = token2index_dataset(train_data_tokens, token2id)\n",
    "    val_data_indices = token2index_dataset(val_data_tokens, token2id)\n",
    "    \n",
    "    # instantiate PyTorch Dataset object \n",
    "    train_dataset = MovieReviewsDataset(train_data_indices, train_labels, max_sentence_length)\n",
    "    val_dataset = MovieReviewsDataset(val_data_indices, val_labels, max_sentence_length)\n",
    "    \n",
    "    # create PyTorch DataLoader\n",
    "    train_loader = torch.utils.data.DataLoader(dataset=train_dataset, batch_size=batch_size, shuffle=True, \n",
    "                                               collate_fn=partial(collate_func, max_sentence_length))\n",
    "    val_loader = torch.utils.data.DataLoader(dataset=val_dataset, batch_size=batch_size, shuffle=True, \n",
    "                                             collate_fn=partial(collate_func, max_sentence_length))\n",
    "    \n",
    "    # instantiate model and optimizer \n",
    "    model = BagOfWords(len(token2id), emb_dim)\n",
    "    optimizer = optim_algos[optim_algo](params=model.parameters(), lr=learning_rate) \n",
    "#    optim = optimizer(params=model.parameters(), lr=learning_rate)\n",
    "    \n",
    "    # train and evaluate \n",
    "    results = train_and_eval(model, optimizer, train_loader, val_loader, num_epochs, print_intermediate)\n",
    "    \n",
    "    # store, print, and save results \n",
    "    runtime = time.time() - start_time \n",
    "    hyperparams = {'max_sentence_length': max_sentence_length, 'max_vocab_size': max_vocab_size, \n",
    "                   'emb_dim': emb_dim, 'optim_algo': optim_algo, 'learning_rate': learning_rate, \n",
    "                   'num_epochs': num_epochs, 'token_scheme': token_scheme}\n",
    "    if save_to_log: \n",
    "        append_to_log(hyperparams, results, runtime, experiment_name)\n",
    "    if print_summary: \n",
    "        print(\"Experiment completed in {} seconds with {}% validation accuracy.\".format(\n",
    "            int(runtime), pd.DataFrame.from_dict(results)['val_acc'].max()))\n",
    "        \n",
    "    return results, hyperparams, runtime"
   ]
  },
  {
   "cell_type": "code",
   "execution_count": 418,
   "metadata": {},
   "outputs": [],
   "source": [
    "# helper methods to summarize, evaluate, and plot results \n",
    "\n",
    "def summarize_results(results_log, exclude_cols=['hyperparams', 'results']): \n",
    "    \"\"\" Summarizes results_log (list) into a dataframe, splitting hyperparameters string into columns, and reducing \n",
    "        the val_acc dict into the best validation accuracy obtained amongst all the epochs logged \"\"\"\n",
    "    results_df = pd.DataFrame.from_dict(results_log)\n",
    "    results_df = pd.concat([results_df, results_df['hyperparams'].apply(pd.Series)], axis=1)\n",
    "    results_df['val_acc'] = results_df['results'].apply(lambda d: pd.DataFrame.from_dict(d)['val_acc'].max())\n",
    "    all_cols = ['experiment_name', 'token_scheme', 'num_epochs', 'runtime', 'max_sentence_length', 'max_vocab_size', \n",
    "                'emb_dim', 'optim_algo', 'learning_rate', 'val_acc', 'hyperparams', 'results']\n",
    "    output_cols = [col for col in all_cols if col not in exclude_cols]\n",
    "    return results_df[output_cols] \n",
    "\n",
    "def plot_multiple_learning_curves(results_log, plot_variable): \n",
    "    \"\"\" Plots learning curves of MULTIPLE experiments, includes only validation accuracy \"\"\"\n",
    "    results_df = summarize_results(results_log, exclude_cols=['hyperparams', 'val_acc'])\n",
    "    plt.figure(figsize=(8, 5))\n",
    "    for index, row in results_df.iterrows():\n",
    "        plt.plot(pd.DataFrame.from_dict(row['results']).set_index('epoch')['val_acc'], label=row['num_epochs'])\n",
    "    plt.ylabel('Validation Accuracy')\n",
    "    plt.xlabel('Epoch')\n",
    "    plt.legend(title=plot_variable)    \n",
    "    \n",
    "def plot_single_learning_curve(results): \n",
    "    \"\"\" Plots learning curve of a SINGLE experiment, includes both train and validation accuracy \"\"\"\n",
    "    results_df = pd.DataFrame.from_dict(results)\n",
    "    results_df = results_df.set_index('epoch')\n",
    "    results_df.plot()\n",
    "    plt.ylabel('Validation Accuracy')\n",
    "    plt.xlabel('Epoch')"
   ]
  },
  {
   "cell_type": "markdown",
   "metadata": {},
   "source": [
    "## Basic Model  "
   ]
  },
  {
   "cell_type": "markdown",
   "metadata": {},
   "source": [
    "First let's train and evaluate a basic model with a set of arbitrary hyperparameters to make sure the code runs correctly:"
   ]
  },
  {
   "cell_type": "code",
   "execution_count": 420,
   "metadata": {},
   "outputs": [
    {
     "name": "stdout",
     "output_type": "stream",
     "text": [
      "Epoch: 0.00, Train Accuracy: 50.51%, Validation Accuracy: 51.60%\n",
      "Epoch: 0.16, Train Accuracy: 59.45%, Validation Accuracy: 59.44%\n",
      "Epoch: 0.32, Train Accuracy: 68.08%, Validation Accuracy: 67.80%\n",
      "Epoch: 0.48, Train Accuracy: 72.19%, Validation Accuracy: 70.92%\n",
      "Epoch: 0.64, Train Accuracy: 75.73%, Validation Accuracy: 74.10%\n",
      "Epoch: 0.80, Train Accuracy: 78.48%, Validation Accuracy: 76.40%\n",
      "Epoch: 0.96, Train Accuracy: 80.61%, Validation Accuracy: 78.38%\n",
      "Epoch: 1.00, Train Accuracy: 80.30%, Validation Accuracy: 77.88%\n",
      "Epoch: 1.16, Train Accuracy: 82.28%, Validation Accuracy: 79.32%\n",
      "Epoch: 1.32, Train Accuracy: 83.41%, Validation Accuracy: 80.70%\n",
      "Epoch: 1.48, Train Accuracy: 84.28%, Validation Accuracy: 80.90%\n",
      "Epoch: 1.64, Train Accuracy: 85.05%, Validation Accuracy: 81.20%\n",
      "Epoch: 1.80, Train Accuracy: 85.64%, Validation Accuracy: 81.82%\n",
      "Epoch: 1.96, Train Accuracy: 86.33%, Validation Accuracy: 82.38%\n",
      "Epoch: 2.00, Train Accuracy: 86.22%, Validation Accuracy: 82.16%\n",
      "Epoch: 2.16, Train Accuracy: 86.95%, Validation Accuracy: 82.44%\n",
      "Epoch: 2.32, Train Accuracy: 87.47%, Validation Accuracy: 82.64%\n",
      "Epoch: 2.48, Train Accuracy: 87.81%, Validation Accuracy: 82.86%\n",
      "Epoch: 2.64, Train Accuracy: 88.30%, Validation Accuracy: 83.08%\n",
      "Epoch: 2.80, Train Accuracy: 88.52%, Validation Accuracy: 83.04%\n",
      "Epoch: 2.96, Train Accuracy: 88.95%, Validation Accuracy: 83.50%\n",
      "Epoch: 3.00, Train Accuracy: 89.06%, Validation Accuracy: 83.62%\n",
      "Epoch: 3.16, Train Accuracy: 89.30%, Validation Accuracy: 83.52%\n",
      "Epoch: 3.32, Train Accuracy: 89.58%, Validation Accuracy: 83.66%\n",
      "Epoch: 3.48, Train Accuracy: 89.58%, Validation Accuracy: 83.70%\n",
      "Epoch: 3.64, Train Accuracy: 90.27%, Validation Accuracy: 83.68%\n",
      "Epoch: 3.80, Train Accuracy: 90.56%, Validation Accuracy: 83.78%\n",
      "Epoch: 3.96, Train Accuracy: 90.66%, Validation Accuracy: 83.98%\n",
      "Epoch: 4.00, Train Accuracy: 90.72%, Validation Accuracy: 84.08%\n",
      "Epoch: 4.16, Train Accuracy: 90.95%, Validation Accuracy: 83.94%\n",
      "Epoch: 4.32, Train Accuracy: 91.11%, Validation Accuracy: 83.92%\n",
      "Epoch: 4.48, Train Accuracy: 91.28%, Validation Accuracy: 83.70%\n",
      "Epoch: 4.64, Train Accuracy: 91.44%, Validation Accuracy: 83.64%\n",
      "Epoch: 4.80, Train Accuracy: 91.51%, Validation Accuracy: 83.52%\n",
      "Epoch: 4.96, Train Accuracy: 91.77%, Validation Accuracy: 83.90%\n",
      "Epoch: 5.00, Train Accuracy: 92.00%, Validation Accuracy: 83.90%\n",
      "Epoch: 5.16, Train Accuracy: 92.06%, Validation Accuracy: 83.98%\n",
      "Epoch: 5.32, Train Accuracy: 92.17%, Validation Accuracy: 83.80%\n",
      "Epoch: 5.48, Train Accuracy: 92.44%, Validation Accuracy: 83.72%\n",
      "Epoch: 5.64, Train Accuracy: 92.54%, Validation Accuracy: 83.58%\n",
      "Epoch: 5.80, Train Accuracy: 92.70%, Validation Accuracy: 83.52%\n",
      "Epoch: 5.96, Train Accuracy: 92.94%, Validation Accuracy: 83.74%\n",
      "Epoch: 6.00, Train Accuracy: 92.84%, Validation Accuracy: 83.70%\n",
      "Epoch: 6.16, Train Accuracy: 93.02%, Validation Accuracy: 83.88%\n",
      "Epoch: 6.32, Train Accuracy: 93.14%, Validation Accuracy: 83.42%\n",
      "Epoch: 6.48, Train Accuracy: 93.33%, Validation Accuracy: 83.50%\n",
      "Epoch: 6.64, Train Accuracy: 93.42%, Validation Accuracy: 83.84%\n",
      "Epoch: 6.80, Train Accuracy: 93.69%, Validation Accuracy: 83.50%\n",
      "Epoch: 6.96, Train Accuracy: 93.80%, Validation Accuracy: 83.82%\n",
      "Epoch: 7.00, Train Accuracy: 93.86%, Validation Accuracy: 83.48%\n",
      "Epoch: 7.16, Train Accuracy: 93.45%, Validation Accuracy: 83.84%\n",
      "Epoch: 7.32, Train Accuracy: 94.08%, Validation Accuracy: 83.48%\n",
      "Epoch: 7.48, Train Accuracy: 94.20%, Validation Accuracy: 83.60%\n",
      "Epoch: 7.64, Train Accuracy: 94.31%, Validation Accuracy: 83.22%\n",
      "Epoch: 7.80, Train Accuracy: 94.31%, Validation Accuracy: 83.00%\n",
      "Epoch: 7.96, Train Accuracy: 94.50%, Validation Accuracy: 82.88%\n",
      "Epoch: 8.00, Train Accuracy: 94.56%, Validation Accuracy: 83.60%\n",
      "Epoch: 8.16, Train Accuracy: 94.57%, Validation Accuracy: 83.00%\n",
      "Epoch: 8.32, Train Accuracy: 94.81%, Validation Accuracy: 82.92%\n",
      "Epoch: 8.48, Train Accuracy: 94.77%, Validation Accuracy: 83.54%\n",
      "Epoch: 8.64, Train Accuracy: 94.93%, Validation Accuracy: 83.22%\n",
      "Epoch: 8.80, Train Accuracy: 95.05%, Validation Accuracy: 83.36%\n",
      "Epoch: 8.96, Train Accuracy: 95.12%, Validation Accuracy: 82.58%\n",
      "Epoch: 9.00, Train Accuracy: 95.24%, Validation Accuracy: 82.96%\n",
      "Epoch: 9.16, Train Accuracy: 95.34%, Validation Accuracy: 83.02%\n",
      "Epoch: 9.32, Train Accuracy: 95.34%, Validation Accuracy: 83.26%\n",
      "Epoch: 9.48, Train Accuracy: 95.48%, Validation Accuracy: 83.12%\n",
      "Epoch: 9.64, Train Accuracy: 95.53%, Validation Accuracy: 83.30%\n",
      "Epoch: 9.80, Train Accuracy: 95.69%, Validation Accuracy: 82.84%\n",
      "Epoch: 9.96, Train Accuracy: 95.72%, Validation Accuracy: 82.56%\n",
      "Epoch: 10.00, Train Accuracy: 95.33%, Validation Accuracy: 83.52%\n",
      "Experiment completed in 366 seconds with 84.08% validation accuracy.\n"
     ]
    }
   ],
   "source": [
    "results, hyperparams, runtime = run_experiment(\n",
    "    train_data_tokens, val_data_tokens, train_labels, val_labels, max_sentence_length=200, \n",
    "    max_vocab_size=10000, emb_dim=100, optim_algo='Adam', learning_rate=0.001, num_epochs=10, batch_size=32, \n",
    "    experiment_name='Test Basic Model', save_to_log=True, print_summary=True, print_intermediate=True) "
   ]
  },
  {
   "cell_type": "markdown",
   "metadata": {},
   "source": [
    "It looks like we were able to obtain pretty good results already: ~84% accuracy on unseen validation dataset. We will proceed to try different proprocessing and hyperparameters next. "
   ]
  },
  {
   "cell_type": "code",
   "execution_count": 401,
   "metadata": {},
   "outputs": [
    {
     "data": {
      "image/png": "[encoded data removed]",
      "text/plain": [
       "<Figure size 432x288 with 1 Axes>"
      ]
     },
     "metadata": {
      "needs_background": "light"
     },
     "output_type": "display_data"
    }
   ],
   "source": [
    "# learning curve \n",
    "plot_single_learning_curve(results)"
   ]
  },
  {
   "cell_type": "markdown",
   "metadata": {},
   "source": [
    "## Model Tuning "
   ]
  },
  {
   "cell_type": "markdown",
   "metadata": {},
   "source": [
    "#### Tokenization Schemes"
   ]
  },
  {
   "cell_type": "markdown",
   "metadata": {},
   "source": [
    "Previously we converted our text data to tokens with limited preprocessing: the standard SpaCy tokenizer was applied on the lowercased text. In this section, we experiment with other tokenization schemes: \n",
    "\n",
    "0. Lowercased Text (\"Standard\") \n",
    "1. Lowercased Text + Removed Punctuation \n",
    "2. Lowercased Text + Removed Punctuation + Removed Stopwards (SpaCy)\n",
    "3. Lowercased Text + Removed Punctuation + Removed Stopwards (NLTK)\n",
    "4. Lowercased Text + Removed Punctuation + Removed Stopwards (SpaCy) + Lemmatize \n",
    "5. Lowercased Text + Removed Punctuation + Removed Stopwards (NLTK) + Lemmatize "
   ]
  },
  {
   "cell_type": "code",
   "execution_count": 261,
   "metadata": {},
   "outputs": [],
   "source": [
    "punctuations = string.punctuation \n",
    "spacy_stop_words = tokenizer.Defaults.stop_words\n",
    "nltk_stop_words = nltk.corpus.stopwords.words('english')"
   ]
  },
  {
   "cell_type": "markdown",
   "metadata": {},
   "source": [
    "Note that we are testing two sets of stopwords, one from SpaCy and another from NLTK. SpaCy's considerably longer, and includes a number of words that might be important in n-grams, e.g. 'not', 'very'. NLTK's is shorter and appears to be more conservative. "
   ]
  },
  {
   "cell_type": "code",
   "execution_count": 262,
   "metadata": {},
   "outputs": [
    {
     "name": "stdout",
     "output_type": "stream",
     "text": [
      "{'would', 'first', 'latterly', 'under', 'before', 'why', 'through', 'has', 'onto', 'give', 'via', 'into', 'thereafter', 'they', 'wherein', 'nevertheless', 'becoming', 'i', 'nowhere', 'or', 'anything', 'really', 'whole', 'front', 'nobody', 'within', 'often', 'still', 'not', 'becomes', 'next', 'much', 'might', 'none', 'the', 'anywhere', 'with', 'former', 'may', 'its', 'another', 'their', 'while', 'noone', 'across', 'thereby', 'up', 'because', 'empty', 'than', 'ten', 'meanwhile', 'therein', 'three', 'whenever', 'whether', 'fifty', 'afterwards', 'had', 'used', 'nothing', 'although', 'per', 'amount', 'thus', 'at', 'over', 'besides', 'my', 'already', 'whence', 'against', 'thereupon', 'each', 'whoever', 'whom', 'hereby', 'name', 'seeming', 'thence', 'fifteen', 'him', 'only', 'some', 'could', 'which', 'call', 'hereafter', 'neither', 'somewhere', 'being', 'take', 'yours', 'between', 'more', 'five', 'too', 'perhaps', 'formerly', 'beforehand', 'doing', 'many', 'otherwise', 'part', 'and', 'now', 'these', 'please', 'bottom', 'rather', 'anyway', 'say', 'two', 'off', 'elsewhere', 'namely', 'about', 'ours', 'back', 'whereafter', 'but', 'was', 'wherever', 'everyone', 'twenty', 'those', 'he', 'various', 'twelve', 'amongst', 'once', 'thru', 'whatever', 'keep', 'them', 'without', 'after', 'latter', 'anyone', 'yet', 'anyhow', 'side', 'hers', 'always', 'in', 'me', 'unless', 'everything', 'are', 'done', 'here', 'full', 'such', 'other', 'been', 'itself', 'mostly', 'one', 'no', 'any', 'enough', 'beside', 'either', 'together', 'hereupon', 'well', 'it', 'whereupon', 'we', 'by', 'as', 'for', 'became', 'regarding', 'go', 'when', 'most', 'also', 'this', 'out', 'himself', 'made', 'nine', 'beyond', 'then', 'sometimes', 'last', 'to', 'others', 'sometime', 'behind', 'our', 'myself', 'that', 're', 'sixty', 'both', 'ca', 'something', 'herein', 'along', 'nor', 'down', 'third', 'alone', 'very', 'whither', 'themselves', 'seem', 'does', 'moreover', 'indeed', 'several', 'somehow', 'whereby', 'forty', 'ourselves', 'seems', 'everywhere', 'did', 'mine', 'make', 'again', 'move', 'see', 'she', 'since', 'can', 'throughout', 'every', 'of', 'your', 'own', 'further', 'how', 'on', 'ever', 'a', 'seemed', 'though', 'cannot', 'yourself', 'except', 'all', 'is', 'least', 'where', 'his', 'us', 'below', 'must', 'be', 'were', 'if', 'serious', 'therefore', 'using', 'an', 'never', 'should', 'among', 'yourselves', 'put', 'almost', 'same', 'else', 'from', 'get', 'what', 'top', 'her', 'however', 'eight', 'will', 'have', 'hence', 'four', 'six', 'just', 'even', 'become', 'until', 'show', 'someone', 'whose', 'herself', 'am', 'do', 'above', 'few', 'hundred', 'so', 'whereas', 'eleven', 'upon', 'you', 'less', 'there', 'who', 'around', 'quite', 'due', 'during', 'towards', 'toward'}\n"
     ]
    }
   ],
   "source": [
    "print(spacy_stop_words)"
   ]
  },
  {
   "cell_type": "code",
   "execution_count": 263,
   "metadata": {},
   "outputs": [
    {
     "name": "stdout",
     "output_type": "stream",
     "text": [
      "['i', 'me', 'my', 'myself', 'we', 'our', 'ours', 'ourselves', 'you', 'your', 'yours', 'yourself', 'yourselves', 'he', 'him', 'his', 'himself', 'she', 'her', 'hers', 'herself', 'it', 'its', 'itself', 'they', 'them', 'their', 'theirs', 'themselves', 'what', 'which', 'who', 'whom', 'this', 'that', 'these', 'those', 'am', 'is', 'are', 'was', 'were', 'be', 'been', 'being', 'have', 'has', 'had', 'having', 'do', 'does', 'did', 'doing', 'a', 'an', 'the', 'and', 'but', 'if', 'or', 'because', 'as', 'until', 'while', 'of', 'at', 'by', 'for', 'with', 'about', 'against', 'between', 'into', 'through', 'during', 'before', 'after', 'above', 'below', 'to', 'from', 'up', 'down', 'in', 'out', 'on', 'off', 'over', 'under', 'again', 'further', 'then', 'once', 'here', 'there', 'when', 'where', 'why', 'how', 'all', 'any', 'both', 'each', 'few', 'more', 'most', 'other', 'some', 'such', 'no', 'nor', 'not', 'only', 'own', 'same', 'so', 'than', 'too', 'very', 's', 't', 'can', 'will', 'just', 'don', 'should', 'now', 'd', 'll', 'm', 'o', 're', 've', 'y', 'ain', 'aren', 'couldn', 'didn', 'doesn', 'hadn', 'hasn', 'haven', 'isn', 'ma', 'mightn', 'mustn', 'needn', 'shan', 'shouldn', 'wasn', 'weren', 'won', 'wouldn']\n"
     ]
    }
   ],
   "source": [
    "print(nltk_stop_words)"
   ]
  },
  {
   "cell_type": "code",
   "execution_count": 264,
   "metadata": {},
   "outputs": [],
   "source": [
    "# define various tokenization functions and store as a dictionary \n",
    "\n",
    "def remove_punc(parsed):\n",
    "    \"\"\" Takes text as input and outputs a list of tokens in lowercase without punctuation \"\"\"\n",
    "    return [token.text.lower() for token in parsed if (token.text not in punctuations)]\n",
    "\n",
    "def remove_punc_spacy_stopwords(parsed):\n",
    "    \"\"\" Takes text as input and outputs a list of tokens in lowercase without punctuation \"\"\"\n",
    "    return [token.text.lower() for token in parsed \n",
    "            if (token.text not in punctuations and token.text.lower() not in spacy_stop_words)]\n",
    "\n",
    "def remove_punc_nltk_stopwords(parsed):\n",
    "    \"\"\" Takes text as input and outputs a list of tokens in lowercase without punctuation \"\"\"\n",
    "    return [token.text.lower() for token in parsed \n",
    "            if (token.text not in punctuations and token.text.lower() not in nltk_stop_words)]\n",
    "\n",
    "def remove_punc_spacy_stopwords_lemmatize(parsed):\n",
    "    \"\"\" Takes text as input and outputs a list of tokens in lowercase without punctuation \"\"\"\n",
    "    return [token.lemma_.lower() for token in parsed \n",
    "            if (token.text not in punctuations and token.lemma_.lower() not in spacy_stop_words)]\n",
    "\n",
    "def remove_punc_nltk_stopwords_lemmatize(parsed):\n",
    "    \"\"\" Takes text as input and outputs a list of tokens in lowercase without punctuation \"\"\"\n",
    "    return [token.lemma_.lower() for token in parsed \n",
    "            if (token.text not in punctuations and token.lemma_.lower() not in nltk_stop_words)]\n",
    "\n",
    "tokenization_schemes = {'lowercase': lower_case, \n",
    "                        'lowercase_no_punc': remove_punc, \n",
    "                        'lowercase_no_punc_stopwords_spacy': remove_punc_spacy_stopwords, \n",
    "                        'lowercase_no_punc_stopwords_nltk': remove_punc_nltk_stopwords, \n",
    "                        'lowercase_no_punc_stopwords_spacy_lemmatize': remove_punc_spacy_stopwords_lemmatize, \n",
    "                        'lowercase_no_punc_stopwords_nltk_lemmatize': remove_punc_nltk_stopwords_lemmatize}"
   ]
  },
  {
   "cell_type": "code",
   "execution_count": 53,
   "metadata": {},
   "outputs": [
    {
     "name": "stdout",
     "output_type": "stream",
     "text": [
      "Tokenizing with scheme: lowercase ...\n"
     ]
    },
    {
     "data": {
      "application/vnd.jupyter.widget-view+json": {
       "model_id": "085d3b4b41434526ab832f5b72979ebc",
       "version_major": 2,
       "version_minor": 0
      },
      "text/plain": [
       "HBox(children=(IntProgress(value=1, bar_style='info', max=1), HTML(value='')))"
      ]
     },
     "metadata": {},
     "output_type": "display_data"
    },
    {
     "name": "stdout",
     "output_type": "stream",
     "text": [
      "\n",
      "Data tokenized and saved as data/lowercase/train_data_tokens.p in 0.7 minutes\n"
     ]
    },
    {
     "data": {
      "application/vnd.jupyter.widget-view+json": {
       "model_id": "fbbdf5b769eb4990986c51eaf10fec39",
       "version_major": 2,
       "version_minor": 0
      },
      "text/plain": [
       "HBox(children=(IntProgress(value=1, bar_style='info', max=1), HTML(value='')))"
      ]
     },
     "metadata": {},
     "output_type": "display_data"
    },
    {
     "name": "stdout",
     "output_type": "stream",
     "text": [
      "\n",
      "Data tokenized and saved as data/lowercase/val_data_tokens.p in 0.1 minutes\n"
     ]
    },
    {
     "data": {
      "application/vnd.jupyter.widget-view+json": {
       "model_id": "15e6d4de108f4266b993208fcb11b46b",
       "version_major": 2,
       "version_minor": 0
      },
      "text/plain": [
       "HBox(children=(IntProgress(value=1, bar_style='info', max=1), HTML(value='')))"
      ]
     },
     "metadata": {},
     "output_type": "display_data"
    },
    {
     "name": "stdout",
     "output_type": "stream",
     "text": [
      "\n",
      "Data tokenized and saved as data/lowercase/test_data_tokens.p in 0.7 minutes\n",
      "Tokenizing with scheme: lowercase_no_punc ...\n"
     ]
    },
    {
     "data": {
      "application/vnd.jupyter.widget-view+json": {
       "model_id": "38f2ffbdf11e4144b3078eeb44e5914c",
       "version_major": 2,
       "version_minor": 0
      },
      "text/plain": [
       "HBox(children=(IntProgress(value=1, bar_style='info', max=1), HTML(value='')))"
      ]
     },
     "metadata": {},
     "output_type": "display_data"
    },
    {
     "name": "stdout",
     "output_type": "stream",
     "text": [
      "\n",
      "Data tokenized and saved as data/lowercase_no_punc/train_data_tokens.p in 0.6 minutes\n"
     ]
    },
    {
     "data": {
      "application/vnd.jupyter.widget-view+json": {
       "model_id": "505f4b38de8e4d05b6894313711f453d",
       "version_major": 2,
       "version_minor": 0
      },
      "text/plain": [
       "HBox(children=(IntProgress(value=1, bar_style='info', max=1), HTML(value='')))"
      ]
     },
     "metadata": {},
     "output_type": "display_data"
    },
    {
     "name": "stdout",
     "output_type": "stream",
     "text": [
      "\n",
      "Data tokenized and saved as data/lowercase_no_punc/val_data_tokens.p in 0.1 minutes\n"
     ]
    },
    {
     "data": {
      "application/vnd.jupyter.widget-view+json": {
       "model_id": "b7a9e0fb59554ba198e0fb9f96f2eec2",
       "version_major": 2,
       "version_minor": 0
      },
      "text/plain": [
       "HBox(children=(IntProgress(value=1, bar_style='info', max=1), HTML(value='')))"
      ]
     },
     "metadata": {},
     "output_type": "display_data"
    },
    {
     "name": "stdout",
     "output_type": "stream",
     "text": [
      "\n",
      "Data tokenized and saved as data/lowercase_no_punc/test_data_tokens.p in 0.7 minutes\n",
      "Tokenizing with scheme: lowercase_no_punc_stopwords_spacy ...\n"
     ]
    },
    {
     "data": {
      "application/vnd.jupyter.widget-view+json": {
       "model_id": "ddc277b50aef4f929981c9e53ae9cfe0",
       "version_major": 2,
       "version_minor": 0
      },
      "text/plain": [
       "HBox(children=(IntProgress(value=1, bar_style='info', max=1), HTML(value='')))"
      ]
     },
     "metadata": {},
     "output_type": "display_data"
    },
    {
     "name": "stdout",
     "output_type": "stream",
     "text": [
      "\n",
      "Data tokenized and saved as data/lowercase_no_punc_stopwords_spacy/train_data_tokens.p in 0.6 minutes\n"
     ]
    },
    {
     "data": {
      "application/vnd.jupyter.widget-view+json": {
       "model_id": "4335d992697043df9686c04446625b4f",
       "version_major": 2,
       "version_minor": 0
      },
      "text/plain": [
       "HBox(children=(IntProgress(value=1, bar_style='info', max=1), HTML(value='')))"
      ]
     },
     "metadata": {},
     "output_type": "display_data"
    },
    {
     "name": "stdout",
     "output_type": "stream",
     "text": [
      "\n",
      "Data tokenized and saved as data/lowercase_no_punc_stopwords_spacy/val_data_tokens.p in 0.1 minutes\n"
     ]
    },
    {
     "data": {
      "application/vnd.jupyter.widget-view+json": {
       "model_id": "a6b23c4368d34637ba462bd8c0f65a02",
       "version_major": 2,
       "version_minor": 0
      },
      "text/plain": [
       "HBox(children=(IntProgress(value=1, bar_style='info', max=1), HTML(value='')))"
      ]
     },
     "metadata": {},
     "output_type": "display_data"
    },
    {
     "name": "stdout",
     "output_type": "stream",
     "text": [
      "\n",
      "Data tokenized and saved as data/lowercase_no_punc_stopwords_spacy/test_data_tokens.p in 0.7 minutes\n",
      "Tokenizing with scheme: lowercase_no_punc_stopwords_nltk ...\n"
     ]
    },
    {
     "data": {
      "application/vnd.jupyter.widget-view+json": {
       "model_id": "2bb7e9c2e5654fb4b8ec344224fd028a",
       "version_major": 2,
       "version_minor": 0
      },
      "text/plain": [
       "HBox(children=(IntProgress(value=1, bar_style='info', max=1), HTML(value='')))"
      ]
     },
     "metadata": {},
     "output_type": "display_data"
    },
    {
     "name": "stdout",
     "output_type": "stream",
     "text": [
      "\n",
      "Data tokenized and saved as data/lowercase_no_punc_stopwords_nltk/train_data_tokens.p in 0.7 minutes\n"
     ]
    },
    {
     "data": {
      "application/vnd.jupyter.widget-view+json": {
       "model_id": "0d6a0ea88ef34180b638a0776b90de7d",
       "version_major": 2,
       "version_minor": 0
      },
      "text/plain": [
       "HBox(children=(IntProgress(value=1, bar_style='info', max=1), HTML(value='')))"
      ]
     },
     "metadata": {},
     "output_type": "display_data"
    },
    {
     "name": "stdout",
     "output_type": "stream",
     "text": [
      "\n",
      "Data tokenized and saved as data/lowercase_no_punc_stopwords_nltk/val_data_tokens.p in 0.2 minutes\n"
     ]
    },
    {
     "data": {
      "application/vnd.jupyter.widget-view+json": {
       "model_id": "cfbfcc086bc64c009b7eda96b48bad20",
       "version_major": 2,
       "version_minor": 0
      },
      "text/plain": [
       "HBox(children=(IntProgress(value=1, bar_style='info', max=1), HTML(value='')))"
      ]
     },
     "metadata": {},
     "output_type": "display_data"
    },
    {
     "name": "stdout",
     "output_type": "stream",
     "text": [
      "\n",
      "Data tokenized and saved as data/lowercase_no_punc_stopwords_nltk/test_data_tokens.p in 0.8 minutes\n",
      "Tokenizing with scheme: lowercase_no_punc_stopwords_spacy_lemmatize ...\n"
     ]
    },
    {
     "data": {
      "application/vnd.jupyter.widget-view+json": {
       "model_id": "58f4df7bdaed4ccd88f862bf20aaba09",
       "version_major": 2,
       "version_minor": 0
      },
      "text/plain": [
       "HBox(children=(IntProgress(value=1, bar_style='info', max=1), HTML(value='')))"
      ]
     },
     "metadata": {},
     "output_type": "display_data"
    },
    {
     "name": "stdout",
     "output_type": "stream",
     "text": [
      "\n",
      "Data tokenized and saved as data/lowercase_no_punc_stopwords_spacy_lemmatize/train_data_tokens.p in 0.6 minutes\n"
     ]
    },
    {
     "data": {
      "application/vnd.jupyter.widget-view+json": {
       "model_id": "bfb1853db0f94982bb1e1aa6ac9b9b41",
       "version_major": 2,
       "version_minor": 0
      },
      "text/plain": [
       "HBox(children=(IntProgress(value=1, bar_style='info', max=1), HTML(value='')))"
      ]
     },
     "metadata": {},
     "output_type": "display_data"
    },
    {
     "name": "stdout",
     "output_type": "stream",
     "text": [
      "\n",
      "Data tokenized and saved as data/lowercase_no_punc_stopwords_spacy_lemmatize/val_data_tokens.p in 0.2 minutes\n"
     ]
    },
    {
     "data": {
      "application/vnd.jupyter.widget-view+json": {
       "model_id": "b8a22602e59c43a3ba73c842e3413ad9",
       "version_major": 2,
       "version_minor": 0
      },
      "text/plain": [
       "HBox(children=(IntProgress(value=1, bar_style='info', max=1), HTML(value='')))"
      ]
     },
     "metadata": {},
     "output_type": "display_data"
    },
    {
     "name": "stdout",
     "output_type": "stream",
     "text": [
      "\n",
      "Data tokenized and saved as data/lowercase_no_punc_stopwords_spacy_lemmatize/test_data_tokens.p in 0.8 minutes\n",
      "Tokenizing with scheme: lowercase_no_punc_stopwords_nltk_lemmatize ...\n"
     ]
    },
    {
     "data": {
      "application/vnd.jupyter.widget-view+json": {
       "model_id": "cd2462575e564282af9553094e8d0c45",
       "version_major": 2,
       "version_minor": 0
      },
      "text/plain": [
       "HBox(children=(IntProgress(value=1, bar_style='info', max=1), HTML(value='')))"
      ]
     },
     "metadata": {},
     "output_type": "display_data"
    },
    {
     "name": "stdout",
     "output_type": "stream",
     "text": [
      "\n",
      "Data tokenized and saved as data/lowercase_no_punc_stopwords_nltk_lemmatize/train_data_tokens.p in 0.8 minutes\n"
     ]
    },
    {
     "data": {
      "application/vnd.jupyter.widget-view+json": {
       "model_id": "78f9b8b677df41feab63519c3da10617",
       "version_major": 2,
       "version_minor": 0
      },
      "text/plain": [
       "HBox(children=(IntProgress(value=1, bar_style='info', max=1), HTML(value='')))"
      ]
     },
     "metadata": {},
     "output_type": "display_data"
    },
    {
     "name": "stdout",
     "output_type": "stream",
     "text": [
      "\n",
      "Data tokenized and saved as data/lowercase_no_punc_stopwords_nltk_lemmatize/val_data_tokens.p in 0.2 minutes\n"
     ]
    },
    {
     "data": {
      "application/vnd.jupyter.widget-view+json": {
       "model_id": "f855017fce834613a3bb2471c2b0f477",
       "version_major": 2,
       "version_minor": 0
      },
      "text/plain": [
       "HBox(children=(IntProgress(value=1, bar_style='info', max=1), HTML(value='')))"
      ]
     },
     "metadata": {},
     "output_type": "display_data"
    },
    {
     "name": "stdout",
     "output_type": "stream",
     "text": [
      "\n",
      "Data tokenized and saved as data/lowercase_no_punc_stopwords_nltk_lemmatize/test_data_tokens.p in 1.1 minutes\n"
     ]
    }
   ],
   "source": [
    "# run various tokenization experiments and save down as tokens \n",
    "\n",
    "for t_scheme in tokenization_schemes:     \n",
    "    print (\"Tokenizing with scheme: {} ...\".format(t_scheme))\n",
    "    _, _, _ = tokenize_datasets_to_disk(train_data, val_data, test_data, \n",
    "                                        processing_func=tokenization_schemes[t_scheme], folder_name=t_scheme)"
   ]
  },
  {
   "cell_type": "code",
   "execution_count": null,
   "metadata": {},
   "outputs": [],
   "source": [
    "# run tokenization experiments \n",
    "\n",
    "for t_scheme in tokenization_schemes: \n",
    "    \n",
    "    print (\"Training with and {} tokenization scheme...\".format(t_scheme))\n",
    "    \n",
    "    # load tokens from disk \n",
    "    train_data_tokens, val_data_tokens, test_data_tokens = load_tokens_from_disk(folder_name=t_scheme)\n",
    "    \n",
    "    # train and evaluate\n",
    "    results, hyperparams, runtime = run_experiment(\n",
    "        train_data_tokens, val_data_tokens, train_labels, val_labels, max_sentence_length=200, \n",
    "        max_vocab_size=10000, emb_dim=100, optim_algo='Adam', learning_rate=0.001, num_epochs=1, batch_size=32, \n",
    "        token_scheme=t_scheme, experiment_name='Tokenization_00', save_to_log=True, print_results=True) "
   ]
  },
  {
   "cell_type": "code",
   "execution_count": 54,
   "metadata": {},
   "outputs": [
    {
     "name": "stdout",
     "output_type": "stream",
     "text": [
      "Training with and lowercase tokenization scheme...\n",
      "Epoch: 0.00, Train Accuracy: 50.02%, Validation Accuracy: 50.04%\n",
      "Epoch: 0.16, Train Accuracy: 63.98%, Validation Accuracy: 62.34%\n",
      "Epoch: 0.32, Train Accuracy: 68.59%, Validation Accuracy: 66.26%\n",
      "Epoch: 0.48, Train Accuracy: 73.07%, Validation Accuracy: 71.28%\n",
      "Epoch: 0.64, Train Accuracy: 75.28%, Validation Accuracy: 73.36%\n",
      "Epoch: 0.80, Train Accuracy: 77.62%, Validation Accuracy: 75.00%\n",
      "Epoch: 0.96, Train Accuracy: 79.53%, Validation Accuracy: 76.54%\n",
      "Epoch: 1.00, Train Accuracy: 79.84%, Validation Accuracy: 77.06%\n",
      "Epoch: 1.16, Train Accuracy: 81.39%, Validation Accuracy: 78.32%\n",
      "Epoch: 1.32, Train Accuracy: 82.30%, Validation Accuracy: 78.94%\n",
      "Epoch: 1.48, Train Accuracy: 83.62%, Validation Accuracy: 79.84%\n",
      "Epoch: 1.64, Train Accuracy: 84.39%, Validation Accuracy: 80.96%\n",
      "Epoch: 1.80, Train Accuracy: 85.31%, Validation Accuracy: 81.04%\n",
      "Epoch: 1.96, Train Accuracy: 85.89%, Validation Accuracy: 81.96%\n",
      "Epoch: 2.00, Train Accuracy: 86.11%, Validation Accuracy: 82.06%\n",
      "Epoch: 2.16, Train Accuracy: 86.55%, Validation Accuracy: 82.22%\n",
      "Epoch: 2.32, Train Accuracy: 86.83%, Validation Accuracy: 82.90%\n",
      "Epoch: 2.48, Train Accuracy: 87.28%, Validation Accuracy: 83.22%\n",
      "Epoch: 2.64, Train Accuracy: 87.65%, Validation Accuracy: 83.48%\n",
      "Epoch: 2.80, Train Accuracy: 88.23%, Validation Accuracy: 83.52%\n",
      "Epoch: 2.96, Train Accuracy: 88.53%, Validation Accuracy: 83.88%\n",
      "Epoch: 3.00, Train Accuracy: 88.64%, Validation Accuracy: 83.76%\n",
      "Epoch: 3.16, Train Accuracy: 89.03%, Validation Accuracy: 83.74%\n",
      "Epoch: 3.32, Train Accuracy: 89.17%, Validation Accuracy: 83.86%\n",
      "Epoch: 3.48, Train Accuracy: 89.73%, Validation Accuracy: 83.88%\n",
      "Epoch: 3.64, Train Accuracy: 90.03%, Validation Accuracy: 84.00%\n",
      "Epoch: 3.80, Train Accuracy: 90.30%, Validation Accuracy: 84.02%\n",
      "Epoch: 3.96, Train Accuracy: 90.50%, Validation Accuracy: 84.10%\n",
      "Epoch: 4.00, Train Accuracy: 90.56%, Validation Accuracy: 84.26%\n",
      "Epoch: 4.16, Train Accuracy: 90.73%, Validation Accuracy: 84.28%\n",
      "Epoch: 4.32, Train Accuracy: 90.61%, Validation Accuracy: 84.32%\n",
      "Epoch: 4.48, Train Accuracy: 91.13%, Validation Accuracy: 84.40%\n",
      "Epoch: 4.64, Train Accuracy: 91.28%, Validation Accuracy: 84.40%\n",
      "Epoch: 4.80, Train Accuracy: 91.46%, Validation Accuracy: 84.40%\n",
      "Epoch: 4.96, Train Accuracy: 91.69%, Validation Accuracy: 84.70%\n",
      "Epoch: 5.00, Train Accuracy: 91.75%, Validation Accuracy: 84.20%\n",
      "Epoch: 5.16, Train Accuracy: 91.87%, Validation Accuracy: 84.44%\n",
      "Epoch: 5.32, Train Accuracy: 92.10%, Validation Accuracy: 84.32%\n",
      "Epoch: 5.48, Train Accuracy: 92.27%, Validation Accuracy: 84.32%\n",
      "Epoch: 5.64, Train Accuracy: 92.40%, Validation Accuracy: 84.48%\n",
      "Epoch: 5.80, Train Accuracy: 92.42%, Validation Accuracy: 84.52%\n",
      "Epoch: 5.96, Train Accuracy: 92.67%, Validation Accuracy: 84.42%\n",
      "Epoch: 6.00, Train Accuracy: 92.53%, Validation Accuracy: 83.60%\n",
      "Epoch: 6.16, Train Accuracy: 92.83%, Validation Accuracy: 84.60%\n",
      "Epoch: 6.32, Train Accuracy: 93.00%, Validation Accuracy: 84.48%\n",
      "Epoch: 6.48, Train Accuracy: 93.17%, Validation Accuracy: 84.42%\n",
      "Epoch: 6.64, Train Accuracy: 93.36%, Validation Accuracy: 84.28%\n",
      "Epoch: 6.80, Train Accuracy: 93.49%, Validation Accuracy: 84.36%\n",
      "Epoch: 6.96, Train Accuracy: 93.59%, Validation Accuracy: 84.44%\n",
      "Epoch: 7.00, Train Accuracy: 93.43%, Validation Accuracy: 83.64%\n",
      "Epoch: 7.16, Train Accuracy: 93.72%, Validation Accuracy: 83.94%\n",
      "Epoch: 7.32, Train Accuracy: 93.91%, Validation Accuracy: 84.00%\n",
      "Epoch: 7.48, Train Accuracy: 94.04%, Validation Accuracy: 84.12%\n",
      "Epoch: 7.64, Train Accuracy: 93.98%, Validation Accuracy: 83.84%\n",
      "Epoch: 7.80, Train Accuracy: 94.34%, Validation Accuracy: 84.08%\n",
      "Epoch: 7.96, Train Accuracy: 94.33%, Validation Accuracy: 83.42%\n",
      "Epoch: 8.00, Train Accuracy: 94.48%, Validation Accuracy: 83.88%\n",
      "Epoch: 8.16, Train Accuracy: 94.56%, Validation Accuracy: 83.72%\n",
      "Epoch: 8.32, Train Accuracy: 94.69%, Validation Accuracy: 83.62%\n",
      "Epoch: 8.48, Train Accuracy: 94.64%, Validation Accuracy: 83.48%\n",
      "Epoch: 8.64, Train Accuracy: 94.83%, Validation Accuracy: 83.58%\n",
      "Epoch: 8.80, Train Accuracy: 94.97%, Validation Accuracy: 83.60%\n",
      "Epoch: 8.96, Train Accuracy: 95.10%, Validation Accuracy: 83.82%\n",
      "Epoch: 9.00, Train Accuracy: 95.02%, Validation Accuracy: 83.38%\n",
      "Epoch: 9.16, Train Accuracy: 95.19%, Validation Accuracy: 83.68%\n",
      "Epoch: 9.32, Train Accuracy: 95.32%, Validation Accuracy: 83.54%\n",
      "Epoch: 9.48, Train Accuracy: 95.50%, Validation Accuracy: 83.72%\n",
      "Epoch: 9.64, Train Accuracy: 95.51%, Validation Accuracy: 83.62%\n",
      "Epoch: 9.80, Train Accuracy: 95.56%, Validation Accuracy: 83.38%\n",
      "Epoch: 9.96, Train Accuracy: 95.62%, Validation Accuracy: 83.36%\n",
      "Epoch: 10.00, Train Accuracy: 95.64%, Validation Accuracy: 83.06%\n",
      "Training with and lowercase_no_punc tokenization scheme...\n",
      "Epoch: 0.00, Train Accuracy: 48.35%, Validation Accuracy: 49.24%\n",
      "Epoch: 0.16, Train Accuracy: 63.74%, Validation Accuracy: 63.56%\n",
      "Epoch: 0.32, Train Accuracy: 68.73%, Validation Accuracy: 68.32%\n",
      "Epoch: 0.48, Train Accuracy: 73.03%, Validation Accuracy: 71.18%\n",
      "Epoch: 0.64, Train Accuracy: 75.98%, Validation Accuracy: 73.52%\n",
      "Epoch: 0.80, Train Accuracy: 78.36%, Validation Accuracy: 75.46%\n",
      "Epoch: 0.96, Train Accuracy: 80.17%, Validation Accuracy: 77.52%\n",
      "Epoch: 1.00, Train Accuracy: 81.04%, Validation Accuracy: 78.06%\n",
      "Epoch: 1.16, Train Accuracy: 82.52%, Validation Accuracy: 79.24%\n",
      "Epoch: 1.32, Train Accuracy: 83.84%, Validation Accuracy: 80.42%\n",
      "Epoch: 1.48, Train Accuracy: 84.64%, Validation Accuracy: 80.76%\n",
      "Epoch: 1.64, Train Accuracy: 85.25%, Validation Accuracy: 81.82%\n",
      "Epoch: 1.80, Train Accuracy: 85.83%, Validation Accuracy: 81.74%\n",
      "Epoch: 1.96, Train Accuracy: 86.64%, Validation Accuracy: 82.58%\n",
      "Epoch: 2.00, Train Accuracy: 86.75%, Validation Accuracy: 82.82%\n",
      "Epoch: 2.16, Train Accuracy: 87.03%, Validation Accuracy: 82.58%\n",
      "Epoch: 2.32, Train Accuracy: 87.78%, Validation Accuracy: 83.04%\n",
      "Epoch: 2.48, Train Accuracy: 88.25%, Validation Accuracy: 83.36%\n",
      "Epoch: 2.64, Train Accuracy: 88.62%, Validation Accuracy: 83.48%\n",
      "Epoch: 2.80, Train Accuracy: 89.08%, Validation Accuracy: 83.74%\n",
      "Epoch: 2.96, Train Accuracy: 88.86%, Validation Accuracy: 83.72%\n",
      "Epoch: 3.00, Train Accuracy: 89.22%, Validation Accuracy: 83.18%\n",
      "Epoch: 3.16, Train Accuracy: 89.72%, Validation Accuracy: 84.20%\n",
      "Epoch: 3.32, Train Accuracy: 89.87%, Validation Accuracy: 83.52%\n",
      "Epoch: 3.48, Train Accuracy: 90.34%, Validation Accuracy: 84.58%\n",
      "Epoch: 3.64, Train Accuracy: 90.61%, Validation Accuracy: 84.54%\n",
      "Epoch: 3.80, Train Accuracy: 90.83%, Validation Accuracy: 84.60%\n",
      "Epoch: 3.96, Train Accuracy: 91.05%, Validation Accuracy: 84.62%\n",
      "Epoch: 4.00, Train Accuracy: 90.68%, Validation Accuracy: 84.56%\n",
      "Epoch: 4.16, Train Accuracy: 90.94%, Validation Accuracy: 84.44%\n",
      "Epoch: 4.32, Train Accuracy: 91.58%, Validation Accuracy: 84.56%\n",
      "Epoch: 4.48, Train Accuracy: 91.64%, Validation Accuracy: 85.14%\n",
      "Epoch: 4.64, Train Accuracy: 91.81%, Validation Accuracy: 84.88%\n",
      "Epoch: 4.80, Train Accuracy: 91.98%, Validation Accuracy: 85.04%\n",
      "Epoch: 4.96, Train Accuracy: 92.30%, Validation Accuracy: 85.06%\n",
      "Epoch: 5.00, Train Accuracy: 92.26%, Validation Accuracy: 84.88%\n",
      "Epoch: 5.16, Train Accuracy: 92.57%, Validation Accuracy: 84.74%\n",
      "Epoch: 5.32, Train Accuracy: 92.77%, Validation Accuracy: 84.84%\n",
      "Epoch: 5.48, Train Accuracy: 92.83%, Validation Accuracy: 85.00%\n",
      "Epoch: 5.64, Train Accuracy: 93.00%, Validation Accuracy: 85.00%\n",
      "Epoch: 5.80, Train Accuracy: 93.28%, Validation Accuracy: 84.86%\n",
      "Epoch: 5.96, Train Accuracy: 93.39%, Validation Accuracy: 84.88%\n",
      "Epoch: 6.00, Train Accuracy: 93.44%, Validation Accuracy: 85.02%\n",
      "Epoch: 6.16, Train Accuracy: 93.47%, Validation Accuracy: 84.70%\n",
      "Epoch: 6.32, Train Accuracy: 93.64%, Validation Accuracy: 85.08%\n",
      "Epoch: 6.48, Train Accuracy: 93.58%, Validation Accuracy: 84.84%\n",
      "Epoch: 6.64, Train Accuracy: 93.97%, Validation Accuracy: 84.80%\n",
      "Epoch: 6.80, Train Accuracy: 94.03%, Validation Accuracy: 84.74%\n",
      "Epoch: 6.96, Train Accuracy: 94.25%, Validation Accuracy: 84.82%\n",
      "Epoch: 7.00, Train Accuracy: 94.28%, Validation Accuracy: 85.02%\n",
      "Epoch: 7.16, Train Accuracy: 94.33%, Validation Accuracy: 85.06%\n",
      "Epoch: 7.32, Train Accuracy: 94.39%, Validation Accuracy: 84.84%\n",
      "Epoch: 7.48, Train Accuracy: 94.61%, Validation Accuracy: 84.92%\n",
      "Epoch: 7.64, Train Accuracy: 94.50%, Validation Accuracy: 84.88%\n"
     ]
    },
    {
     "name": "stdout",
     "output_type": "stream",
     "text": [
      "Epoch: 7.80, Train Accuracy: 94.42%, Validation Accuracy: 84.46%\n",
      "Epoch: 7.96, Train Accuracy: 94.68%, Validation Accuracy: 83.92%\n",
      "Epoch: 8.00, Train Accuracy: 94.88%, Validation Accuracy: 84.16%\n",
      "Epoch: 8.16, Train Accuracy: 94.94%, Validation Accuracy: 84.62%\n",
      "Epoch: 8.32, Train Accuracy: 95.08%, Validation Accuracy: 84.46%\n",
      "Epoch: 8.48, Train Accuracy: 95.08%, Validation Accuracy: 84.08%\n",
      "Epoch: 8.64, Train Accuracy: 95.34%, Validation Accuracy: 84.52%\n",
      "Epoch: 8.80, Train Accuracy: 95.42%, Validation Accuracy: 84.48%\n",
      "Epoch: 8.96, Train Accuracy: 95.56%, Validation Accuracy: 84.42%\n",
      "Epoch: 9.00, Train Accuracy: 95.61%, Validation Accuracy: 84.56%\n",
      "Epoch: 9.16, Train Accuracy: 95.69%, Validation Accuracy: 84.36%\n",
      "Epoch: 9.32, Train Accuracy: 95.78%, Validation Accuracy: 84.24%\n",
      "Epoch: 9.48, Train Accuracy: 95.84%, Validation Accuracy: 84.22%\n",
      "Epoch: 9.64, Train Accuracy: 95.98%, Validation Accuracy: 83.78%\n",
      "Epoch: 9.80, Train Accuracy: 96.08%, Validation Accuracy: 83.88%\n",
      "Epoch: 9.96, Train Accuracy: 96.17%, Validation Accuracy: 83.96%\n",
      "Epoch: 10.00, Train Accuracy: 96.09%, Validation Accuracy: 83.92%\n",
      "Training with and lowercase_no_punc_stopwords_spacy tokenization scheme...\n",
      "Epoch: 0.00, Train Accuracy: 48.38%, Validation Accuracy: 49.38%\n",
      "Epoch: 0.16, Train Accuracy: 65.97%, Validation Accuracy: 65.84%\n",
      "Epoch: 0.32, Train Accuracy: 73.31%, Validation Accuracy: 71.62%\n",
      "Epoch: 0.48, Train Accuracy: 78.31%, Validation Accuracy: 76.04%\n",
      "Epoch: 0.64, Train Accuracy: 81.61%, Validation Accuracy: 78.72%\n",
      "Epoch: 0.80, Train Accuracy: 83.20%, Validation Accuracy: 80.48%\n",
      "Epoch: 0.96, Train Accuracy: 85.45%, Validation Accuracy: 81.54%\n",
      "Epoch: 1.00, Train Accuracy: 85.69%, Validation Accuracy: 81.64%\n",
      "Epoch: 1.16, Train Accuracy: 86.81%, Validation Accuracy: 82.84%\n",
      "Epoch: 1.32, Train Accuracy: 87.53%, Validation Accuracy: 82.92%\n",
      "Epoch: 1.48, Train Accuracy: 88.21%, Validation Accuracy: 83.62%\n",
      "Epoch: 1.64, Train Accuracy: 88.89%, Validation Accuracy: 84.32%\n",
      "Epoch: 1.80, Train Accuracy: 89.48%, Validation Accuracy: 84.56%\n",
      "Epoch: 1.96, Train Accuracy: 89.88%, Validation Accuracy: 84.94%\n",
      "Epoch: 2.00, Train Accuracy: 89.91%, Validation Accuracy: 84.78%\n",
      "Epoch: 2.16, Train Accuracy: 90.31%, Validation Accuracy: 85.24%\n",
      "Epoch: 2.32, Train Accuracy: 90.67%, Validation Accuracy: 85.28%\n",
      "Epoch: 2.48, Train Accuracy: 90.99%, Validation Accuracy: 85.56%\n",
      "Epoch: 2.64, Train Accuracy: 91.41%, Validation Accuracy: 85.50%\n",
      "Epoch: 2.80, Train Accuracy: 91.78%, Validation Accuracy: 85.92%\n",
      "Epoch: 2.96, Train Accuracy: 92.03%, Validation Accuracy: 86.26%\n",
      "Epoch: 3.00, Train Accuracy: 92.09%, Validation Accuracy: 86.42%\n",
      "Epoch: 3.16, Train Accuracy: 92.36%, Validation Accuracy: 86.26%\n",
      "Epoch: 3.32, Train Accuracy: 92.73%, Validation Accuracy: 86.48%\n",
      "Epoch: 3.48, Train Accuracy: 92.97%, Validation Accuracy: 86.38%\n",
      "Epoch: 3.64, Train Accuracy: 92.83%, Validation Accuracy: 85.64%\n",
      "Epoch: 3.80, Train Accuracy: 93.32%, Validation Accuracy: 86.02%\n",
      "Epoch: 3.96, Train Accuracy: 93.58%, Validation Accuracy: 85.80%\n",
      "Epoch: 4.00, Train Accuracy: 93.64%, Validation Accuracy: 85.98%\n",
      "Epoch: 4.16, Train Accuracy: 93.86%, Validation Accuracy: 86.18%\n",
      "Epoch: 4.32, Train Accuracy: 93.93%, Validation Accuracy: 85.96%\n",
      "Epoch: 4.48, Train Accuracy: 94.19%, Validation Accuracy: 86.12%\n",
      "Epoch: 4.64, Train Accuracy: 94.42%, Validation Accuracy: 86.24%\n",
      "Epoch: 4.80, Train Accuracy: 94.54%, Validation Accuracy: 86.00%\n",
      "Epoch: 4.96, Train Accuracy: 94.75%, Validation Accuracy: 85.48%\n",
      "Epoch: 5.00, Train Accuracy: 94.81%, Validation Accuracy: 85.76%\n",
      "Epoch: 5.16, Train Accuracy: 95.03%, Validation Accuracy: 85.88%\n",
      "Epoch: 5.32, Train Accuracy: 95.16%, Validation Accuracy: 85.84%\n",
      "Epoch: 5.48, Train Accuracy: 95.23%, Validation Accuracy: 85.74%\n",
      "Epoch: 5.64, Train Accuracy: 95.47%, Validation Accuracy: 85.42%\n",
      "Epoch: 5.80, Train Accuracy: 95.60%, Validation Accuracy: 85.68%\n",
      "Epoch: 5.96, Train Accuracy: 95.61%, Validation Accuracy: 85.00%\n",
      "Epoch: 6.00, Train Accuracy: 95.81%, Validation Accuracy: 85.30%\n",
      "Epoch: 6.16, Train Accuracy: 95.81%, Validation Accuracy: 85.88%\n",
      "Epoch: 6.32, Train Accuracy: 96.00%, Validation Accuracy: 85.46%\n",
      "Epoch: 6.48, Train Accuracy: 95.95%, Validation Accuracy: 85.72%\n",
      "Epoch: 6.64, Train Accuracy: 96.31%, Validation Accuracy: 85.18%\n",
      "Epoch: 6.80, Train Accuracy: 96.46%, Validation Accuracy: 84.82%\n",
      "Epoch: 6.96, Train Accuracy: 96.45%, Validation Accuracy: 84.98%\n",
      "Epoch: 7.00, Train Accuracy: 96.52%, Validation Accuracy: 85.46%\n",
      "Epoch: 7.16, Train Accuracy: 96.56%, Validation Accuracy: 85.38%\n",
      "Epoch: 7.32, Train Accuracy: 96.66%, Validation Accuracy: 85.32%\n",
      "Epoch: 7.48, Train Accuracy: 96.89%, Validation Accuracy: 84.98%\n",
      "Epoch: 7.64, Train Accuracy: 96.92%, Validation Accuracy: 84.94%\n",
      "Epoch: 7.80, Train Accuracy: 97.08%, Validation Accuracy: 84.84%\n",
      "Epoch: 7.96, Train Accuracy: 97.19%, Validation Accuracy: 84.76%\n",
      "Epoch: 8.00, Train Accuracy: 97.22%, Validation Accuracy: 84.76%\n",
      "Epoch: 8.16, Train Accuracy: 97.28%, Validation Accuracy: 84.92%\n",
      "Epoch: 8.32, Train Accuracy: 97.33%, Validation Accuracy: 84.78%\n",
      "Epoch: 8.48, Train Accuracy: 97.36%, Validation Accuracy: 84.64%\n",
      "Epoch: 8.64, Train Accuracy: 97.48%, Validation Accuracy: 84.40%\n",
      "Epoch: 8.80, Train Accuracy: 97.67%, Validation Accuracy: 84.58%\n",
      "Epoch: 8.96, Train Accuracy: 97.78%, Validation Accuracy: 84.50%\n",
      "Epoch: 9.00, Train Accuracy: 97.81%, Validation Accuracy: 84.58%\n",
      "Epoch: 9.16, Train Accuracy: 97.83%, Validation Accuracy: 84.46%\n",
      "Epoch: 9.32, Train Accuracy: 97.94%, Validation Accuracy: 84.40%\n",
      "Epoch: 9.48, Train Accuracy: 97.86%, Validation Accuracy: 84.20%\n",
      "Epoch: 9.64, Train Accuracy: 98.04%, Validation Accuracy: 84.34%\n",
      "Epoch: 9.80, Train Accuracy: 98.10%, Validation Accuracy: 84.20%\n",
      "Epoch: 9.96, Train Accuracy: 98.23%, Validation Accuracy: 84.16%\n",
      "Epoch: 10.00, Train Accuracy: 98.28%, Validation Accuracy: 84.08%\n",
      "Training with and lowercase_no_punc_stopwords_nltk tokenization scheme...\n",
      "Epoch: 0.00, Train Accuracy: 49.24%, Validation Accuracy: 50.14%\n",
      "Epoch: 0.16, Train Accuracy: 61.43%, Validation Accuracy: 59.34%\n",
      "Epoch: 0.32, Train Accuracy: 70.97%, Validation Accuracy: 69.10%\n",
      "Epoch: 0.48, Train Accuracy: 76.38%, Validation Accuracy: 73.60%\n",
      "Epoch: 0.64, Train Accuracy: 77.92%, Validation Accuracy: 75.40%\n",
      "Epoch: 0.80, Train Accuracy: 83.05%, Validation Accuracy: 79.70%\n",
      "Epoch: 0.96, Train Accuracy: 85.06%, Validation Accuracy: 81.82%\n",
      "Epoch: 1.00, Train Accuracy: 85.28%, Validation Accuracy: 82.48%\n",
      "Epoch: 1.16, Train Accuracy: 86.42%, Validation Accuracy: 83.54%\n",
      "Epoch: 1.32, Train Accuracy: 87.50%, Validation Accuracy: 84.32%\n",
      "Epoch: 1.48, Train Accuracy: 88.02%, Validation Accuracy: 83.74%\n",
      "Epoch: 1.64, Train Accuracy: 88.87%, Validation Accuracy: 84.92%\n",
      "Epoch: 1.80, Train Accuracy: 89.52%, Validation Accuracy: 85.04%\n",
      "Epoch: 1.96, Train Accuracy: 89.78%, Validation Accuracy: 85.46%\n",
      "Epoch: 2.00, Train Accuracy: 89.81%, Validation Accuracy: 85.60%\n",
      "Epoch: 2.16, Train Accuracy: 90.22%, Validation Accuracy: 85.76%\n",
      "Epoch: 2.32, Train Accuracy: 90.62%, Validation Accuracy: 85.74%\n",
      "Epoch: 2.48, Train Accuracy: 90.97%, Validation Accuracy: 85.96%\n",
      "Epoch: 2.64, Train Accuracy: 91.14%, Validation Accuracy: 85.56%\n",
      "Epoch: 2.80, Train Accuracy: 91.59%, Validation Accuracy: 86.20%\n",
      "Epoch: 2.96, Train Accuracy: 91.82%, Validation Accuracy: 85.94%\n",
      "Epoch: 3.00, Train Accuracy: 91.94%, Validation Accuracy: 86.36%\n",
      "Epoch: 3.16, Train Accuracy: 92.27%, Validation Accuracy: 86.44%\n",
      "Epoch: 3.32, Train Accuracy: 92.53%, Validation Accuracy: 86.16%\n",
      "Epoch: 3.48, Train Accuracy: 92.57%, Validation Accuracy: 85.64%\n",
      "Epoch: 3.64, Train Accuracy: 93.02%, Validation Accuracy: 86.42%\n",
      "Epoch: 3.80, Train Accuracy: 93.11%, Validation Accuracy: 86.32%\n",
      "Epoch: 3.96, Train Accuracy: 93.31%, Validation Accuracy: 85.94%\n",
      "Epoch: 4.00, Train Accuracy: 93.39%, Validation Accuracy: 86.68%\n",
      "Epoch: 4.16, Train Accuracy: 93.33%, Validation Accuracy: 86.64%\n",
      "Epoch: 4.32, Train Accuracy: 93.69%, Validation Accuracy: 86.08%\n",
      "Epoch: 4.48, Train Accuracy: 93.89%, Validation Accuracy: 86.30%\n",
      "Epoch: 4.64, Train Accuracy: 94.08%, Validation Accuracy: 86.16%\n",
      "Epoch: 4.80, Train Accuracy: 94.30%, Validation Accuracy: 86.42%\n",
      "Epoch: 4.96, Train Accuracy: 94.47%, Validation Accuracy: 86.42%\n",
      "Epoch: 5.00, Train Accuracy: 94.56%, Validation Accuracy: 86.32%\n"
     ]
    },
    {
     "name": "stdout",
     "output_type": "stream",
     "text": [
      "Epoch: 5.16, Train Accuracy: 94.82%, Validation Accuracy: 86.04%\n",
      "Epoch: 5.32, Train Accuracy: 94.88%, Validation Accuracy: 86.16%\n",
      "Epoch: 5.48, Train Accuracy: 95.14%, Validation Accuracy: 86.20%\n",
      "Epoch: 5.64, Train Accuracy: 95.23%, Validation Accuracy: 86.24%\n",
      "Epoch: 5.80, Train Accuracy: 95.34%, Validation Accuracy: 86.18%\n",
      "Epoch: 5.96, Train Accuracy: 95.50%, Validation Accuracy: 85.86%\n",
      "Epoch: 6.00, Train Accuracy: 95.45%, Validation Accuracy: 86.20%\n",
      "Epoch: 6.16, Train Accuracy: 95.61%, Validation Accuracy: 86.30%\n",
      "Epoch: 6.32, Train Accuracy: 95.69%, Validation Accuracy: 86.06%\n",
      "Epoch: 6.48, Train Accuracy: 95.77%, Validation Accuracy: 85.72%\n",
      "Epoch: 6.64, Train Accuracy: 95.98%, Validation Accuracy: 85.82%\n",
      "Epoch: 6.80, Train Accuracy: 96.00%, Validation Accuracy: 85.40%\n",
      "Epoch: 6.96, Train Accuracy: 96.27%, Validation Accuracy: 85.86%\n",
      "Epoch: 7.00, Train Accuracy: 96.25%, Validation Accuracy: 85.02%\n",
      "Epoch: 7.16, Train Accuracy: 96.44%, Validation Accuracy: 85.44%\n",
      "Epoch: 7.32, Train Accuracy: 96.45%, Validation Accuracy: 85.78%\n",
      "Epoch: 7.48, Train Accuracy: 96.59%, Validation Accuracy: 85.20%\n",
      "Epoch: 7.64, Train Accuracy: 96.63%, Validation Accuracy: 85.30%\n",
      "Epoch: 7.80, Train Accuracy: 96.79%, Validation Accuracy: 85.90%\n",
      "Epoch: 7.96, Train Accuracy: 97.03%, Validation Accuracy: 85.32%\n",
      "Epoch: 8.00, Train Accuracy: 97.06%, Validation Accuracy: 85.08%\n",
      "Epoch: 8.16, Train Accuracy: 97.00%, Validation Accuracy: 85.04%\n",
      "Epoch: 8.32, Train Accuracy: 97.11%, Validation Accuracy: 85.42%\n",
      "Epoch: 8.48, Train Accuracy: 97.27%, Validation Accuracy: 85.12%\n",
      "Epoch: 8.64, Train Accuracy: 97.38%, Validation Accuracy: 85.02%\n",
      "Epoch: 8.80, Train Accuracy: 97.37%, Validation Accuracy: 84.90%\n",
      "Epoch: 8.96, Train Accuracy: 97.52%, Validation Accuracy: 85.24%\n",
      "Epoch: 9.00, Train Accuracy: 97.58%, Validation Accuracy: 85.14%\n",
      "Epoch: 9.16, Train Accuracy: 97.58%, Validation Accuracy: 84.90%\n",
      "Epoch: 9.32, Train Accuracy: 97.63%, Validation Accuracy: 84.96%\n",
      "Epoch: 9.48, Train Accuracy: 97.62%, Validation Accuracy: 84.68%\n",
      "Epoch: 9.64, Train Accuracy: 97.81%, Validation Accuracy: 84.84%\n",
      "Epoch: 9.80, Train Accuracy: 97.85%, Validation Accuracy: 84.32%\n",
      "Epoch: 9.96, Train Accuracy: 98.00%, Validation Accuracy: 85.08%\n",
      "Epoch: 10.00, Train Accuracy: 98.03%, Validation Accuracy: 85.08%\n",
      "Training with and lowercase_no_punc_stopwords_spacy_lemmatize tokenization scheme...\n",
      "Epoch: 0.00, Train Accuracy: 50.10%, Validation Accuracy: 50.00%\n",
      "Epoch: 0.16, Train Accuracy: 63.83%, Validation Accuracy: 64.24%\n",
      "Epoch: 0.32, Train Accuracy: 72.50%, Validation Accuracy: 71.26%\n",
      "Epoch: 0.48, Train Accuracy: 76.45%, Validation Accuracy: 75.22%\n",
      "Epoch: 0.64, Train Accuracy: 80.48%, Validation Accuracy: 78.30%\n",
      "Epoch: 0.80, Train Accuracy: 82.98%, Validation Accuracy: 80.46%\n",
      "Epoch: 0.96, Train Accuracy: 84.72%, Validation Accuracy: 81.66%\n",
      "Epoch: 1.00, Train Accuracy: 84.83%, Validation Accuracy: 82.36%\n",
      "Epoch: 1.16, Train Accuracy: 85.97%, Validation Accuracy: 83.22%\n",
      "Epoch: 1.32, Train Accuracy: 86.91%, Validation Accuracy: 83.32%\n",
      "Epoch: 1.48, Train Accuracy: 87.83%, Validation Accuracy: 83.62%\n",
      "Epoch: 1.64, Train Accuracy: 88.45%, Validation Accuracy: 84.04%\n",
      "Epoch: 1.80, Train Accuracy: 89.00%, Validation Accuracy: 84.50%\n",
      "Epoch: 1.96, Train Accuracy: 89.36%, Validation Accuracy: 84.24%\n",
      "Epoch: 2.00, Train Accuracy: 89.67%, Validation Accuracy: 84.94%\n",
      "Epoch: 2.16, Train Accuracy: 90.03%, Validation Accuracy: 84.68%\n",
      "Epoch: 2.32, Train Accuracy: 90.39%, Validation Accuracy: 84.82%\n",
      "Epoch: 2.48, Train Accuracy: 90.73%, Validation Accuracy: 84.88%\n",
      "Epoch: 2.64, Train Accuracy: 91.09%, Validation Accuracy: 85.12%\n",
      "Epoch: 2.80, Train Accuracy: 91.45%, Validation Accuracy: 85.02%\n",
      "Epoch: 2.96, Train Accuracy: 91.69%, Validation Accuracy: 85.14%\n",
      "Epoch: 3.00, Train Accuracy: 91.75%, Validation Accuracy: 85.04%\n",
      "Epoch: 3.16, Train Accuracy: 92.01%, Validation Accuracy: 85.14%\n",
      "Epoch: 3.32, Train Accuracy: 92.28%, Validation Accuracy: 85.22%\n",
      "Epoch: 3.48, Train Accuracy: 92.55%, Validation Accuracy: 85.08%\n",
      "Epoch: 3.64, Train Accuracy: 92.69%, Validation Accuracy: 85.20%\n",
      "Epoch: 3.80, Train Accuracy: 92.99%, Validation Accuracy: 85.06%\n",
      "Epoch: 3.96, Train Accuracy: 93.27%, Validation Accuracy: 84.96%\n",
      "Epoch: 4.00, Train Accuracy: 93.31%, Validation Accuracy: 84.96%\n",
      "Epoch: 4.16, Train Accuracy: 93.48%, Validation Accuracy: 84.78%\n",
      "Epoch: 4.32, Train Accuracy: 93.61%, Validation Accuracy: 84.52%\n",
      "Epoch: 4.48, Train Accuracy: 93.86%, Validation Accuracy: 84.58%\n",
      "Epoch: 4.64, Train Accuracy: 93.89%, Validation Accuracy: 84.48%\n",
      "Epoch: 4.80, Train Accuracy: 94.03%, Validation Accuracy: 84.36%\n",
      "Epoch: 4.96, Train Accuracy: 94.39%, Validation Accuracy: 85.00%\n",
      "Epoch: 5.00, Train Accuracy: 94.32%, Validation Accuracy: 85.00%\n",
      "Epoch: 5.16, Train Accuracy: 94.54%, Validation Accuracy: 84.66%\n",
      "Epoch: 5.32, Train Accuracy: 94.67%, Validation Accuracy: 84.66%\n",
      "Epoch: 5.48, Train Accuracy: 94.77%, Validation Accuracy: 84.68%\n",
      "Epoch: 5.64, Train Accuracy: 94.89%, Validation Accuracy: 84.70%\n",
      "Epoch: 5.80, Train Accuracy: 95.05%, Validation Accuracy: 84.90%\n",
      "Epoch: 5.96, Train Accuracy: 95.23%, Validation Accuracy: 84.22%\n",
      "Epoch: 6.00, Train Accuracy: 95.24%, Validation Accuracy: 84.12%\n",
      "Epoch: 6.16, Train Accuracy: 95.39%, Validation Accuracy: 84.52%\n",
      "Epoch: 6.32, Train Accuracy: 95.52%, Validation Accuracy: 84.00%\n",
      "Epoch: 6.48, Train Accuracy: 95.69%, Validation Accuracy: 84.34%\n",
      "Epoch: 6.64, Train Accuracy: 95.75%, Validation Accuracy: 84.68%\n",
      "Epoch: 6.80, Train Accuracy: 95.86%, Validation Accuracy: 84.26%\n",
      "Epoch: 6.96, Train Accuracy: 96.02%, Validation Accuracy: 84.74%\n",
      "Epoch: 7.00, Train Accuracy: 96.08%, Validation Accuracy: 84.10%\n",
      "Epoch: 7.16, Train Accuracy: 96.17%, Validation Accuracy: 84.06%\n",
      "Epoch: 7.32, Train Accuracy: 96.33%, Validation Accuracy: 83.66%\n",
      "Epoch: 7.48, Train Accuracy: 96.31%, Validation Accuracy: 84.16%\n",
      "Epoch: 7.64, Train Accuracy: 96.53%, Validation Accuracy: 83.90%\n",
      "Epoch: 7.80, Train Accuracy: 96.64%, Validation Accuracy: 84.08%\n",
      "Epoch: 7.96, Train Accuracy: 96.76%, Validation Accuracy: 84.24%\n",
      "Epoch: 8.00, Train Accuracy: 96.71%, Validation Accuracy: 83.74%\n",
      "Epoch: 8.16, Train Accuracy: 96.82%, Validation Accuracy: 83.80%\n",
      "Epoch: 8.32, Train Accuracy: 96.95%, Validation Accuracy: 83.92%\n",
      "Epoch: 8.48, Train Accuracy: 96.95%, Validation Accuracy: 83.42%\n",
      "Epoch: 8.64, Train Accuracy: 97.12%, Validation Accuracy: 83.48%\n",
      "Epoch: 8.80, Train Accuracy: 97.04%, Validation Accuracy: 82.68%\n",
      "Epoch: 8.96, Train Accuracy: 97.34%, Validation Accuracy: 83.44%\n",
      "Epoch: 9.00, Train Accuracy: 97.44%, Validation Accuracy: 83.42%\n",
      "Epoch: 9.16, Train Accuracy: 97.48%, Validation Accuracy: 83.38%\n",
      "Epoch: 9.32, Train Accuracy: 97.52%, Validation Accuracy: 83.26%\n",
      "Epoch: 9.48, Train Accuracy: 97.45%, Validation Accuracy: 83.82%\n",
      "Epoch: 9.64, Train Accuracy: 97.60%, Validation Accuracy: 82.88%\n",
      "Epoch: 9.80, Train Accuracy: 97.67%, Validation Accuracy: 83.20%\n",
      "Epoch: 9.96, Train Accuracy: 97.89%, Validation Accuracy: 82.92%\n",
      "Epoch: 10.00, Train Accuracy: 97.90%, Validation Accuracy: 82.90%\n",
      "Training with and lowercase_no_punc_stopwords_nltk_lemmatize tokenization scheme...\n",
      "Epoch: 0.00, Train Accuracy: 44.44%, Validation Accuracy: 45.10%\n",
      "Epoch: 0.16, Train Accuracy: 63.66%, Validation Accuracy: 63.68%\n",
      "Epoch: 0.32, Train Accuracy: 70.27%, Validation Accuracy: 68.84%\n",
      "Epoch: 0.48, Train Accuracy: 77.89%, Validation Accuracy: 75.84%\n",
      "Epoch: 0.64, Train Accuracy: 81.34%, Validation Accuracy: 79.36%\n",
      "Epoch: 0.80, Train Accuracy: 83.88%, Validation Accuracy: 81.20%\n",
      "Epoch: 0.96, Train Accuracy: 85.31%, Validation Accuracy: 82.08%\n",
      "Epoch: 1.00, Train Accuracy: 85.58%, Validation Accuracy: 82.18%\n",
      "Epoch: 1.16, Train Accuracy: 86.58%, Validation Accuracy: 83.06%\n",
      "Epoch: 1.32, Train Accuracy: 87.25%, Validation Accuracy: 83.18%\n",
      "Epoch: 1.48, Train Accuracy: 87.76%, Validation Accuracy: 84.36%\n",
      "Epoch: 1.64, Train Accuracy: 88.52%, Validation Accuracy: 84.38%\n",
      "Epoch: 1.80, Train Accuracy: 89.06%, Validation Accuracy: 84.80%\n",
      "Epoch: 1.96, Train Accuracy: 89.55%, Validation Accuracy: 85.16%\n",
      "Epoch: 2.00, Train Accuracy: 89.56%, Validation Accuracy: 85.08%\n",
      "Epoch: 2.16, Train Accuracy: 89.94%, Validation Accuracy: 85.56%\n",
      "Epoch: 2.32, Train Accuracy: 90.44%, Validation Accuracy: 85.28%\n",
      "Epoch: 2.48, Train Accuracy: 90.85%, Validation Accuracy: 85.34%\n"
     ]
    },
    {
     "name": "stdout",
     "output_type": "stream",
     "text": [
      "Epoch: 2.64, Train Accuracy: 91.13%, Validation Accuracy: 85.66%\n",
      "Epoch: 2.80, Train Accuracy: 91.48%, Validation Accuracy: 85.76%\n",
      "Epoch: 2.96, Train Accuracy: 91.83%, Validation Accuracy: 85.54%\n",
      "Epoch: 3.00, Train Accuracy: 91.88%, Validation Accuracy: 85.28%\n",
      "Epoch: 3.16, Train Accuracy: 92.08%, Validation Accuracy: 85.32%\n",
      "Epoch: 3.32, Train Accuracy: 92.12%, Validation Accuracy: 85.94%\n",
      "Epoch: 3.48, Train Accuracy: 92.58%, Validation Accuracy: 85.24%\n",
      "Epoch: 3.64, Train Accuracy: 92.72%, Validation Accuracy: 85.56%\n",
      "Epoch: 3.80, Train Accuracy: 93.06%, Validation Accuracy: 85.34%\n",
      "Epoch: 3.96, Train Accuracy: 93.05%, Validation Accuracy: 85.78%\n",
      "Epoch: 4.00, Train Accuracy: 93.31%, Validation Accuracy: 85.42%\n",
      "Epoch: 4.16, Train Accuracy: 93.47%, Validation Accuracy: 85.32%\n",
      "Epoch: 4.32, Train Accuracy: 93.61%, Validation Accuracy: 85.22%\n",
      "Epoch: 4.48, Train Accuracy: 93.72%, Validation Accuracy: 85.10%\n",
      "Epoch: 4.64, Train Accuracy: 94.03%, Validation Accuracy: 84.96%\n",
      "Epoch: 4.80, Train Accuracy: 94.23%, Validation Accuracy: 84.94%\n",
      "Epoch: 4.96, Train Accuracy: 94.17%, Validation Accuracy: 85.44%\n",
      "Epoch: 5.00, Train Accuracy: 94.47%, Validation Accuracy: 84.98%\n",
      "Epoch: 5.16, Train Accuracy: 94.53%, Validation Accuracy: 84.86%\n",
      "Epoch: 5.32, Train Accuracy: 94.72%, Validation Accuracy: 84.90%\n",
      "Epoch: 5.48, Train Accuracy: 94.76%, Validation Accuracy: 84.90%\n",
      "Epoch: 5.64, Train Accuracy: 94.96%, Validation Accuracy: 84.70%\n",
      "Epoch: 5.80, Train Accuracy: 95.22%, Validation Accuracy: 84.94%\n",
      "Epoch: 5.96, Train Accuracy: 95.33%, Validation Accuracy: 84.60%\n",
      "Epoch: 6.00, Train Accuracy: 95.34%, Validation Accuracy: 84.54%\n",
      "Epoch: 6.16, Train Accuracy: 95.42%, Validation Accuracy: 84.50%\n",
      "Epoch: 6.32, Train Accuracy: 95.49%, Validation Accuracy: 84.52%\n",
      "Epoch: 6.48, Train Accuracy: 95.56%, Validation Accuracy: 84.42%\n",
      "Epoch: 6.64, Train Accuracy: 95.78%, Validation Accuracy: 84.20%\n",
      "Epoch: 6.80, Train Accuracy: 95.97%, Validation Accuracy: 84.10%\n",
      "Epoch: 6.96, Train Accuracy: 96.11%, Validation Accuracy: 84.30%\n",
      "Epoch: 7.00, Train Accuracy: 96.08%, Validation Accuracy: 84.20%\n",
      "Epoch: 7.16, Train Accuracy: 96.19%, Validation Accuracy: 84.40%\n",
      "Epoch: 7.32, Train Accuracy: 96.17%, Validation Accuracy: 83.80%\n",
      "Epoch: 7.48, Train Accuracy: 96.40%, Validation Accuracy: 84.24%\n",
      "Epoch: 7.64, Train Accuracy: 96.49%, Validation Accuracy: 84.00%\n",
      "Epoch: 7.80, Train Accuracy: 96.61%, Validation Accuracy: 83.78%\n",
      "Epoch: 7.96, Train Accuracy: 96.70%, Validation Accuracy: 83.46%\n",
      "Epoch: 8.00, Train Accuracy: 96.71%, Validation Accuracy: 83.40%\n",
      "Epoch: 8.16, Train Accuracy: 96.81%, Validation Accuracy: 83.58%\n",
      "Epoch: 8.32, Train Accuracy: 96.88%, Validation Accuracy: 83.18%\n",
      "Epoch: 8.48, Train Accuracy: 96.92%, Validation Accuracy: 83.24%\n",
      "Epoch: 8.64, Train Accuracy: 97.00%, Validation Accuracy: 83.02%\n",
      "Epoch: 8.80, Train Accuracy: 97.18%, Validation Accuracy: 83.34%\n",
      "Epoch: 8.96, Train Accuracy: 97.36%, Validation Accuracy: 83.28%\n",
      "Epoch: 9.00, Train Accuracy: 97.36%, Validation Accuracy: 83.34%\n",
      "Epoch: 9.16, Train Accuracy: 97.33%, Validation Accuracy: 83.42%\n",
      "Epoch: 9.32, Train Accuracy: 97.25%, Validation Accuracy: 82.86%\n",
      "Epoch: 9.48, Train Accuracy: 97.43%, Validation Accuracy: 82.86%\n",
      "Epoch: 9.64, Train Accuracy: 97.58%, Validation Accuracy: 83.20%\n",
      "Epoch: 9.80, Train Accuracy: 97.67%, Validation Accuracy: 83.20%\n",
      "Epoch: 9.96, Train Accuracy: 97.72%, Validation Accuracy: 82.80%\n",
      "Epoch: 10.00, Train Accuracy: 97.80%, Validation Accuracy: 82.96%\n"
     ]
    }
   ],
   "source": [
    "# run tokenization experiments \n",
    "\n",
    "tokenization_experiments = {}\n",
    "\n",
    "for t_scheme in tokenization_schemes: \n",
    "    \n",
    "    print (\"Training with and {} tokenization scheme...\".format(t_scheme))\n",
    "    \n",
    "    # load tokens from disk \n",
    "    train_data_tokens, val_data_tokens, test_data_tokens = load_tokens_from_disk(folder_name=t_scheme)\n",
    "    \n",
    "    # train and evaluate     \n",
    "    results, _ = run_experiment(train_data_tokens, val_data_tokens, train_labels, val_labels,\n",
    "                                max_sentence_length=200, max_vocab_size=10000, emb_dim=100, \n",
    "                                optimizer=Adam, learning_rate=0.001, num_epochs=10, batch_size=32, print_results=True) \n",
    "    \n",
    "    # store to dict \n",
    "    tokenization_experiments[t_scheme] = results "
   ]
  },
  {
   "cell_type": "markdown",
   "metadata": {},
   "source": [
    "'lowercase_no_punc_stopwords_nltk' tokenization scheme yields the best performance on our validation set. We shall proceed with this tokenization scheme. "
   ]
  },
  {
   "cell_type": "code",
   "execution_count": 58,
   "metadata": {},
   "outputs": [
    {
     "data": {
      "text/html": [
       "<div>\n",
       "<style scoped>\n",
       "    .dataframe tbody tr th:only-of-type {\n",
       "        vertical-align: middle;\n",
       "    }\n",
       "\n",
       "    .dataframe tbody tr th {\n",
       "        vertical-align: top;\n",
       "    }\n",
       "\n",
       "    .dataframe thead th {\n",
       "        text-align: right;\n",
       "    }\n",
       "</style>\n",
       "<table border=\"1\" class=\"dataframe\">\n",
       "  <thead>\n",
       "    <tr style=\"text-align: right;\">\n",
       "      <th></th>\n",
       "      <th>model</th>\n",
       "      <th>val_acc</th>\n",
       "    </tr>\n",
       "  </thead>\n",
       "  <tbody>\n",
       "    <tr>\n",
       "      <th>3</th>\n",
       "      <td>lowercase_no_punc_stopwords_nltk</td>\n",
       "      <td>86.68</td>\n",
       "    </tr>\n",
       "    <tr>\n",
       "      <th>2</th>\n",
       "      <td>lowercase_no_punc_stopwords_spacy</td>\n",
       "      <td>86.48</td>\n",
       "    </tr>\n",
       "    <tr>\n",
       "      <th>5</th>\n",
       "      <td>lowercase_no_punc_stopwords_nltk_lemmatize</td>\n",
       "      <td>85.94</td>\n",
       "    </tr>\n",
       "    <tr>\n",
       "      <th>4</th>\n",
       "      <td>lowercase_no_punc_stopwords_spacy_lemmatize</td>\n",
       "      <td>85.22</td>\n",
       "    </tr>\n",
       "    <tr>\n",
       "      <th>1</th>\n",
       "      <td>lowercase_no_punc</td>\n",
       "      <td>85.14</td>\n",
       "    </tr>\n",
       "    <tr>\n",
       "      <th>0</th>\n",
       "      <td>lowercase</td>\n",
       "      <td>84.70</td>\n",
       "    </tr>\n",
       "  </tbody>\n",
       "</table>\n",
       "</div>"
      ],
      "text/plain": [
       "                                         model  val_acc\n",
       "3             lowercase_no_punc_stopwords_nltk    86.68\n",
       "2            lowercase_no_punc_stopwords_spacy    86.48\n",
       "5   lowercase_no_punc_stopwords_nltk_lemmatize    85.94\n",
       "4  lowercase_no_punc_stopwords_spacy_lemmatize    85.22\n",
       "1                            lowercase_no_punc    85.14\n",
       "0                                    lowercase    84.70"
      ]
     },
     "execution_count": 58,
     "metadata": {},
     "output_type": "execute_result"
    }
   ],
   "source": [
    "print_val_accuracy(tokenization_experiments)"
   ]
  },
  {
   "cell_type": "code",
   "execution_count": 59,
   "metadata": {},
   "outputs": [
    {
     "data": {
      "image/png": "[encoded data removed]",
      "text/plain": [
       "<Figure size 576x360 with 1 Axes>"
      ]
     },
     "metadata": {
      "needs_background": "light"
     },
     "output_type": "display_data"
    }
   ],
   "source": [
    "print_learning_curve(tokenization_experiments)"
   ]
  },
  {
   "cell_type": "markdown",
   "metadata": {},
   "source": [
    "### Model Hyperparameters"
   ]
  },
  {
   "cell_type": "markdown",
   "metadata": {},
   "source": [
    "In this section we test various combinations of model hyperparameters, namely max_sentence_length, max_ngram, max_vocab_size, emb_dim. "
   ]
  },
  {
   "cell_type": "code",
   "execution_count": 247,
   "metadata": {},
   "outputs": [],
   "source": [
    "# default to using the tokenization scheme that won previously \n",
    "SELECT_TOKENIZATION_SCHEME = 'lowercase_no_punc_stopwords_nltk'"
   ]
  },
  {
   "cell_type": "markdown",
   "metadata": {},
   "source": [
    "#### Max Sentence Length"
   ]
  },
  {
   "cell_type": "code",
   "execution_count": null,
   "metadata": {},
   "outputs": [],
   "source": [
    "# first let's get a sense of the distribution of word length amongst the reviews in train set \n",
    "word_lengths = pd.Series([len(x.split(' ')) for x in train_data])\n",
    "print(word_lengths.describe())\n",
    "word_lengths.hist(bins=100);"
   ]
  },
  {
   "cell_type": "code",
   "execution_count": 230,
   "metadata": {},
   "outputs": [
    {
     "name": "stdout",
     "output_type": "stream",
     "text": [
      "Epoch: 0.00, Train Accuracy: 51.13%, Validation Accuracy: 52.16%\n",
      "Epoch: 0.16, Train Accuracy: 83.27%, Validation Accuracy: 81.82%\n",
      "Epoch: 0.32, Train Accuracy: 87.89%, Validation Accuracy: 85.52%\n",
      "Epoch: 0.48, Train Accuracy: 89.80%, Validation Accuracy: 85.14%\n",
      "Epoch: 0.64, Train Accuracy: 91.82%, Validation Accuracy: 86.52%\n",
      "Epoch: 0.80, Train Accuracy: 93.19%, Validation Accuracy: 87.02%\n",
      "Epoch: 0.96, Train Accuracy: 94.00%, Validation Accuracy: 86.98%\n",
      "Epoch: 1.00, Train Accuracy: 94.19%, Validation Accuracy: 87.02%\n",
      "Epoch: 1.16, Train Accuracy: 94.11%, Validation Accuracy: 85.90%\n",
      "Epoch: 1.32, Train Accuracy: 94.83%, Validation Accuracy: 87.42%\n",
      "Epoch: 1.48, Train Accuracy: 95.22%, Validation Accuracy: 86.94%\n",
      "Epoch: 1.64, Train Accuracy: 95.77%, Validation Accuracy: 86.02%\n",
      "Epoch: 1.80, Train Accuracy: 96.10%, Validation Accuracy: 85.74%\n",
      "Epoch: 1.96, Train Accuracy: 96.71%, Validation Accuracy: 86.64%\n",
      "Epoch: 2.00, Train Accuracy: 96.62%, Validation Accuracy: 86.20%\n"
     ]
    }
   ],
   "source": [
    "results = run_experiment(train_data_tokens, val_data_tokens, train_labels, val_labels, optimizer=Adam, \n",
    "                         max_sentence_length=np.array([len(x) for x in train_data_indices]).max(), \n",
    "                         learning_rate=0.01, emb_dim=100, max_vocab_size=10000, \n",
    "                         num_epochs=2, batch_size=32, print_results=True)"
   ]
  },
  {
   "cell_type": "markdown",
   "metadata": {},
   "source": [
    "#### N-grams"
   ]
  },
  {
   "cell_type": "code",
   "execution_count": 197,
   "metadata": {},
   "outputs": [],
   "source": [
    "def ngramify_datum(datum_tokens, max_ngram): \n",
    "    \"\"\" Generates n-grams up to max_ngram for one given list of tokens representing a datum \"\"\"\n",
    "    result = [] \n",
    "    n = max_ngram \n",
    "    \n",
    "    # decrement n to append ..., 3-grams, 2-grams to result \n",
    "    while n >= 1: \n",
    "        n_grams = [\" \".join(item) for item in list(zip(*[datum_tokens[i:] for i in range(n)]))]\n",
    "        result = result + n_grams \n",
    "        n = n - 1 \n",
    "        \n",
    "    # when n=1 just append original tokens\n",
    "    result = result + datum_tokens  \n",
    "    \n",
    "    return result "
   ]
  },
  {
   "cell_type": "code",
   "execution_count": 198,
   "metadata": {},
   "outputs": [],
   "source": [
    "def load_and_ngramify_dataset(tokenization_scheme, max_ngram): \n",
    "    \"\"\" Loads train/val/test 1-gram tokens from disk for a given tokenization scheme, \n",
    "        returns the ngrammified dataset \"\"\" \n",
    "    \n",
    "    # load unigram tokens from disk \n",
    "    train_data_tokens, val_data_tokens, test_data_tokens = load_tokens_from_disk(folder_name=tokenization_scheme)\n",
    "    \n",
    "    # ngrammify \n",
    "    train_ngrams = [ngramify(datum, max_ngram) for datum in train_data_tokens]  \n",
    "    val_ngrams = [ngramify(datum, max_ngram) for datum in val_data_tokens] \n",
    "    test_ngrams = [ngramify(datum, max_ngram) for datum in test_data_tokens]  \n",
    "    \n",
    "    return train_ngrams, val_ngrams, test_ngrams"
   ]
  },
  {
   "cell_type": "code",
   "execution_count": 199,
   "metadata": {},
   "outputs": [],
   "source": [
    "# model hyperparameters to try \n",
    "max_ngrams = [1, 2, 3, 4] \n",
    "\n",
    "# default hyperparameters to use \n",
    "EMB_DIM = 100\n",
    "MAX_VOCAB_SIZE = 10000\n",
    "LR = 0.001\n",
    "NUM_EPOCHS = 2 \n",
    "\n",
    "# max_vocab_sizes = [10000, 50000, 100000, 250000, 500000] \n",
    "# emb_dims = [50, 100, 250, 500, 1000]\n",
    "\n",
    "# max_ngrams = [1, 2] \n",
    "# max_vocab_sizes = [250000, 500000] \n",
    "# emb_dims = [500, 1000]"
   ]
  },
  {
   "cell_type": "code",
   "execution_count": null,
   "metadata": {},
   "outputs": [],
   "source": [
    "ngrams_experiments = {}\n",
    "# num_experiments = len(max_ngrams) * len(max_vocab_sizes) * len(emb_dims)\n",
    "\n",
    "# for max_ngram in max_ngrams:\n",
    "#     # load and ngramify tokens from selected tokenization scheme \n",
    "#     train_ngrams, val_ngrams, _ = load_and_ngramify_dataset(SELECT_TOKENIZATION_SCHEME, max_ngram)\n",
    "\n",
    "#     for max_vocab_size in max_vocab_sizes: \n",
    "#         for emb_dim in emb_dims: \n",
    "                  \n",
    "#             # train and evaluate \n",
    "#             results = run_experiment(train_ngrams, val_ngrams, train_labels, val_labels, optimizer=Adam, \n",
    "#                                      learning_rate=0.01, emb_dim=emb_dim, max_vocab_size=max_vocab_size, \n",
    "#                                      max_sentence_length=200, num_epochs=5, batch_size=32, print_results=False)\n",
    "            \n",
    "#             # store to dict and save to pickle \n",
    "#             hyparams = str({'max_ngram': max_ngram, 'max_vocab_size': max_vocab_size, 'emb_dim': emb_dim})\n",
    "#             model_hyparams_experiments[hyparams] = results \n",
    "\n",
    "#             # print and report results of each experiment \n",
    "#             print(\"Experiment [{}/{}]: {} completed with {:.1f}% accuracy\".format(\n",
    "#                 len(model_hyparams_experiments), num_experiments, hyparams, \n",
    "#                 pd.DataFrame.from_dict(results)['val_acc'].max()))\n",
    "\n",
    "# # save results to pickle \n",
    "# current_dt = datetime.now().strftime('%Y-%m-%d_%H_%M_%S')\n",
    "# results_filename = 'experiment_results/model_hyperparameter_experiments_{}.csv'.format(current_dt)\n",
    "# save_to_pickle(model_hyparams_experiments, results_filename) \n",
    "# print(\"Finished: Results saved to {}\".format(results_filename))"
   ]
  },
  {
   "cell_type": "code",
   "execution_count": 196,
   "metadata": {},
   "outputs": [
    {
     "name": "stdout",
     "output_type": "stream",
     "text": [
      "Experiment [1/100]: {'max_ngram': 1, 'max_vocab_size': 10000, 'emb_dim': 50} completed with 84.1% accuracy\n",
      "Experiment [2/100]: {'max_ngram': 1, 'max_vocab_size': 10000, 'emb_dim': 100} completed with 84.2% accuracy\n",
      "Experiment [3/100]: {'max_ngram': 1, 'max_vocab_size': 10000, 'emb_dim': 250} completed with 83.8% accuracy\n",
      "Experiment [4/100]: {'max_ngram': 1, 'max_vocab_size': 10000, 'emb_dim': 500} completed with 83.4% accuracy\n",
      "Experiment [5/100]: {'max_ngram': 1, 'max_vocab_size': 10000, 'emb_dim': 1000} completed with 82.8% accuracy\n",
      "Experiment [6/100]: {'max_ngram': 1, 'max_vocab_size': 50000, 'emb_dim': 50} completed with 83.5% accuracy\n",
      "Experiment [7/100]: {'max_ngram': 1, 'max_vocab_size': 50000, 'emb_dim': 100} completed with 83.5% accuracy\n",
      "Experiment [8/100]: {'max_ngram': 1, 'max_vocab_size': 50000, 'emb_dim': 250} completed with 83.2% accuracy\n",
      "Experiment [9/100]: {'max_ngram': 1, 'max_vocab_size': 50000, 'emb_dim': 500} completed with 82.8% accuracy\n",
      "Experiment [10/100]: {'max_ngram': 1, 'max_vocab_size': 50000, 'emb_dim': 1000} completed with 82.5% accuracy\n",
      "Experiment [11/100]: {'max_ngram': 1, 'max_vocab_size': 100000, 'emb_dim': 50} completed with 84.5% accuracy\n",
      "Experiment [12/100]: {'max_ngram': 1, 'max_vocab_size': 100000, 'emb_dim': 100} completed with 83.9% accuracy\n",
      "Experiment [13/100]: {'max_ngram': 1, 'max_vocab_size': 100000, 'emb_dim': 250} completed with 83.5% accuracy\n",
      "Experiment [14/100]: {'max_ngram': 1, 'max_vocab_size': 100000, 'emb_dim': 500} completed with 82.9% accuracy\n",
      "Experiment [15/100]: {'max_ngram': 1, 'max_vocab_size': 100000, 'emb_dim': 1000} completed with 82.1% accuracy\n",
      "Experiment [16/100]: {'max_ngram': 1, 'max_vocab_size': 250000, 'emb_dim': 50} completed with 84.4% accuracy\n",
      "Experiment [17/100]: {'max_ngram': 1, 'max_vocab_size': 250000, 'emb_dim': 100} completed with 83.9% accuracy\n",
      "Experiment [18/100]: {'max_ngram': 1, 'max_vocab_size': 250000, 'emb_dim': 250} completed with 83.8% accuracy\n",
      "Experiment [19/100]: {'max_ngram': 1, 'max_vocab_size': 250000, 'emb_dim': 500} completed with 83.1% accuracy\n"
     ]
    },
    {
     "ename": "KeyboardInterrupt",
     "evalue": "",
     "output_type": "error",
     "traceback": [
      "\u001b[0;31m---------------------------------------------------------------------------\u001b[0m",
      "\u001b[0;31mKeyboardInterrupt\u001b[0m                         Traceback (most recent call last)",
      "\u001b[0;32m<ipython-input-196-094ca4353ac0>\u001b[0m in \u001b[0;36m<module>\u001b[0;34m()\u001b[0m\n\u001b[1;32m     14\u001b[0m             results = run_experiment(train_ngrams, val_ngrams, train_labels, val_labels, optimizer=Adam, \n\u001b[1;32m     15\u001b[0m                                      \u001b[0mlearning_rate\u001b[0m\u001b[0;34m=\u001b[0m\u001b[0;36m0.01\u001b[0m\u001b[0;34m,\u001b[0m \u001b[0memb_dim\u001b[0m\u001b[0;34m=\u001b[0m\u001b[0memb_dim\u001b[0m\u001b[0;34m,\u001b[0m \u001b[0mmax_vocab_size\u001b[0m\u001b[0;34m=\u001b[0m\u001b[0mmax_vocab_size\u001b[0m\u001b[0;34m,\u001b[0m\u001b[0;34m\u001b[0m\u001b[0m\n\u001b[0;32m---> 16\u001b[0;31m                                      max_sentence_length=200, num_epochs=5, batch_size=32, print_results=False)\n\u001b[0m\u001b[1;32m     17\u001b[0m \u001b[0;34m\u001b[0m\u001b[0m\n\u001b[1;32m     18\u001b[0m             \u001b[0;31m# store to dict and save to pickle\u001b[0m\u001b[0;34m\u001b[0m\u001b[0;34m\u001b[0m\u001b[0m\n",
      "\u001b[0;32m<ipython-input-187-672002b5ec42>\u001b[0m in \u001b[0;36mrun_experiment\u001b[0;34m(train_tokens, val_tokens, train_labels, val_labels, optimizer, learning_rate, emb_dim, max_vocab_size, max_sentence_length, num_epochs, batch_size, print_results)\u001b[0m\n\u001b[1;32m     31\u001b[0m \u001b[0;34m\u001b[0m\u001b[0m\n\u001b[1;32m     32\u001b[0m     \u001b[0;31m# train and evaluate\u001b[0m\u001b[0;34m\u001b[0m\u001b[0;34m\u001b[0m\u001b[0m\n\u001b[0;32m---> 33\u001b[0;31m     \u001b[0mresults\u001b[0m \u001b[0;34m=\u001b[0m \u001b[0mtrain_and_eval\u001b[0m\u001b[0;34m(\u001b[0m\u001b[0mmodel\u001b[0m\u001b[0;34m,\u001b[0m \u001b[0moptim\u001b[0m\u001b[0;34m,\u001b[0m \u001b[0mtrain_loader\u001b[0m\u001b[0;34m,\u001b[0m \u001b[0mval_loader\u001b[0m\u001b[0;34m,\u001b[0m \u001b[0mnum_epochs\u001b[0m\u001b[0;34m,\u001b[0m \u001b[0mprint_results\u001b[0m\u001b[0;34m)\u001b[0m\u001b[0;34m\u001b[0m\u001b[0m\n\u001b[0m\u001b[1;32m     34\u001b[0m \u001b[0;34m\u001b[0m\u001b[0m\n\u001b[1;32m     35\u001b[0m     \u001b[0;32mreturn\u001b[0m \u001b[0mresults\u001b[0m\u001b[0;34m\u001b[0m\u001b[0m\n",
      "\u001b[0;32m<ipython-input-186-cb9de2c8e8cd>\u001b[0m in \u001b[0;36mtrain_and_eval\u001b[0;34m(model, optimizer, train_loader, val_loader, num_epochs, print_results)\u001b[0m\n\u001b[1;32m     20\u001b[0m                 \u001b[0mresult\u001b[0m\u001b[0;34m[\u001b[0m\u001b[0;34m'epoch'\u001b[0m\u001b[0;34m]\u001b[0m \u001b[0;34m=\u001b[0m \u001b[0mepoch\u001b[0m \u001b[0;34m+\u001b[0m \u001b[0mi\u001b[0m \u001b[0;34m/\u001b[0m \u001b[0mlen\u001b[0m\u001b[0;34m(\u001b[0m\u001b[0mtrain_loader\u001b[0m\u001b[0;34m)\u001b[0m\u001b[0;34m\u001b[0m\u001b[0m\n\u001b[1;32m     21\u001b[0m                 \u001b[0mresult\u001b[0m\u001b[0;34m[\u001b[0m\u001b[0;34m'train_acc'\u001b[0m\u001b[0;34m]\u001b[0m \u001b[0;34m=\u001b[0m \u001b[0mtest_model\u001b[0m\u001b[0;34m(\u001b[0m\u001b[0mtrain_loader\u001b[0m\u001b[0;34m,\u001b[0m \u001b[0mmodel\u001b[0m\u001b[0;34m)\u001b[0m\u001b[0;34m\u001b[0m\u001b[0m\n\u001b[0;32m---> 22\u001b[0;31m                 \u001b[0mresult\u001b[0m\u001b[0;34m[\u001b[0m\u001b[0;34m'val_acc'\u001b[0m\u001b[0;34m]\u001b[0m \u001b[0;34m=\u001b[0m \u001b[0mtest_model\u001b[0m\u001b[0;34m(\u001b[0m\u001b[0mval_loader\u001b[0m\u001b[0;34m,\u001b[0m \u001b[0mmodel\u001b[0m\u001b[0;34m)\u001b[0m\u001b[0;34m\u001b[0m\u001b[0m\n\u001b[0m\u001b[1;32m     23\u001b[0m                 \u001b[0mresults\u001b[0m\u001b[0;34m.\u001b[0m\u001b[0mappend\u001b[0m\u001b[0;34m(\u001b[0m\u001b[0mresult\u001b[0m\u001b[0;34m)\u001b[0m\u001b[0;34m\u001b[0m\u001b[0m\n\u001b[1;32m     24\u001b[0m \u001b[0;34m\u001b[0m\u001b[0m\n",
      "\u001b[0;32m<ipython-input-40-679cdda7f5ef>\u001b[0m in \u001b[0;36mtest_model\u001b[0;34m(loader, model)\u001b[0m\n\u001b[1;32m     11\u001b[0m \u001b[0;34m\u001b[0m\u001b[0m\n\u001b[1;32m     12\u001b[0m     \u001b[0;32mfor\u001b[0m \u001b[0mdata_batch\u001b[0m\u001b[0;34m,\u001b[0m \u001b[0mlength_batch\u001b[0m\u001b[0;34m,\u001b[0m \u001b[0mlabel_batch\u001b[0m \u001b[0;32min\u001b[0m \u001b[0mloader\u001b[0m\u001b[0;34m:\u001b[0m\u001b[0;34m\u001b[0m\u001b[0m\n\u001b[0;32m---> 13\u001b[0;31m         \u001b[0moutputs\u001b[0m \u001b[0;34m=\u001b[0m \u001b[0mF\u001b[0m\u001b[0;34m.\u001b[0m\u001b[0msoftmax\u001b[0m\u001b[0;34m(\u001b[0m\u001b[0mmodel\u001b[0m\u001b[0;34m(\u001b[0m\u001b[0mdata_batch\u001b[0m\u001b[0;34m,\u001b[0m \u001b[0mlength_batch\u001b[0m\u001b[0;34m)\u001b[0m\u001b[0;34m,\u001b[0m \u001b[0mdim\u001b[0m\u001b[0;34m=\u001b[0m\u001b[0;36m1\u001b[0m\u001b[0;34m)\u001b[0m\u001b[0;34m\u001b[0m\u001b[0m\n\u001b[0m\u001b[1;32m     14\u001b[0m         \u001b[0mpredictions\u001b[0m \u001b[0;34m=\u001b[0m \u001b[0moutputs\u001b[0m\u001b[0;34m.\u001b[0m\u001b[0mmax\u001b[0m\u001b[0;34m(\u001b[0m\u001b[0;36m1\u001b[0m\u001b[0;34m,\u001b[0m \u001b[0mkeepdim\u001b[0m\u001b[0;34m=\u001b[0m\u001b[0;32mTrue\u001b[0m\u001b[0;34m)\u001b[0m\u001b[0;34m[\u001b[0m\u001b[0;36m1\u001b[0m\u001b[0;34m]\u001b[0m\u001b[0;34m\u001b[0m\u001b[0m\n\u001b[1;32m     15\u001b[0m         \u001b[0mtotal\u001b[0m \u001b[0;34m+=\u001b[0m \u001b[0mlabel_batch\u001b[0m\u001b[0;34m.\u001b[0m\u001b[0msize\u001b[0m\u001b[0;34m(\u001b[0m\u001b[0;36m0\u001b[0m\u001b[0;34m)\u001b[0m\u001b[0;34m\u001b[0m\u001b[0m\n",
      "\u001b[0;32m~/anaconda/envs/nlpclass/lib/python3.6/site-packages/torch/nn/modules/module.py\u001b[0m in \u001b[0;36m__call__\u001b[0;34m(self, *input, **kwargs)\u001b[0m\n\u001b[1;32m    475\u001b[0m             \u001b[0mresult\u001b[0m \u001b[0;34m=\u001b[0m \u001b[0mself\u001b[0m\u001b[0;34m.\u001b[0m\u001b[0m_slow_forward\u001b[0m\u001b[0;34m(\u001b[0m\u001b[0;34m*\u001b[0m\u001b[0minput\u001b[0m\u001b[0;34m,\u001b[0m \u001b[0;34m**\u001b[0m\u001b[0mkwargs\u001b[0m\u001b[0;34m)\u001b[0m\u001b[0;34m\u001b[0m\u001b[0m\n\u001b[1;32m    476\u001b[0m         \u001b[0;32melse\u001b[0m\u001b[0;34m:\u001b[0m\u001b[0;34m\u001b[0m\u001b[0m\n\u001b[0;32m--> 477\u001b[0;31m             \u001b[0mresult\u001b[0m \u001b[0;34m=\u001b[0m \u001b[0mself\u001b[0m\u001b[0;34m.\u001b[0m\u001b[0mforward\u001b[0m\u001b[0;34m(\u001b[0m\u001b[0;34m*\u001b[0m\u001b[0minput\u001b[0m\u001b[0;34m,\u001b[0m \u001b[0;34m**\u001b[0m\u001b[0mkwargs\u001b[0m\u001b[0;34m)\u001b[0m\u001b[0;34m\u001b[0m\u001b[0m\n\u001b[0m\u001b[1;32m    478\u001b[0m         \u001b[0;32mfor\u001b[0m \u001b[0mhook\u001b[0m \u001b[0;32min\u001b[0m \u001b[0mself\u001b[0m\u001b[0;34m.\u001b[0m\u001b[0m_forward_hooks\u001b[0m\u001b[0;34m.\u001b[0m\u001b[0mvalues\u001b[0m\u001b[0;34m(\u001b[0m\u001b[0;34m)\u001b[0m\u001b[0;34m:\u001b[0m\u001b[0;34m\u001b[0m\u001b[0m\n\u001b[1;32m    479\u001b[0m             \u001b[0mhook_result\u001b[0m \u001b[0;34m=\u001b[0m \u001b[0mhook\u001b[0m\u001b[0;34m(\u001b[0m\u001b[0mself\u001b[0m\u001b[0;34m,\u001b[0m \u001b[0minput\u001b[0m\u001b[0;34m,\u001b[0m \u001b[0mresult\u001b[0m\u001b[0;34m)\u001b[0m\u001b[0;34m\u001b[0m\u001b[0m\n",
      "\u001b[0;32m<ipython-input-39-6f71ba51ff07>\u001b[0m in \u001b[0;36mforward\u001b[0;34m(self, data, length)\u001b[0m\n\u001b[1;32m     23\u001b[0m         \"\"\"\n\u001b[1;32m     24\u001b[0m         \u001b[0mout\u001b[0m \u001b[0;34m=\u001b[0m \u001b[0mself\u001b[0m\u001b[0;34m.\u001b[0m\u001b[0membed\u001b[0m\u001b[0;34m(\u001b[0m\u001b[0mdata\u001b[0m\u001b[0;34m)\u001b[0m\u001b[0;34m\u001b[0m\u001b[0m\n\u001b[0;32m---> 25\u001b[0;31m         \u001b[0mout\u001b[0m \u001b[0;34m=\u001b[0m \u001b[0mtorch\u001b[0m\u001b[0;34m.\u001b[0m\u001b[0msum\u001b[0m\u001b[0;34m(\u001b[0m\u001b[0mout\u001b[0m\u001b[0;34m,\u001b[0m \u001b[0mdim\u001b[0m\u001b[0;34m=\u001b[0m\u001b[0;36m1\u001b[0m\u001b[0;34m)\u001b[0m\u001b[0;34m\u001b[0m\u001b[0m\n\u001b[0m\u001b[1;32m     26\u001b[0m         \u001b[0mout\u001b[0m \u001b[0;34m/=\u001b[0m \u001b[0mlength\u001b[0m\u001b[0;34m.\u001b[0m\u001b[0mview\u001b[0m\u001b[0;34m(\u001b[0m\u001b[0mlength\u001b[0m\u001b[0;34m.\u001b[0m\u001b[0msize\u001b[0m\u001b[0;34m(\u001b[0m\u001b[0;34m)\u001b[0m\u001b[0;34m[\u001b[0m\u001b[0;36m0\u001b[0m\u001b[0;34m]\u001b[0m\u001b[0;34m,\u001b[0m\u001b[0;36m1\u001b[0m\u001b[0;34m)\u001b[0m\u001b[0;34m.\u001b[0m\u001b[0mexpand_as\u001b[0m\u001b[0;34m(\u001b[0m\u001b[0mout\u001b[0m\u001b[0;34m)\u001b[0m\u001b[0;34m.\u001b[0m\u001b[0mfloat\u001b[0m\u001b[0;34m(\u001b[0m\u001b[0;34m)\u001b[0m\u001b[0;34m\u001b[0m\u001b[0m\n\u001b[1;32m     27\u001b[0m \u001b[0;34m\u001b[0m\u001b[0m\n",
      "\u001b[0;31mKeyboardInterrupt\u001b[0m: "
     ]
    }
   ],
   "source": [
    "# run grid search on model hyperparameters \n",
    "\n",
    "# model_hyparams_experiments = {}\n",
    "# num_experiments = len(max_ngrams) * len(max_vocab_sizes) * len(emb_dims)\n",
    "\n",
    "# for max_ngram in max_ngrams:\n",
    "#     # load and ngramify tokens from selected tokenization scheme \n",
    "#     train_ngrams, val_ngrams, _ = load_and_ngramify_dataset(SELECT_TOKENIZATION_SCHEME, max_ngram)\n",
    "\n",
    "#     for max_vocab_size in max_vocab_sizes: \n",
    "#         for emb_dim in emb_dims: \n",
    "                  \n",
    "#             # train and evaluate \n",
    "#             results = run_experiment(train_ngrams, val_ngrams, train_labels, val_labels, optimizer=Adam, \n",
    "#                                      learning_rate=0.01, emb_dim=emb_dim, max_vocab_size=max_vocab_size, \n",
    "#                                      max_sentence_length=200, num_epochs=5, batch_size=32, print_results=False)\n",
    "            \n",
    "#             # store to dict and save to pickle \n",
    "#             hyparams = str({'max_ngram': max_ngram, 'max_vocab_size': max_vocab_size, 'emb_dim': emb_dim})\n",
    "#             model_hyparams_experiments[hyparams] = results \n",
    "\n",
    "#             # print and report results of each experiment \n",
    "#             print(\"Experiment [{}/{}]: {} completed with {:.1f}% accuracy\".format(\n",
    "#                 len(model_hyparams_experiments), num_experiments, hyparams, \n",
    "#                 pd.DataFrame.from_dict(results)['val_acc'].max()))\n",
    "\n",
    "# # save results to pickle \n",
    "# current_dt = datetime.now().strftime('%Y-%m-%d_%H_%M_%S')\n",
    "# results_filename = 'experiment_results/model_hyperparameter_experiments_{}.csv'.format(current_dt)\n",
    "# save_to_pickle(model_hyparams_experiments, results_filename) \n",
    "# print(\"Finished: Results saved to {}\".format(results_filename))"
   ]
  },
  {
   "cell_type": "code",
   "execution_count": 176,
   "metadata": {},
   "outputs": [
    {
     "data": {
      "text/html": [
       "<div>\n",
       "<style scoped>\n",
       "    .dataframe tbody tr th:only-of-type {\n",
       "        vertical-align: middle;\n",
       "    }\n",
       "\n",
       "    .dataframe tbody tr th {\n",
       "        vertical-align: top;\n",
       "    }\n",
       "\n",
       "    .dataframe thead th {\n",
       "        text-align: right;\n",
       "    }\n",
       "</style>\n",
       "<table border=\"1\" class=\"dataframe\">\n",
       "  <thead>\n",
       "    <tr style=\"text-align: right;\">\n",
       "      <th></th>\n",
       "      <th>model</th>\n",
       "      <th>max_ngram</th>\n",
       "      <th>max_vocab_size</th>\n",
       "      <th>emb_dim</th>\n",
       "      <th>val_acc</th>\n",
       "    </tr>\n",
       "  </thead>\n",
       "  <tbody>\n",
       "    <tr>\n",
       "      <th>1</th>\n",
       "      <td>{'max_ngram': 1, 'max_vocab_size': 10000, 'emb_dim': 100}</td>\n",
       "      <td>1</td>\n",
       "      <td>10000</td>\n",
       "      <td>100</td>\n",
       "      <td>84.28</td>\n",
       "    </tr>\n",
       "    <tr>\n",
       "      <th>0</th>\n",
       "      <td>{'max_ngram': 1, 'max_vocab_size': 10000, 'emb_dim': 50}</td>\n",
       "      <td>1</td>\n",
       "      <td>10000</td>\n",
       "      <td>50</td>\n",
       "      <td>84.22</td>\n",
       "    </tr>\n",
       "    <tr>\n",
       "      <th>4</th>\n",
       "      <td>{'max_ngram': 2, 'max_vocab_size': 10000, 'emb_dim': 50}</td>\n",
       "      <td>2</td>\n",
       "      <td>10000</td>\n",
       "      <td>50</td>\n",
       "      <td>84.10</td>\n",
       "    </tr>\n",
       "    <tr>\n",
       "      <th>5</th>\n",
       "      <td>{'max_ngram': 2, 'max_vocab_size': 10000, 'emb_dim': 100}</td>\n",
       "      <td>2</td>\n",
       "      <td>10000</td>\n",
       "      <td>100</td>\n",
       "      <td>84.08</td>\n",
       "    </tr>\n",
       "    <tr>\n",
       "      <th>6</th>\n",
       "      <td>{'max_ngram': 2, 'max_vocab_size': 50000, 'emb_dim': 50}</td>\n",
       "      <td>2</td>\n",
       "      <td>50000</td>\n",
       "      <td>50</td>\n",
       "      <td>83.98</td>\n",
       "    </tr>\n",
       "    <tr>\n",
       "      <th>3</th>\n",
       "      <td>{'max_ngram': 1, 'max_vocab_size': 50000, 'emb_dim': 100}</td>\n",
       "      <td>1</td>\n",
       "      <td>50000</td>\n",
       "      <td>100</td>\n",
       "      <td>83.92</td>\n",
       "    </tr>\n",
       "    <tr>\n",
       "      <th>2</th>\n",
       "      <td>{'max_ngram': 1, 'max_vocab_size': 50000, 'emb_dim': 50}</td>\n",
       "      <td>1</td>\n",
       "      <td>50000</td>\n",
       "      <td>50</td>\n",
       "      <td>83.86</td>\n",
       "    </tr>\n",
       "    <tr>\n",
       "      <th>7</th>\n",
       "      <td>{'max_ngram': 2, 'max_vocab_size': 50000, 'emb_dim': 100}</td>\n",
       "      <td>2</td>\n",
       "      <td>50000</td>\n",
       "      <td>100</td>\n",
       "      <td>83.38</td>\n",
       "    </tr>\n",
       "  </tbody>\n",
       "</table>\n",
       "</div>"
      ],
      "text/plain": [
       "                                                       model  max_ngram  \\\n",
       "1  {'max_ngram': 1, 'max_vocab_size': 10000, 'emb_dim': 100}          1   \n",
       "0   {'max_ngram': 1, 'max_vocab_size': 10000, 'emb_dim': 50}          1   \n",
       "4   {'max_ngram': 2, 'max_vocab_size': 10000, 'emb_dim': 50}          2   \n",
       "5  {'max_ngram': 2, 'max_vocab_size': 10000, 'emb_dim': 100}          2   \n",
       "6   {'max_ngram': 2, 'max_vocab_size': 50000, 'emb_dim': 50}          2   \n",
       "3  {'max_ngram': 1, 'max_vocab_size': 50000, 'emb_dim': 100}          1   \n",
       "2   {'max_ngram': 1, 'max_vocab_size': 50000, 'emb_dim': 50}          1   \n",
       "7  {'max_ngram': 2, 'max_vocab_size': 50000, 'emb_dim': 100}          2   \n",
       "\n",
       "   max_vocab_size  emb_dim  val_acc  \n",
       "1           10000      100    84.28  \n",
       "0           10000       50    84.22  \n",
       "4           10000       50    84.10  \n",
       "5           10000      100    84.08  \n",
       "6           50000       50    83.98  \n",
       "3           50000      100    83.92  \n",
       "2           50000       50    83.86  \n",
       "7           50000      100    83.38  "
      ]
     },
     "execution_count": 176,
     "metadata": {},
     "output_type": "execute_result"
    }
   ],
   "source": [
    "results_filename = 'experiment_results/model_hyperparameter_experiments_2018-10-04_22_42_17.csv'\n",
    "model_hyparams_experiments = pkl.load(open(results_filename, \"rb\"))\n",
    "model_hyparams_val_acc = print_val_accuracy(model_hyparams_experiments, split_name=True)  \n",
    "model_hyparams_val_acc"
   ]
  },
  {
   "cell_type": "markdown",
   "metadata": {},
   "source": [
    "### Optimization Hyperparameters "
   ]
  },
  {
   "cell_type": "code",
   "execution_count": 182,
   "metadata": {},
   "outputs": [],
   "source": [
    "optim_algos = {'Adam': Adam, 'SGD': SGD, 'RMSprop': RMSprop}\n",
    "learning_rates = [0.1, 0.01, 0.001]\n",
    "\n",
    "EMB_DIM = 100 \n",
    "MAX_VOCAB_SIZE = 10000 \n",
    "MAX_NGRAM = 2"
   ]
  },
  {
   "cell_type": "code",
   "execution_count": 183,
   "metadata": {},
   "outputs": [],
   "source": [
    "train_ngrams, val_ngrams, _ = load_and_ngramify_dataset(SELECT_TOKENIZATION_SCHEME, max_ngram=MAX_NGRAM)"
   ]
  },
  {
   "cell_type": "code",
   "execution_count": 184,
   "metadata": {},
   "outputs": [
    {
     "name": "stdout",
     "output_type": "stream",
     "text": [
      "Experiment [1/9]: {'optim_algo': 'Adam', 'learning_rate': 0.1} completed with 82.1% accuracy\n",
      "Experiment [2/9]: {'optim_algo': 'Adam', 'learning_rate': 0.01} completed with 84.3% accuracy\n",
      "Experiment [3/9]: {'optim_algo': 'Adam', 'learning_rate': 0.001} completed with 77.3% accuracy\n",
      "Experiment [4/9]: {'optim_algo': 'SGD', 'learning_rate': 0.1} completed with 64.2% accuracy\n",
      "Experiment [5/9]: {'optim_algo': 'SGD', 'learning_rate': 0.01} completed with 58.1% accuracy\n",
      "Experiment [6/9]: {'optim_algo': 'SGD', 'learning_rate': 0.001} completed with 49.7% accuracy\n",
      "Experiment [7/9]: {'optim_algo': 'RMSprop', 'learning_rate': 0.1} completed with 83.9% accuracy\n",
      "Experiment [8/9]: {'optim_algo': 'RMSprop', 'learning_rate': 0.01} completed with 84.0% accuracy\n",
      "Experiment [9/9]: {'optim_algo': 'RMSprop', 'learning_rate': 0.001} completed with 78.4% accuracy\n",
      "Finished: Results saved to experiment_results/optim_hyperparameter_experiments_2018-10-04_23_44_23.csv\n"
     ]
    }
   ],
   "source": [
    "# run grid search on model hyperparameters \n",
    "\n",
    "optim_hyparams_experiments = {}\n",
    "num_experiments = len(optim_algos) * len(learning_rates)\n",
    "\n",
    "for algo in optim_algos: \n",
    "    for lr in learning_rates: \n",
    "\n",
    "        # train and evaluate \n",
    "        results = run_experiment(train_ngrams, val_ngrams, train_labels, val_labels, optimizer=optim_algos[algo], \n",
    "                                 learning_rate=lr, emb_dim=EMB_DIM, max_vocab_size=MAX_VOCAB_SIZE, \n",
    "                                 max_sentence_length=200, num_epochs=1, batch_size=32, print_results=False)\n",
    "\n",
    "        # store to dict and save to pickle \n",
    "        hyparams = str({'optim_algo': algo, 'learning_rate': lr})\n",
    "        optim_hyparams_experiments[hyparams] = results \n",
    "\n",
    "        # print and report results of each experiment \n",
    "        print(\"Experiment [{}/{}]: {} completed with {:.1f}% accuracy\".format(\n",
    "            len(optim_hyparams_experiments), num_experiments, hyparams, \n",
    "            pd.DataFrame.from_dict(results)['val_acc'].max()))\n",
    "\n",
    "# save results to pickle \n",
    "current_dt = datetime.now().strftime('%Y-%m-%d_%H_%M_%S')\n",
    "results_filename = 'experiment_results/optim_hyperparameter_experiments_{}.csv'.format(current_dt)\n",
    "save_to_pickle(optim_hyparams_experiments, results_filename) \n",
    "print(\"Finished: Results saved to {}\".format(results_filename))"
   ]
  },
  {
   "cell_type": "code",
   "execution_count": null,
   "metadata": {},
   "outputs": [],
   "source": []
  }
 ],
 "metadata": {
  "kernelspec": {
   "display_name": "Python 3",
   "language": "python",
   "name": "python3"
  },
  "language_info": {
   "codemirror_mode": {
    "name": "ipython",
    "version": 3
   },
   "file_extension": ".py",
   "mimetype": "text/x-python",
   "name": "python",
   "nbconvert_exporter": "python",
   "pygments_lexer": "ipython3",
   "version": "3.6.6"
  }
 },
 "nbformat": 4,
 "nbformat_minor": 2
}
